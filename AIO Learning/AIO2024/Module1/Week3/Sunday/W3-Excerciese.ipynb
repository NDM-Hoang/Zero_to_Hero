{
 "cells": [
  {
   "cell_type": "markdown",
   "metadata": {},
   "source": [
    "#### **1. Viết class và cài phương thức softmax.**\n",
    "```markdown\n",
    "Trong pytorch, torch.nn.Module là lớp cơ bản để từ đó xây dựng lên các mô hình hoặc các phươngbthức kích hoạt (activation funtion) như sigmoid, softmax,... Trong phần này, chúng ta xây dựng class Softmax và softmax_stable nhận đầu vào là mảng 1 chiều (tensor 1 chiều) dựa vào kế thừa từ lớp Module và ghi đè vào phương thức forward() theo công thức sau đây:\n",
    "```\n",
    "<div align=\"center\">\n",
    "\n",
    "$softmax(x_i) = \\frac{exp(x_i)}{\\sum_{j=1}^n exp(x_j)}$\n",
    "\n",
    "$softmax\\_stable(x_i) = \\frac{exp(x_i - c)}{\\sum_{j=1}^n exp(x_j - c)}$\n",
    "\n",
    "với $c = max(x)$\n",
    "\n",
    "</div>\n"
   ]
  },
  {
   "cell_type": "code",
   "execution_count": 36,
   "metadata": {},
   "outputs": [
    {
     "name": "stdout",
     "output_type": "stream",
     "text": [
      "tensor([0.0900, 0.2447, 0.6652])\n",
      "tensor([0.0900, 0.2447, 0.6652])\n"
     ]
    }
   ],
   "source": [
    "import torch\n",
    "import torch.nn as nn\n",
    "\n",
    "class MySoftmax(nn.Module):\n",
    "    def __init__(self):\n",
    "        super().__init__()\n",
    "\n",
    "    def forward(self, x):\n",
    "        exps = torch.exp(x)\n",
    "        sum_exps = torch.sum(exps)\n",
    "        return exps / sum_exps\n",
    "\n",
    "class MySoftmaxStable(nn.Module):\n",
    "    def __init__(self):\n",
    "        super().__init__()\n",
    "\n",
    "    def forward(self, x):\n",
    "        c = torch.max(x)\n",
    "        exps = torch.exp(x - c)\n",
    "        sum_exps = torch.sum(exps)\n",
    "        return exps / sum_exps\n",
    "\n",
    "data = torch.Tensor([1, 2, 3])\n",
    "softmax = MySoftmax()\n",
    "output = softmax(data)\n",
    "print(output)\n",
    "\n",
    "softmax_stable = MySoftmaxStable()\n",
    "output = softmax_stable(data)\n",
    "print(output)\n",
    "\n"
   ]
  },
  {
   "cell_type": "markdown",
   "metadata": {},
   "source": [
    "##### **2. Một Ward (phường) gồm có name (string) và danh sách của mọi người trong Ward. Một người person có thể là student, doctor, hoặc teacher. Một student gồm có name, yob (int) (năm sinh), và grade (string). Một teacher gồm có name, yob, và subject (string). Một doctor gồm có name, yob, và specialist (string). Lưu ý cần sử dụng một list để chứa danh sách của mọi người trong Ward.**\n",
    " ```markdown\n",
    "(a) Cài đặt các class Student, Doctor, và Teacher theo mô tả trên. Thực hiện phương thức describe() method để in ra tất cả thông tin của các object.\n",
    "\n",
    "(b) Viết add_person(person) method trong Ward class để add thêm một người mới với nghề nghiệp bất kỳ (student, teacher, doctor) vào danh sách người của ward. Tạo ra một ward object, và thêm vào 1 student, 2 teacher, và 2 doctor. Thực hiện describe() method để in ra tên ward (name) và toàn bộ thông tin của từng người trong ward.\n",
    "\n",
    "(c) Viết count_doctor() method để đếm số lượng doctor trong ward.\n",
    "\n",
    "(d) Viết sort_age() method để sort mọi người trong ward theo tuổi của họ với thứ tự tăng dần. (hint: Có thể sử dụng sort của list hoặc viết thêm function đều được)\n",
    "\n",
    "(e) Viết compute_average() method để tính trung bình năm sinh của các teachers trong ward."
   ]
  },
  {
   "cell_type": "code",
   "execution_count": 37,
   "metadata": {},
   "outputs": [],
   "source": [
    "from abc import ABC, abstractmethod\n",
    "class Person():\n",
    "    def __init__(self, name, yob):\n",
    "        self.name = name\n",
    "        self.yob = yob\n",
    "\n",
    "    @abstractmethod\n",
    "    def describe(self):\n",
    "        pass\n",
    "\n",
    "class Student(Person):\n",
    "    def __init__(self, name, yob, grade):\n",
    "        super().__init__(name, yob)\n",
    "        self.grade = grade\n",
    "    \n",
    "    def describe(self):\n",
    "        print(f\"Student - Name: {self.name}, Yob: {self.yob}, Grade: {self.grade}\")\n",
    "\n",
    "class Teacher(Person):\n",
    "    def __init__(self, name, yob, subject):\n",
    "        super().__init__(name, yob)\n",
    "        self.subject = subject\n",
    "        \n",
    "    def describe(self):\n",
    "        print(f\"Teacher - Name: {self.name}, Yob: {self.yob}, Subject: {self.subject}\")\n",
    "\n",
    "class Doctor(Person):\n",
    "    def __init__(self, name, yob, specialist):\n",
    "        super().__init__(name, yob)\n",
    "        self.specialist = specialist\n",
    "    \n",
    "    def describe(self):\n",
    "        print(f\"Doctor - Name: {self.name}, Yob: {self.yob}, Specialist: {self.specialist}\")\n",
    "\n",
    "class Ward():\n",
    "    def __init__(self, name):\n",
    "        self.name = name\n",
    "        self.people = []\n",
    "    \n",
    "    def add_person(self, person):\n",
    "        self.people.append(person)\n",
    "    \n",
    "    def describe(self):\n",
    "        print(f\"Ward - Name: {self.name}\")\n",
    "        for person in self.people:\n",
    "            person.describe()\n",
    "\n",
    "    def count_doctor(self):\n",
    "        return sum(isinstance(person, Doctor) for person in self.people)\n",
    "    \n",
    "    def sort_age(self):\n",
    "        self.people.sort(key=lambda x: x.yob, reverse=True)\n",
    "\n",
    "    def compute_teacher_average(self):\n",
    "        sum_yob = 0\n",
    "        count = 0\n",
    "        for person in self.people:\n",
    "            if isinstance(person, Teacher):\n",
    "                sum_yob += person.yob\n",
    "                count += 1\n",
    "        return sum_yob / count\n"
   ]
  },
  {
   "cell_type": "code",
   "execution_count": 38,
   "metadata": {},
   "outputs": [
    {
     "name": "stdout",
     "output_type": "stream",
     "text": [
      "Student - Name: Student A, Yob: 2000, Grade: 7\n",
      "Teacher - Name: Teacher A, Yob: 1995, Subject: Math\n",
      "Doctor - Name: Doctor A, Yob: 1975, Specialist: Heart\n"
     ]
    }
   ],
   "source": [
    "# a)\n",
    "student1 = Student(\"Student A\", 2000, 7)\n",
    "student1.describe()\n",
    "teacher1 = Teacher(\"Teacher A\", 1995, \"Math\")\n",
    "teacher1.describe()\n",
    "doctor1 = Doctor(\"Doctor A\", 1975, \"Heart\")\n",
    "doctor1.describe()"
   ]
  },
  {
   "cell_type": "code",
   "execution_count": 39,
   "metadata": {},
   "outputs": [
    {
     "name": "stdout",
     "output_type": "stream",
     "text": [
      "Ward - Name: Ward 1\n",
      "Student - Name: Student A, Yob: 2000, Grade: 7\n",
      "Teacher - Name: Teacher A, Yob: 1995, Subject: Math\n",
      "Doctor - Name: Doctor A, Yob: 1975, Specialist: Heart\n",
      "Teacher - Name: Teacher B, Yob: 1969, Subject: English\n",
      "Doctor - Name: Doctor B, Yob: 1970, Specialist: Brain\n"
     ]
    }
   ],
   "source": [
    "# b)\n",
    "teacher2 = Teacher(\"Teacher B\", 1969, \"English\")\n",
    "doctor2 = Doctor(\"Doctor B\", 1970, \"Brain\")\n",
    "ward1 = Ward(\"Ward 1\")\n",
    "ward1.add_person(student1)\n",
    "ward1.add_person(teacher1)\n",
    "ward1.add_person(doctor1)\n",
    "ward1.add_person(teacher2)\n",
    "ward1.add_person(doctor2)\n",
    "ward1.describe()"
   ]
  },
  {
   "cell_type": "code",
   "execution_count": 40,
   "metadata": {},
   "outputs": [
    {
     "name": "stdout",
     "output_type": "stream",
     "text": [
      "Number of doctors: 2\n"
     ]
    }
   ],
   "source": [
    "# c)\n",
    "print(\"Number of doctors:\", ward1.count_doctor())"
   ]
  },
  {
   "cell_type": "code",
   "execution_count": 41,
   "metadata": {},
   "outputs": [
    {
     "name": "stdout",
     "output_type": "stream",
     "text": [
      "Ward - Name: Ward 1\n",
      "Student - Name: Student A, Yob: 2000, Grade: 7\n",
      "Teacher - Name: Teacher A, Yob: 1995, Subject: Math\n",
      "Doctor - Name: Doctor A, Yob: 1975, Specialist: Heart\n",
      "Doctor - Name: Doctor B, Yob: 1970, Specialist: Brain\n",
      "Teacher - Name: Teacher B, Yob: 1969, Subject: English\n"
     ]
    }
   ],
   "source": [
    "# d)\n",
    "ward1.sort_age()\n",
    "ward1.describe()"
   ]
  },
  {
   "cell_type": "code",
   "execution_count": 42,
   "metadata": {},
   "outputs": [
    {
     "name": "stdout",
     "output_type": "stream",
     "text": [
      "Average year of birth of teachers: 1982.0\n"
     ]
    }
   ],
   "source": [
    "# e)\n",
    "print(\"Average year of birth of teachers:\", ward1.compute_teacher_average())"
   ]
  },
  {
   "cell_type": "markdown",
   "metadata": {},
   "source": [
    "##### **3. Thực hiện xây dựng class Stack với các phương thức (method) sau đây:**\n",
    "\n",
    "•**initialization** method nhận một input \"capacity\": dùng để khởi tạo stack với capacity là số lượng element mà stack có thể chứa\n",
    "\n",
    "•**.is_empty()**: kiểm tra stack có đang rỗng\n",
    "\n",
    "•**.is_full()**: kiểm tra stack đã full chưa\n",
    "\n",
    "•**.pop()**: loại bỏ top element và trả về giá trị đó\n",
    "\n",
    "•**.push(value)**: add thêm value vào trong stack\n",
    "\n",
    "•**.top()**: lấy giá trị top element hiện tại của stack, nhưng không loại bỏ giá trị đó"
   ]
  },
  {
   "cell_type": "code",
   "execution_count": 44,
   "metadata": {},
   "outputs": [
    {
     "name": "stdout",
     "output_type": "stream",
     "text": [
      "stack1.is_full(): False\n",
      "stack1.is_full(): True\n",
      "Stack is full\n",
      "stack1.top(): 5\n",
      "stack1.pop(): 5\n",
      "stack1.pop(): 4\n",
      "stack1.top(): 3\n",
      "stack1.pop(): 3\n",
      "stack1.pop(): 2\n",
      "stack1.pop(): 1\n",
      "stack1.is_empty(): True\n"
     ]
    }
   ],
   "source": [
    "class MyStack:\n",
    "    def __init__(self, capacity):\n",
    "        self.capacity = capacity\n",
    "        self.items = []\n",
    "\n",
    "    def is_empty(self):\n",
    "        return len(self.items) == 0\n",
    "\n",
    "    def is_full(self):\n",
    "        return len(self.items) == self.capacity\n",
    "\n",
    "    def pop(self):\n",
    "        if self.is_empty():\n",
    "            return None\n",
    "        return self.items.pop()\n",
    "\n",
    "    def push(self, value):\n",
    "        if self.is_full():\n",
    "            return print(\"Stack is full\")\n",
    "        self.items.append(value)\n",
    "\n",
    "    def top(self):\n",
    "        if self.is_empty():\n",
    "            return print(\"Stack is empty\")\n",
    "        return self.items[-1]\n",
    "\n",
    "stack1 = MyStack(5)\n",
    "stack1.push(1)\n",
    "stack1.push(2)\n",
    "print(\"stack1.is_full():\", stack1.is_full())\n",
    "stack1.push(3)\n",
    "stack1.push(4)\n",
    "stack1.push(5)\n",
    "print(\"stack1.is_full():\", stack1.is_full())\n",
    "stack1.push(6)\n",
    "print(\"stack1.top():\", stack1.top())\n",
    "print(\"stack1.pop():\", stack1.pop())\n",
    "print(\"stack1.pop():\", stack1.pop())\n",
    "print(\"stack1.top():\", stack1.top())\n",
    "print(\"stack1.pop():\", stack1.pop())\n",
    "print(\"stack1.pop():\", stack1.pop())\n",
    "print(\"stack1.pop():\", stack1.pop())\n",
    "print(\"stack1.is_empty():\", stack1.is_empty())\n"
   ]
  },
  {
   "cell_type": "markdown",
   "metadata": {},
   "source": [
    "##### **4. Thực hiện xây dựng class Queue với các chức năng (method) sau đây**\n",
    "\n",
    "•**initialization** method nhận một input \"capacity\": dùng để khởi tạo queue với capacity là\n",
    "số lượng element mà queue có thể chứa\n",
    "\n",
    "•**.is_empty()**: kiểm tra queue có đang rỗng\n",
    "\n",
    "•**.is_full()**: kiểm tra queue đã full chưa\n",
    "\n",
    "•**.dequeue()**: loại bỏ first element và trả về giá trị đó\n",
    "\n",
    "•**.enqueue(value)**: add thêm value vào trong queue\n",
    "\n",
    "•**.front()**: lấy giá trị first element hiện tại của queue, nhưng không loại bỏ giá trị đó\n"
   ]
  },
  {
   "cell_type": "code",
   "execution_count": 45,
   "metadata": {},
   "outputs": [
    {
     "name": "stdout",
     "output_type": "stream",
     "text": [
      "queue1.is_full(): False\n",
      "queue1.is_full(): True\n",
      "queue1.front(): 1\n",
      "queue1.dequeue(): 1\n",
      "queue1.front(): 2\n",
      "queue1.dequeue(): 2\n",
      "queue1.front(): 3\n",
      "queue1.dequeue(): 3\n",
      "queue1.is_empty(): False\n",
      "Queue is empty\n",
      "Queue is empty\n"
     ]
    }
   ],
   "source": [
    "class MyQueue:\n",
    "    def __init__(self, capacity):\n",
    "        self.capacity = capacity\n",
    "        self.items = []\n",
    "\n",
    "    def is_empty(self):\n",
    "        return len(self.items) == 0\n",
    "\n",
    "    def is_full(self):\n",
    "        return len(self.items) == self.capacity\n",
    "\n",
    "    def dequeue(self):\n",
    "        if self.is_empty():\n",
    "            return print(\"Queue is empty\")\n",
    "        return self.items.pop(0)\n",
    "\n",
    "    def enqueue(self, value):\n",
    "        if self.is_full():\n",
    "            return print(\"Queue is full\")\n",
    "        self.items.append(value)\n",
    "    \n",
    "    def front(self):\n",
    "        if self.is_empty():\n",
    "            return print(\"Queue is empty\")\n",
    "        return self.items[0]\n",
    "    \n",
    "queue1 = MyQueue(5)\n",
    "queue1.enqueue(1)\n",
    "queue1.enqueue(2)\n",
    "print(\"queue1.is_full():\", queue1.is_full())\n",
    "queue1.enqueue(3)\n",
    "queue1.enqueue(4)\n",
    "queue1.enqueue(5)\n",
    "print(\"queue1.is_full():\", queue1.is_full())\n",
    "print(\"queue1.front():\", queue1.front())\n",
    "print(\"queue1.dequeue():\", queue1.dequeue())\n",
    "print(\"queue1.front():\", queue1.front())\n",
    "print(\"queue1.dequeue():\", queue1.dequeue())\n",
    "print(\"queue1.front():\", queue1.front())\n",
    "print(\"queue1.dequeue():\", queue1.dequeue())\n",
    "print(\"queue1.is_empty():\", queue1.is_empty())\n",
    "queue1.dequeue()\n",
    "queue1.dequeue()\n",
    "queue1.dequeue()"
   ]
  }
 ],
 "metadata": {
  "kernelspec": {
   "display_name": "Python 3",
   "language": "python",
   "name": "python3"
  },
  "language_info": {
   "codemirror_mode": {
    "name": "ipython",
    "version": 3
   },
   "file_extension": ".py",
   "mimetype": "text/x-python",
   "name": "python",
   "nbconvert_exporter": "python",
   "pygments_lexer": "ipython3",
   "version": "3.12.9"
  }
 },
 "nbformat": 4,
 "nbformat_minor": 2
}
