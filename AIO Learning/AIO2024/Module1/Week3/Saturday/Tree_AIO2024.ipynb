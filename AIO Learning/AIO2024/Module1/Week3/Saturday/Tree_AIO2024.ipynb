{
  "cells": [
    {
      "cell_type": "code",
      "execution_count": 1,
      "metadata": {
        "colab": {
          "base_uri": "https://localhost:8080/"
        },
        "id": "oLza5AwxBC_e",
        "outputId": "5d53c389-85d6-423e-c037-65295d5402e9"
      },
      "outputs": [
        {
          "name": "stdout",
          "output_type": "stream",
          "text": [
            "Initial queue\n",
            "['a', 'b', 'c']\n",
            "\n",
            "Elements dequeued from queue\n",
            "a\n",
            "b\n",
            "c\n",
            "\n",
            "Queue after removing elements\n",
            "[]\n"
          ]
        }
      ],
      "source": [
        "queue = []\n",
        "queue.append('a')\n",
        "queue.append('b')\n",
        "queue.append('c')\n",
        "print(\"Initial queue\")\n",
        "print(queue)\n",
        "print(\"\\nElements dequeued from queue\")\n",
        "print(queue.pop(0))\n",
        "print(queue.pop(0))\n",
        "print(queue.pop(0))\n",
        "print(\"\\nQueue after removing elements\")\n",
        "print(queue)\n"
      ]
    },
    {
      "cell_type": "code",
      "execution_count": 2,
      "metadata": {
        "colab": {
          "base_uri": "https://localhost:8080/"
        },
        "id": "dgHT8sIBBp3h",
        "outputId": "cc3f7a83-f2fb-4960-cd61-3d8172028c43"
      },
      "outputs": [
        {
          "name": "stdout",
          "output_type": "stream",
          "text": [
            "Initial queue\n",
            "deque(['a', 'b', 'c'])\n",
            "\n",
            "Elements dequeued from the queue\n",
            "a\n",
            "deque(['b', 'c'])\n",
            "b\n",
            "deque(['c'])\n",
            "c\n",
            "\n",
            "Queue after removing elements\n",
            "deque([])\n"
          ]
        }
      ],
      "source": [
        "from collections import deque\n",
        "q = deque()\n",
        "q.append('a')\n",
        "q.append('b')\n",
        "q.append('c')\n",
        "print(\"Initial queue\")\n",
        "print(q)\n",
        "print(\"\\nElements dequeued from the queue\")\n",
        "print(q.popleft())\n",
        "print(q)\n",
        "print(q.popleft())\n",
        "print(q)\n",
        "print(q.popleft())\n",
        "\n",
        "print(\"\\nQueue after removing elements\")\n",
        "print(q)\n"
      ]
    },
    {
      "cell_type": "code",
      "execution_count": 3,
      "metadata": {
        "colab": {
          "base_uri": "https://localhost:8080/"
        },
        "id": "A7vEGUq-B2xN",
        "outputId": "5c53d1be-fe0a-4a98-fb96-7a957d6451ec"
      },
      "outputs": [
        {
          "name": "stdout",
          "output_type": "stream",
          "text": [
            "0\n",
            "Queue object: deque(['a', 'b', 'c'])\n",
            "\n",
            "Full:  True\n",
            "\n",
            "Elements dequeued from the queue\n",
            "a\n",
            "Queue object: deque(['b', 'c'])\n",
            "b\n",
            "Queue object: deque(['c'])\n",
            "c\n",
            "\n",
            "Empty:  True\n",
            "\n",
            "Empty:  False\n",
            "Full:  False\n"
          ]
        }
      ],
      "source": [
        "from queue import Queue\n",
        "q = Queue(maxsize = 3)\n",
        "print(q.qsize())\n",
        "q.put('a')\n",
        "q.put('b')\n",
        "q.put('c')\n",
        "\n",
        "print(\"Queue object:\", q.queue)\n",
        "print(\"\\nFull: \", q.full())\n",
        "print(\"\\nElements dequeued from the queue\")\n",
        "print(q.get())\n",
        "print(\"Queue object:\", q.queue)\n",
        "print(q.get())\n",
        "print(\"Queue object:\", q.queue)\n",
        "print(q.get())\n",
        "print(\"\\nEmpty: \", q.empty())\n",
        "q.put(1)\n",
        "print(\"\\nEmpty: \", q.empty())\n",
        "print(\"Full: \", q.full())\n"
      ]
    },
    {
      "cell_type": "code",
      "execution_count": 4,
      "metadata": {
        "id": "6c0Tka3n8KrZ"
      },
      "outputs": [],
      "source": [
        "class TreeNode:\n",
        "    def __init__(self, data):\n",
        "        self.data = data\n",
        "        self.children = []\n",
        "        self.parent = None\n",
        "\n",
        "    def add_child(self, child):\n",
        "        child.parent = self\n",
        "        self.children.append(child)\n",
        "\n",
        "    def get_level(self): #to get level of each node\n",
        "        level =0\n",
        "        p = self.parent\n",
        "        while p:\n",
        "            level += 1\n",
        "            p = p.parent\n",
        "\n",
        "        return level\n",
        "    def print_tree(self):\n",
        "        space = ' ' * self.get_level() * 3\n",
        "        prefix = space + '|__' if self.parent else ''\n",
        "        print(prefix + self.data)#add prefix\n",
        "        if self.children:\n",
        "            for child in self.children:\n",
        "                child.print_tree()"
      ]
    },
    {
      "cell_type": "code",
      "execution_count": 5,
      "metadata": {
        "id": "IDW43KbV841R"
      },
      "outputs": [],
      "source": [
        "def create_tree():\n",
        "  a_node = TreeNode(\"A\")\n",
        "  b_node = TreeNode(\"B\")\n",
        "  c_node = TreeNode(\"C\")\n",
        "  d_node = TreeNode(\"D\")\n",
        "  e_node = TreeNode(\"E\")\n",
        "  f_node = TreeNode(\"F\")\n",
        "  g_node = TreeNode(\"G\")\n",
        "\n",
        "  a_node.add_child(b_node)\n",
        "  a_node.add_child(c_node)\n",
        "\n",
        "  b_node.add_child(d_node)\n",
        "  b_node.add_child(e_node)\n",
        "\n",
        "  c_node.add_child(f_node)\n",
        "  c_node.add_child(g_node)\n",
        "  return a_node"
      ]
    },
    {
      "cell_type": "code",
      "execution_count": 6,
      "metadata": {
        "colab": {
          "base_uri": "https://localhost:8080/"
        },
        "id": "HASwYgP3vtiA",
        "outputId": "974a6a3a-1dfe-4b50-aaf3-439d43c803a8"
      },
      "outputs": [
        {
          "name": "stdout",
          "output_type": "stream",
          "text": [
            "A\n",
            "   |__B\n",
            "      |__D\n",
            "      |__E\n",
            "   |__C\n",
            "      |__F\n",
            "      |__G\n"
          ]
        }
      ],
      "source": [
        "tree = create_tree()\n",
        "tree.print_tree()"
      ]
    },
    {
      "cell_type": "code",
      "execution_count": 7,
      "metadata": {
        "id": "FfQTj7flwVu1"
      },
      "outputs": [],
      "source": [
        "class Node:\n",
        "    def __init__(self, key):\n",
        "        self.left = None\n",
        "        self.right = None\n",
        "        self.val = key"
      ]
    },
    {
      "cell_type": "code",
      "execution_count": 8,
      "metadata": {
        "id": "faqx_0MHxyjf"
      },
      "outputs": [],
      "source": [
        "a_node = Node(\"A\")\n",
        "b_node = Node(\"B\")\n",
        "c_node = Node(\"C\")"
      ]
    },
    {
      "cell_type": "code",
      "execution_count": 9,
      "metadata": {
        "colab": {
          "base_uri": "https://localhost:8080/"
        },
        "id": "wn93n6kBzggK",
        "outputId": "f2c8ad96-33cd-49f5-8fed-7aff358dcde7"
      },
      "outputs": [
        {
          "name": "stdout",
          "output_type": "stream",
          "text": [
            "Preorder traversal: 10 20 40 30 \n",
            "Inorder traversal: 40 20 10 30 \n",
            "Postorder traversal: 40 20 30 10 \n",
            "Level order traversal: 10 20 30 40 \n",
            "Inorder traversal after deletion: 40 10 30 "
          ]
        }
      ],
      "source": [
        "from collections import deque\n",
        "\n",
        "# Node class to define the structure of the node\n",
        "class Node:\n",
        "    def __init__(self, val):\n",
        "        self.data = val\n",
        "        self.left = self.right = None\n",
        "\n",
        "# Function to insert nodes\n",
        "def insert(root, data):\n",
        "    # If tree is empty, new node becomes the root\n",
        "    if root is None:\n",
        "        root = Node(data)\n",
        "        return root\n",
        "\n",
        "    # Queue to traverse the tree and find the position to insert the node\n",
        "    q = deque()\n",
        "    q.append(root)\n",
        "    while q:\n",
        "        temp = q.popleft()\n",
        "        # Insert node as the left child of the parent node\n",
        "        if temp.left is None:\n",
        "            temp.left = Node(data)\n",
        "            break\n",
        "        # If the left child is not null push it to the queue\n",
        "        else:\n",
        "            q.append(temp.left)\n",
        "        # Insert node as the right child of parent node\n",
        "        if temp.right is None:\n",
        "            temp.right = Node(data)\n",
        "            break\n",
        "        # If the right child is not null push it to the queue\n",
        "        else:\n",
        "            q.append(temp.right)\n",
        "    return root\n",
        "\n",
        "# Function to delete the given deepest node (d_node) in binary tree\n",
        "def deletDeepest(root, d_node):\n",
        "    q = deque()\n",
        "    q.append(root)\n",
        "    # Do level order traversal until last node\n",
        "    while q:\n",
        "        temp = q.popleft()\n",
        "        if temp == d_node:\n",
        "            temp = None\n",
        "            del d_node\n",
        "            return\n",
        "        if temp.right:\n",
        "            if temp.right == d_node:\n",
        "                temp.right = None\n",
        "                del d_node\n",
        "                return\n",
        "            else:\n",
        "                q.append(temp.right)\n",
        "        if temp.left:\n",
        "            if temp.left == d_node:\n",
        "                temp.left = None\n",
        "                del d_node\n",
        "                return\n",
        "            else:\n",
        "                q.append(temp.left)\n",
        "\n",
        "# Function to delete element in binary tree\n",
        "def deletion(root, key):\n",
        "    if not root:\n",
        "        return None\n",
        "    if root.left is None and root.right is None:\n",
        "        if root.data == key:\n",
        "            return None\n",
        "        else:\n",
        "            return root\n",
        "\n",
        "    q = deque()\n",
        "    q.append(root)\n",
        "    temp = None\n",
        "    key_node = None\n",
        "    # Do level order traversal to find deepest node (temp) and node to be deleted (key_node)\n",
        "    while q:\n",
        "        temp = q.popleft()\n",
        "        if temp.data == key:\n",
        "            key_node = temp\n",
        "        if temp.left:\n",
        "            q.append(temp.left)\n",
        "        if temp.right:\n",
        "            q.append(temp.right)\n",
        "\n",
        "    if key_node is not None:\n",
        "        x = temp.data\n",
        "        key_node.data = x\n",
        "        deletDeepest(root, temp)\n",
        "    return root\n",
        "\n",
        "# Inorder tree traversal (Left - Root - Right)\n",
        "def inorderTraversal(root):\n",
        "    if not root:\n",
        "        return\n",
        "    inorderTraversal(root.left)\n",
        "    print(root.data, end=\" \")\n",
        "    inorderTraversal(root.right)\n",
        "\n",
        "# Preorder tree traversal (Root - Left - Right)\n",
        "def preorderTraversal(root):\n",
        "    if not root:\n",
        "        return\n",
        "    print(root.data, end=\" \")\n",
        "    preorderTraversal(root.left)\n",
        "    preorderTraversal(root.right)\n",
        "\n",
        "# Postorder tree traversal (Left - Right - Root)\n",
        "def postorderTraversal(root):\n",
        "    if root is None:\n",
        "        return\n",
        "    postorderTraversal(root.left)\n",
        "    postorderTraversal(root.right)\n",
        "    print(root.data, end=\" \")\n",
        "\n",
        "# Function for Level order tree traversal\n",
        "def levelorderTraversal(root):\n",
        "    if root is None:\n",
        "        return\n",
        "\n",
        "    # Queue for level order traversal\n",
        "    q = deque()\n",
        "    q.append(root)\n",
        "    while q:\n",
        "        temp = q.popleft()\n",
        "        print(temp.data, end=\" \")\n",
        "        # Push left child in the queue\n",
        "        if temp.left:\n",
        "            q.append(temp.left)\n",
        "        # Push right child in the queue\n",
        "        if temp.right:\n",
        "            q.append(temp.right)\n",
        "\n",
        "# Driver function to check the above algorithm\n",
        "if __name__ == \"__main__\":\n",
        "    root = None\n",
        "    # Insertion of nodes\n",
        "    root = insert(root, 10)\n",
        "    root = insert(root, 20)\n",
        "    root = insert(root, 30)\n",
        "    root = insert(root, 40)\n",
        "\n",
        "    print(\"Preorder traversal:\", end=\" \")\n",
        "    preorderTraversal(root)\n",
        "\n",
        "    print(\"\\nInorder traversal:\", end=\" \")\n",
        "    inorderTraversal(root)\n",
        "\n",
        "    print(\"\\nPostorder traversal:\", end=\" \")\n",
        "    postorderTraversal(root)\n",
        "\n",
        "    print(\"\\nLevel order traversal:\", end=\" \")\n",
        "    levelorderTraversal(root)\n",
        "\n",
        "    # Delete the node with data = 20\n",
        "    root = deletion(root, 20)\n",
        "\n",
        "    print(\"\\nInorder traversal after deletion:\", end=\" \")\n",
        "    inorderTraversal(root)\n"
      ]
    },
    {
      "cell_type": "markdown",
      "metadata": {},
      "source": [
        "Ví dụ với cây sau:\n",
        "\n",
        "```markdown\n",
        "       1\n",
        "     /   \\\n",
        "    2     3\n",
        "   / \\   / \\\n",
        "  4   5 6   7\n",
        "\n",
        "Kết quả duyệt:\n",
        "\n",
        "Inorder: 4 2 5 1 6 3 7\n",
        "\n",
        "Preorder: 1 2 4 5 3 6 7\n",
        "\n",
        "Postorder: 4 5 2 6 7 3 1\n",
        "\n",
        "Level-order: 1 2 3 4 5 6 7"
      ]
    },
    {
      "cell_type": "code",
      "execution_count": 10,
      "metadata": {
        "colab": {
          "base_uri": "https://localhost:8080/"
        },
        "id": "2VoWd-XOvJH8",
        "outputId": "3f835294-7bd7-41c3-db5b-6c729a0bbd7f"
      },
      "outputs": [
        {
          "name": "stdout",
          "output_type": "stream",
          "text": [
            "\n",
            "Inserting 6 into the binary tree.\n"
          ]
        }
      ],
      "source": [
        "from graphviz import Graph\n",
        "\n",
        "class TreeNode:\n",
        "    def __init__(self, key):\n",
        "        self.left = None\n",
        "        self.right = None\n",
        "        self.val = key\n",
        "\n",
        "def insert_node(root, key):\n",
        "    # Create a new node\n",
        "    new_node = TreeNode(key)\n",
        "\n",
        "    # If the tree is empty, the new node becomes the root\n",
        "    if root is None:\n",
        "        return new_node\n",
        "\n",
        "    # Use a queue to perform level-order traversal\n",
        "    queue = []\n",
        "    queue.append(root)\n",
        "\n",
        "    # Traverse the tree\n",
        "    while queue:\n",
        "        # Dequeue a node\n",
        "        temp = queue.pop(0)\n",
        "\n",
        "        # Check if the left child is empty\n",
        "        if temp.left is None:\n",
        "            temp.left = new_node\n",
        "            return root\n",
        "        else:\n",
        "            queue.append(temp.left)\n",
        "\n",
        "        # Check if the right child is empty\n",
        "        if temp.right is None:\n",
        "            temp.right = new_node\n",
        "            return root\n",
        "        else:\n",
        "            queue.append(temp.right)\n",
        "\n",
        "    return root\n",
        "\n",
        "def add_edges(dot, node):\n",
        "    if node is None:\n",
        "        return\n",
        "    if node.left:\n",
        "        dot.edge(str(node.val), str(node.left.val))\n",
        "        add_edges(dot, node.left)\n",
        "    if node.right:\n",
        "        dot.edge(str(node.val), str(node.right.val))\n",
        "        add_edges(dot, node.right)\n",
        "\n",
        "def draw_tree(root):\n",
        "    dot = Graph()\n",
        "    dot.node(str(root.val))\n",
        "    add_edges(dot, root)\n",
        "    return dot\n",
        "\n",
        "# Driver code\n",
        "if __name__ == '__main__':\n",
        "    # Create the root of the tree\n",
        "    root = TreeNode(1)\n",
        "    root.left = TreeNode(2)\n",
        "    root.right = TreeNode(3)\n",
        "    root.left.left = TreeNode(4)\n",
        "    root.left.right = TreeNode(5)\n",
        "\n",
        "    dot = draw_tree(root)\n",
        "    dot.render('orignial_tree', format='png', view=True)\n",
        "\n",
        "    key = 6\n",
        "    print(f\"\\nInserting {key} into the binary tree.\")\n",
        "    root = insert_node(root, key)\n",
        "\n",
        "    dot = draw_tree(root)\n",
        "    dot.render('after_tree', format='png', view=True)"
      ]
    },
    {
      "cell_type": "markdown",
      "metadata": {},
      "source": [
        "## **Breadth-First Search**"
      ]
    },
    {
      "cell_type": "code",
      "execution_count": 11,
      "metadata": {
        "colab": {
          "base_uri": "https://localhost:8080/"
        },
        "id": "-3Vpj5Ub4Rh9",
        "outputId": "c6cd1928-b063-4c57-ee81-28bb00fee1a5"
      },
      "outputs": [
        {
          "name": "stdout",
          "output_type": "stream",
          "text": [
            "Original tree:\n",
            "BFS traversal result: [1, 2, 3, 4, 5, 6, 7]\n"
          ]
        }
      ],
      "source": [
        "from collections import deque\n",
        "\n",
        "def visualize_tree(root):\n",
        "    dot = Graph()\n",
        "\n",
        "    def add_edges(dot, node):\n",
        "        if node:\n",
        "            dot.node(str(node.val))\n",
        "            if node.left:\n",
        "                dot.edge(str(node.val), str(node.left.val))\n",
        "                add_edges(dot, node.left)\n",
        "            if node.right:\n",
        "                dot.edge(str(node.val), str(node.right.val))\n",
        "                add_edges(dot, node.right)\n",
        "\n",
        "    add_edges(dot, root)\n",
        "    return dot\n",
        "\n",
        "def visualize_bfs_order(root, order):\n",
        "    dot = Graph()\n",
        "\n",
        "    # Create nodes with traversal order as labels\n",
        "    node_labels = {node.val: f'{node.val}' for node in order}\n",
        "    for i, node in enumerate(order):\n",
        "        node_labels[node.val] = f'{node.val} ({i+1})'\n",
        "\n",
        "    def add_edges_with_labels(dot, node):\n",
        "        if node:\n",
        "            dot.node(str(node.val), label=node_labels[node.val])\n",
        "            if node.left:\n",
        "                dot.edge(str(node.val), str(node.left.val))\n",
        "                add_edges_with_labels(dot, node.left)\n",
        "            if node.right:\n",
        "                dot.edge(str(node.val), str(node.right.val))\n",
        "                add_edges_with_labels(dot, node.right)\n",
        "\n",
        "    add_edges_with_labels(dot, root)\n",
        "    return dot\n",
        "\n",
        "def bfs(root):\n",
        "    if root is None:\n",
        "        return []\n",
        "\n",
        "    result = []\n",
        "    queue = deque([root])\n",
        "\n",
        "    while queue:\n",
        "        node = queue.popleft()\n",
        "        result.append(node.val)\n",
        "\n",
        "        if node.left:\n",
        "            queue.append(node.left)\n",
        "        if node.right:\n",
        "            queue.append(node.right)\n",
        "\n",
        "    return result\n",
        "\n",
        "if __name__ == '__main__':\n",
        "    # Create the root of the tree\n",
        "    root = TreeNode(1)\n",
        "    root.left = TreeNode(2)\n",
        "    root.right = TreeNode(3)\n",
        "    root.left.left = TreeNode(4)\n",
        "    root.left.right = TreeNode(5)\n",
        "    root.right.left = TreeNode(6)\n",
        "    root.right.right = TreeNode(7)\n",
        "\n",
        "    print(\"Original tree:\")\n",
        "    dot = visualize_tree(root)\n",
        "    dot.render('original_tree_bfs', format='png', view=True)\n",
        "\n",
        "    # Perform BFS\n",
        "    bfs_result = bfs(root)\n",
        "    print(\"BFS traversal result:\", bfs_result)\n",
        "\n"
      ]
    },
    {
      "cell_type": "markdown",
      "metadata": {},
      "source": [
        "### **Depth-First Search**"
      ]
    },
    {
      "cell_type": "code",
      "execution_count": 12,
      "metadata": {
        "id": "QUGqs4OY8A3_"
      },
      "outputs": [],
      "source": [
        "def dfs_recursive(node):\n",
        "    if node is None:\n",
        "        return []\n",
        "\n",
        "    result = []\n",
        "    result.append(node.val)\n",
        "    result.extend(dfs_recursive(node.left))\n",
        "    result.extend(dfs_recursive(node.right))\n",
        "\n",
        "    return result\n"
      ]
    },
    {
      "cell_type": "markdown",
      "metadata": {},
      "source": [
        "Xài stack thay vì đệ quy"
      ]
    },
    {
      "cell_type": "code",
      "execution_count": 21,
      "metadata": {},
      "outputs": [],
      "source": [
        "def dfs_iterative(root):\n",
        "    stack = [root]\n",
        "    result = []\n",
        "    while stack:\n",
        "        node = stack.pop()\n",
        "        result.append(node.val)\n",
        "        if node.right:  # Push right trước để xử lý left trước\n",
        "            stack.append(node.right)\n",
        "        if node.left:\n",
        "            stack.append(node.left)\n",
        "    return result"
      ]
    },
    {
      "cell_type": "code",
      "execution_count": 22,
      "metadata": {
        "colab": {
          "base_uri": "https://localhost:8080/"
        },
        "id": "IVvn0R418C_I",
        "outputId": "949baf84-e562-4054-8565-bc99f58247de"
      },
      "outputs": [
        {
          "name": "stdout",
          "output_type": "stream",
          "text": [
            "DFS (recursive) traversal result: [1, 2, 4, 5, 3, 6, 7]\n",
            "DFS (iterative) traversal result: [1, 2, 4, 5, 3, 6, 7]\n"
          ]
        }
      ],
      "source": [
        "if __name__ == '__main__':\n",
        "    # Create the root of the tree\n",
        "    root = TreeNode(1)\n",
        "    root.left = TreeNode(2)\n",
        "    root.right = TreeNode(3)\n",
        "    root.left.left = TreeNode(4)\n",
        "    root.left.right = TreeNode(5)\n",
        "    root.right.left = TreeNode(6)\n",
        "    root.right.right = TreeNode(7)\n",
        "\n",
        "    # Perform DFS using recursion\n",
        "    dfs_recursive_result = dfs_recursive(root)\n",
        "    print(\"DFS (recursive) traversal result:\", dfs_recursive_result)\n",
        "    dfs_iterative_result = dfs_iterative(root)\n",
        "    print(\"DFS (iterative) traversal result:\", dfs_iterative_result)"
      ]
    },
    {
      "cell_type": "code",
      "execution_count": 14,
      "metadata": {
        "id": "riN5M5KS1xNT"
      },
      "outputs": [],
      "source": [
        "from collections import deque\n",
        "\n",
        "def delete_node(root, key):\n",
        "    if root is None:\n",
        "        return None\n",
        "\n",
        "    if root.left is None and root.right is None:\n",
        "        if root.val == key:\n",
        "            return None\n",
        "        else:\n",
        "            return root\n",
        "\n",
        "    key_node = None\n",
        "    queue = deque([root])\n",
        "\n",
        "    while queue:\n",
        "        node = queue.popleft()\n",
        "\n",
        "        if node.val == key:\n",
        "            key_node = node\n",
        "\n",
        "        if node.left:\n",
        "            queue.append(node.left)\n",
        "\n",
        "        if node.right:\n",
        "            queue.append(node.right)\n",
        "\n",
        "    if key_node:\n",
        "        deepest_node = node\n",
        "        key_node.val = deepest_node.val\n",
        "        delete_deepest(root, deepest_node)\n",
        "\n",
        "    return root\n",
        "\n",
        "def delete_deepest(root, d_node):\n",
        "    queue = deque([root])\n",
        "    while queue:\n",
        "        node = queue.popleft()\n",
        "\n",
        "        if node is d_node:\n",
        "            node = None\n",
        "            return\n",
        "\n",
        "        if node.right:\n",
        "            if node.right is d_node:\n",
        "                node.right = None\n",
        "                return\n",
        "            else:\n",
        "                queue.append(node.right)\n",
        "\n",
        "        if node.left:\n",
        "            if node.left is d_node:\n",
        "                node.left = None\n",
        "                return\n",
        "            else:\n",
        "                queue.append(node.left)\n"
      ]
    },
    {
      "cell_type": "code",
      "execution_count": 15,
      "metadata": {
        "colab": {
          "base_uri": "https://localhost:8080/"
        },
        "id": "fmqp_How7WEz",
        "outputId": "378d5fce-5564-4841-d1ab-9b2a0587fc6b"
      },
      "outputs": [
        {
          "name": "stdout",
          "output_type": "stream",
          "text": [
            "\n",
            "Deleting node with key 3\n"
          ]
        }
      ],
      "source": [
        "if __name__ == '__main__':\n",
        "    # Create the root of the tree\n",
        "    root = TreeNode(1)\n",
        "    root.left = TreeNode(2)\n",
        "    root.right = TreeNode(3)\n",
        "    root.left.left = TreeNode(4)\n",
        "    root.left.right = TreeNode(5)\n",
        "    root.right.left = TreeNode(6)\n",
        "    root.right.right = TreeNode(7)\n",
        "\n",
        "    dot = visualize_tree(root)\n",
        "    dot.render('original_delete_tree', format='png', view=True)\n",
        "\n",
        "    key = 3\n",
        "    print(f\"\\nDeleting node with key {key}\")\n",
        "    root = delete_node(root, key)\n",
        "    dot = visualize_tree(root)\n",
        "    dot.render('after_delete_tree', format='png', view=True)\n",
        "\n",
        "\n"
      ]
    },
    {
      "cell_type": "code",
      "execution_count": 16,
      "metadata": {
        "id": "0DqRr1SaDuoX"
      },
      "outputs": [],
      "source": [
        "class BST:\n",
        "    def __init__(self):\n",
        "        self.root = None\n",
        "\n",
        "    def insert(self, key):\n",
        "        if self.root is None:\n",
        "            self.root = TreeNode(key)\n",
        "        else:\n",
        "            self._insert(self.root, key)\n",
        "\n",
        "    def _insert(self, node, key):\n",
        "        if key < node.val:\n",
        "            if node.left is None:\n",
        "                node.left = TreeNode(key)\n",
        "            else:\n",
        "                self._insert(node.left, key)\n",
        "        else:\n",
        "            if node.right is None:\n",
        "                node.right = TreeNode(key)\n",
        "            else:\n",
        "                self._insert(node.right, key)\n",
        "\n",
        "    def search(self, key):\n",
        "        return self._search(self.root, key)\n",
        "\n",
        "    def _search(self, node, key):\n",
        "        if node is None or node.val == key:\n",
        "            return node\n",
        "\n",
        "        if key < node.val:\n",
        "            return self._search(node.left, key)\n",
        "\n",
        "        return self._search(node.right, key)\n",
        "\n"
      ]
    },
    {
      "cell_type": "code",
      "execution_count": 17,
      "metadata": {
        "colab": {
          "base_uri": "https://localhost:8080/"
        },
        "id": "WBYBNBCWEDRQ",
        "outputId": "dc7b9ec3-c657-4a82-f7a3-c097e39904eb"
      },
      "outputs": [
        {
          "name": "stdout",
          "output_type": "stream",
          "text": [
            "Element 40 found in the BST\n"
          ]
        }
      ],
      "source": [
        "if __name__ == '__main__':\n",
        "    bst = BST()\n",
        "\n",
        "    # Insert elements\n",
        "    elements = [50, 30, 20, 40, 70, 60, 80]\n",
        "    for element in elements:\n",
        "        bst.insert(element)\n",
        "\n",
        "\n",
        "     # Visualize the BST\n",
        "    dot = visualize_tree(bst.root)\n",
        "    dot.render('bst', format='png', view=True)\n",
        "\n",
        "    # Search for elements\n",
        "    key = 40\n",
        "    result = bst.search(key)\n",
        "    if result:\n",
        "        print(f\"Element {key} found in the BST\")\n",
        "    else:\n",
        "        print(f\"Element {key} not found in the BST\")\n"
      ]
    },
    {
      "cell_type": "code",
      "execution_count": 24,
      "metadata": {
        "colab": {
          "base_uri": "https://localhost:8080/",
          "height": 131
        },
        "id": "38Ip_9SXEhrP",
        "outputId": "1786143d-dea1-4192-ecb1-17fcd4785b19"
      },
      "outputs": [],
      "source": [
        "def lookup(tree, key):\n",
        "    if tree is None:\n",
        "        return False\n",
        "    if key == tree.key:\n",
        "        return True\n",
        "    elif key < tree.key:\n",
        "        if not tree.has_left_child():\n",
        "            return False\n",
        "        return lookup(tree.left_child(), key)\n",
        "    else:\n",
        "        if not tree.has_right_child():\n",
        "            return False\n",
        "        return lookup(tree.right_child(), key)"
      ]
    },
    {
      "cell_type": "code",
      "execution_count": 25,
      "metadata": {},
      "outputs": [
        {
          "name": "stdout",
          "output_type": "stream",
          "text": [
            "Tìm kiếm phần tử có trong cây:\n",
            "Tìm 10: True\n",
            "Tìm 7: True\n",
            "Tìm 18: True\n",
            "\n",
            "Tìm kiếm phần tử không có trong cây:\n",
            "Tìm 4: False\n",
            "Tìm 13: False\n",
            "Tìm 20: False\n"
          ]
        }
      ],
      "source": [
        "# Tạo một cây nhị phân tìm kiếm để kiểm thử\n",
        "class Node:\n",
        "    def __init__(self, key):\n",
        "        self.key = key\n",
        "        self.left = None \n",
        "        self.right = None\n",
        "        \n",
        "    def has_left_child(self):\n",
        "        return self.left is not None\n",
        "        \n",
        "    def has_right_child(self):\n",
        "        return self.right is not None\n",
        "        \n",
        "    def left_child(self):\n",
        "        return self.left\n",
        "        \n",
        "    def right_child(self):\n",
        "        return self.right\n",
        "\n",
        "# Tạo cây mẫu để kiểm thử\n",
        "root = Node(10)\n",
        "root.left = Node(5) \n",
        "root.right = Node(15)\n",
        "root.left.left = Node(3)\n",
        "root.left.right = Node(7)\n",
        "root.right.left = Node(12)\n",
        "root.right.right = Node(18)\n",
        "\n",
        "# Kiểm thử các trường hợp\n",
        "print(\"Tìm kiếm phần tử có trong cây:\")\n",
        "print(\"Tìm 10:\", lookup(root, 10))  # True\n",
        "print(\"Tìm 7:\", lookup(root, 7))    # True\n",
        "print(\"Tìm 18:\", lookup(root, 18))  # True\n",
        "\n",
        "print(\"\\nTìm kiếm phần tử không có trong cây:\")\n",
        "print(\"Tìm 4:\", lookup(root, 4))    # False\n",
        "print(\"Tìm 13:\", lookup(root, 13))  # False\n",
        "print(\"Tìm 20:\", lookup(root, 20))  # False\n",
        "\n"
      ]
    },
    {
      "cell_type": "markdown",
      "metadata": {},
      "source": [
        "### KD"
      ]
    },
    {
      "cell_type": "code",
      "execution_count": 2,
      "metadata": {},
      "outputs": [
        {
          "data": {
            "image/png": "[encoded data removed]",
            "text/plain": [
              "<Figure size 640x480 with 1 Axes>"
            ]
          },
          "metadata": {},
          "output_type": "display_data"
        }
      ],
      "source": [
        "import matplotlib.pyplot as plt\n",
        "\n",
        "x = [1, 2, 3, 5, 7, 8]\n",
        "y = [2, 6, 4, 6, 8, 3]\n",
        "\n",
        "for xy in zip(x, y):\n",
        "    plt.annotate('(%.2f, %.2f)' %xy, xy = xy)\n",
        "\n",
        "plt.scatter(x, y)\n",
        "plt.grid(color = 'green', linestyle = '--', linewidth = 0.5)\n",
        "\n",
        "plt.show()"
      ]
    },
    {
      "cell_type": "code",
      "execution_count": 3,
      "metadata": {},
      "outputs": [],
      "source": [
        "def KDTree(point_list, depth):\n",
        "    # Nếu danh sách rỗng, trả về None\n",
        "    if not point_list:\n",
        "        return None\n",
        "    \n",
        "    # Xác định trục để chia (0 cho x, 1 cho y)\n",
        "    axis = depth % 2\n",
        "    \n",
        "    # Sắp xếp điểm theo trục hiện tại\n",
        "    point_list.sort(key=lambda x: x[axis])\n",
        "    \n",
        "    # Tìm điểm trung vị\n",
        "    median_idx = len(point_list) // 2\n",
        "    median_point = point_list[median_idx]\n",
        "    \n",
        "    # Tạo node với điểm trung vị\n",
        "    node = Node(median_point)\n",
        "    \n",
        "    # Chia các điểm còn lại thành 2 nửa\n",
        "    left_points = point_list[:median_idx]\n",
        "    right_points = point_list[median_idx + 1:]\n",
        "    \n",
        "    # Đệ quy để xây dựng cây con trái và phải\n",
        "    node.left = KDTree(left_points, depth + 1)\n",
        "    node.right = KDTree(right_points, depth + 1)\n",
        "    \n",
        "    return node"
      ]
    },
    {
      "cell_type": "code",
      "execution_count": 5,
      "metadata": {},
      "outputs": [
        {
          "data": {
            "image/png": "[encoded data removed]",
            "text/plain": [
              "<Figure size 800x800 with 1 Axes>"
            ]
          },
          "metadata": {},
          "output_type": "display_data"
        }
      ],
      "source": [
        "class Node:\n",
        "    def __init__(self, point):\n",
        "        self.point = point\n",
        "        self.left = None \n",
        "        self.right = None\n",
        "\n",
        "def collect_kdtree_lines(node, depth=0, xmin=0, xmax=10, ymin=0, ymax=10, lines=None):\n",
        "    if lines is None:\n",
        "        lines = []\n",
        "    \n",
        "    if node is None:\n",
        "        return lines\n",
        "    \n",
        "    axis = depth % 2\n",
        "    \n",
        "    if axis == 0:\n",
        "        lines.append({\n",
        "            'type': 'vertical',\n",
        "            'x': node.point[0],\n",
        "            'ymin': ymin,\n",
        "            'ymax': ymax\n",
        "        })\n",
        "        collect_kdtree_lines(node.left, depth + 1, xmin, node.point[0], ymin, ymax, lines)\n",
        "        collect_kdtree_lines(node.right, depth + 1, node.point[0], xmax, ymin, ymax, lines)\n",
        "    else:\n",
        "        lines.append({\n",
        "            'type': 'horizontal',\n",
        "            'y': node.point[1],\n",
        "            'xmin': xmin,\n",
        "            'xmax': xmax\n",
        "        })\n",
        "        collect_kdtree_lines(node.left, depth + 1, xmin, xmax, ymin, node.point[1], lines)\n",
        "        collect_kdtree_lines(node.right, depth + 1, xmin, xmax, node.point[1], ymax, lines)\n",
        "    \n",
        "    return lines\n",
        "\n",
        "# Tạo danh sách điểm từ tọa độ x và y\n",
        "points = list(zip(x, y))\n",
        "\n",
        "# Xây dựng cây KD\n",
        "root = KDTree(points.copy(), 0)\n",
        "\n",
        "# Thu thập thông tin về các đường cần vẽ\n",
        "lines = collect_kdtree_lines(root)\n",
        "\n",
        "# Tạo một hình duy nhất\n",
        "plt.figure(figsize=(8, 8))\n",
        "plt.scatter(x, y)\n",
        "plt.grid(color='green', linestyle='--', linewidth=0.5)\n",
        "\n",
        "# Vẽ tất cả các đường phân chia\n",
        "colors = ['red', 'blue', 'green', 'purple', 'orange', 'brown']\n",
        "for i, line in enumerate(lines):\n",
        "    color = colors[i % len(colors)]  # Lặp lại màu nếu có nhiều đường hơn số màu\n",
        "    if line['type'] == 'vertical':\n",
        "        plt.plot([line['x'], line['x']], [line['ymin'], line['ymax']], color=color, linewidth=2)\n",
        "    else:\n",
        "        plt.plot([line['xmin'], line['xmax']], [line['y'], line['y']], color=color, linewidth=2)\n",
        "\n",
        "# Thêm nhãn cho các điểm\n",
        "for point in zip(x, y):\n",
        "    plt.annotate('(%.2f, %.2f)' % point, xy=point)\n",
        "\n",
        "plt.xlim(0, 10)\n",
        "plt.ylim(0, 10)\n",
        "plt.title('KD-tree Final Result')\n",
        "plt.show()"
      ]
    },
    {
      "cell_type": "code",
      "execution_count": 8,
      "metadata": {},
      "outputs": [
        {
          "name": "stdout",
          "output_type": "stream",
          "text": [
            "Điểm gần nhất với (6, 8) là: (5, 6)\n"
          ]
        }
      ],
      "source": [
        "def nearest_neighbor(x, node):\n",
        "    # Hàm tính khoảng cách Euclidean giữa 2 điểm\n",
        "    def distance(p1, p2):\n",
        "        return ((p1[0] - p2[0])**2 + (p1[1] - p2[1])**2)**0.5\n",
        "    \n",
        "    # Hàm tìm kiếm điểm gần nhất trong cây KD\n",
        "    def search(node, point, depth=0, best=None):\n",
        "        # Nếu node rỗng, trả về điểm tốt nhất hiện tại\n",
        "        if node is None:\n",
        "            return best\n",
        "        \n",
        "        # Cập nhật điểm tốt nhất nếu tìm thấy điểm gần hơn\n",
        "        if best is None or distance(point, node.point) < distance(point, best):\n",
        "            best = node.point\n",
        "            \n",
        "        # Xác định trục phân chia (0: x, 1: y)\n",
        "        axis = depth % 2\n",
        "        next_best = best\n",
        "        \n",
        "        # Tìm kiếm trong nhánh phù hợp trước\n",
        "        if point[axis] < node.point[axis]:\n",
        "            # Tìm kiếm bên trái\n",
        "            next_best = search(node.left, point, depth + 1, best)\n",
        "            if next_best is not None and distance(point, next_best) < distance(point, best):\n",
        "                best = next_best\n",
        "            # Kiểm tra xem có cần tìm bên phải không\n",
        "            if abs(point[axis] - node.point[axis]) < distance(point, best):\n",
        "                next_best = search(node.right, point, depth + 1, best)\n",
        "                if next_best is not None and distance(point, next_best) < distance(point, best):\n",
        "                    best = next_best\n",
        "        else:\n",
        "            # Tìm kiếm bên phải\n",
        "            next_best = search(node.right, point, depth + 1, best)\n",
        "            if next_best is not None and distance(point, next_best) < distance(point, best):\n",
        "                best = next_best\n",
        "            # Kiểm tra xem có cần tìm bên trái không\n",
        "            if abs(point[axis] - node.point[axis]) < distance(point, best):\n",
        "                next_best = search(node.left, point, depth + 1, best)\n",
        "                if next_best is not None and distance(point, next_best) < distance(point, best):\n",
        "                    best = next_best\n",
        "                    \n",
        "        return best\n",
        "    \n",
        "    return search(node, x)\n",
        "\n",
        "nearest_point = nearest_neighbor((6, 5), root)\n",
        "print(f\"Điểm gần nhất với (6, 8) là: {nearest_point}\")"
      ]
    }
  ],
  "metadata": {
    "colab": {
      "provenance": []
    },
    "kernelspec": {
      "display_name": "Python 3",
      "name": "python3"
    },
    "language_info": {
      "codemirror_mode": {
        "name": "ipython",
        "version": 3
      },
      "file_extension": ".py",
      "mimetype": "text/x-python",
      "name": "python",
      "nbconvert_exporter": "python",
      "pygments_lexer": "ipython3",
      "version": "3.12.6"
    }
  },
  "nbformat": 4,
  "nbformat_minor": 0
}
