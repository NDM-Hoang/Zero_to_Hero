{
 "cells": [
  {
   "cell_type": "code",
   "execution_count": null,
   "metadata": {},
   "outputs": [
    {
     "name": "stdout",
     "output_type": "stream",
     "text": [
      "1.0 1\n",
      "2.0 2\n",
      "5.0\n"
     ]
    },
    {
     "ename": "TypeError",
     "evalue": "must be real number, not complex",
     "output_type": "error",
     "traceback": [
      "\u001b[1;31m---------------------------------------------------------------------------\u001b[0m",
      "\u001b[1;31mTypeError\u001b[0m                                 Traceback (most recent call last)",
      "Cell \u001b[1;32mIn[8], line 11\u001b[0m\n\u001b[0;32m      9\u001b[0m \u001b[38;5;28mprint\u001b[39m(math\u001b[38;5;241m.\u001b[39mfabs(n2), \u001b[38;5;28mabs\u001b[39m(n2))\n\u001b[0;32m     10\u001b[0m \u001b[38;5;28mprint\u001b[39m(\u001b[38;5;28mabs\u001b[39m(\u001b[38;5;241m3\u001b[39m \u001b[38;5;241m+\u001b[39m \u001b[38;5;241m4\u001b[39mj)) \u001b[38;5;66;03m# abs can use with complex number\u001b[39;00m\n\u001b[1;32m---> 11\u001b[0m \u001b[38;5;28mprint\u001b[39m(\u001b[43mmath\u001b[49m\u001b[38;5;241;43m.\u001b[39;49m\u001b[43mfabs\u001b[49m\u001b[43m(\u001b[49m\u001b[38;5;241;43m3\u001b[39;49m\u001b[43m \u001b[49m\u001b[38;5;241;43m+\u001b[39;49m\u001b[43m \u001b[49m\u001b[38;5;241;43m4\u001b[39;49m\u001b[43mj\u001b[49m\u001b[43m)\u001b[49m)\n",
      "\u001b[1;31mTypeError\u001b[0m: must be real number, not complex"
     ]
    }
   ],
   "source": [
    "# absolute value of x\n",
    "\n",
    "import math\n",
    "\n",
    "n1 = 1\n",
    "n2 = -2\n",
    "\n",
    "print(math.fabs(n1), abs(n1))\n",
    "print(math.fabs(n2), abs(n2))\n",
    "print(abs(3 + 4j)) # abs can use with complex number\n",
    "print(math.fabs(3 + 4j)) # fabs can't"
   ]
  },
  {
   "cell_type": "code",
   "execution_count": 4,
   "metadata": {},
   "outputs": [
    {
     "name": "stdout",
     "output_type": "stream",
     "text": [
      "7.38905609893065 7.3890560989306495\n"
     ]
    }
   ],
   "source": [
    "# exponential of x\n",
    "\n",
    "import math\n",
    "\n",
    "x = 2\n",
    "print(math.exp(x), math.e ** x)"
   ]
  },
  {
   "cell_type": "code",
   "execution_count": 3,
   "metadata": {},
   "outputs": [
    {
     "name": "stdout",
     "output_type": "stream",
     "text": [
      "1.3862943611198906\n",
      "1.0\n"
     ]
    }
   ],
   "source": [
    "# log(x)\n",
    "\n",
    "import math\n",
    "\n",
    "x = 4\n",
    "print(math.log(x))\n",
    "print(math.log(math.e))"
   ]
  },
  {
   "cell_type": "code",
   "execution_count": 9,
   "metadata": {},
   "outputs": [
    {
     "name": "stdout",
     "output_type": "stream",
     "text": [
      "2.0\n"
     ]
    }
   ],
   "source": [
    "# square root of x\n",
    "\n",
    "import math\n",
    "\n",
    "x = 4\n",
    "print(math.sqrt(x))"
   ]
  },
  {
   "cell_type": "code",
   "execution_count": 14,
   "metadata": {},
   "outputs": [
    {
     "name": "stdout",
     "output_type": "stream",
     "text": [
      "0.0015926529164868282\n"
     ]
    }
   ],
   "source": [
    "# sine of x\n",
    "\n",
    "import math\n",
    "\n",
    "x = 3.14\n",
    "print(math.sin(x))"
   ]
  },
  {
   "cell_type": "code",
   "execution_count": 11,
   "metadata": {},
   "outputs": [
    {
     "name": "stdout",
     "output_type": "stream",
     "text": [
      "-0.4161468365471424\n"
     ]
    }
   ],
   "source": [
    "# cosine of x\n",
    "\n",
    "import math\n",
    "\n",
    "x = 2\n",
    "print(math.cos(x))"
   ]
  },
  {
   "cell_type": "code",
   "execution_count": 15,
   "metadata": {},
   "outputs": [
    {
     "name": "stdout",
     "output_type": "stream",
     "text": [
      "3.141592653589793\n"
     ]
    }
   ],
   "source": [
    "# the PI number\n",
    "\n",
    "import math\n",
    "\n",
    "print(math.pi)"
   ]
  },
  {
   "cell_type": "code",
   "execution_count": 16,
   "metadata": {},
   "outputs": [
    {
     "name": "stdout",
     "output_type": "stream",
     "text": [
      "2.718281828459045\n"
     ]
    }
   ],
   "source": [
    "# the e number\n",
    "\n",
    "import math\n",
    "\n",
    "print(math.e)"
   ]
  },
  {
   "cell_type": "code",
   "execution_count": 17,
   "metadata": {},
   "outputs": [
    {
     "name": "stdout",
     "output_type": "stream",
     "text": [
      "0.4061063413849305\n",
      "0.5240783127280234\n",
      "0.1917957318479555\n",
      "0.6194422108494781\n"
     ]
    }
   ],
   "source": [
    "# generate random floating-point numbers in [0, 1)\n",
    "\n",
    "import random\n",
    "\n",
    "print(random.random())\n",
    "print(random.random())\n",
    "print(random.random())\n",
    "print(random.random())"
   ]
  },
  {
   "cell_type": "code",
   "execution_count": 18,
   "metadata": {},
   "outputs": [
    {
     "name": "stdout",
     "output_type": "stream",
     "text": [
      "6\n",
      "9\n",
      "9\n",
      "2\n"
     ]
    }
   ],
   "source": [
    "# generate random integer numbers in [a, b]\n",
    "\n",
    "import random\n",
    "\n",
    "print(random.randint(1,9))\n",
    "print(random.randint(1,9))\n",
    "print(random.randint(1,9))\n",
    "print(random.randint(1,9))"
   ]
  },
  {
   "cell_type": "markdown",
   "metadata": {},
   "source": [
    "## Quiz"
   ]
  },
  {
   "cell_type": "code",
   "execution_count": 19,
   "metadata": {},
   "outputs": [
    {
     "name": "stdout",
     "output_type": "stream",
     "text": [
      "1.0\n"
     ]
    }
   ],
   "source": [
    "import math\n",
    "\n",
    "number = 5 \n",
    "\n",
    "result = math.fabs(number) / number\n",
    "\n",
    "print(result)"
   ]
  },
  {
   "cell_type": "code",
   "execution_count": 20,
   "metadata": {},
   "outputs": [
    {
     "name": "stdout",
     "output_type": "stream",
     "text": [
      "2.25\n",
      "1\n",
      "2\n"
     ]
    }
   ],
   "source": [
    "number1 = 9\n",
    "number2 = 4\n",
    "\n",
    "print(number1/number2)\n",
    "print(number1%number2) # Remainder\n",
    "print(number1//number2) # Integer division"
   ]
  }
 ],
 "metadata": {
  "kernelspec": {
   "display_name": "Python 3",
   "language": "python",
   "name": "python3"
  },
  "language_info": {
   "codemirror_mode": {
    "name": "ipython",
    "version": 3
   },
   "file_extension": ".py",
   "mimetype": "text/x-python",
   "name": "python",
   "nbconvert_exporter": "python",
   "pygments_lexer": "ipython3",
   "version": "3.12.6"
  }
 },
 "nbformat": 4,
 "nbformat_minor": 4
}
