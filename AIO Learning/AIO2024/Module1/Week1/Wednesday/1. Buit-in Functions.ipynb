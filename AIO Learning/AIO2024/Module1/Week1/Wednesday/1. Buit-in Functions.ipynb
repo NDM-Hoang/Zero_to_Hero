{
 "cells": [
  {
   "cell_type": "markdown",
   "metadata": {},
   "source": [
    "## Some Built-in Functions"
   ]
  },
  {
   "cell_type": "code",
   "execution_count": 1,
   "metadata": {},
   "outputs": [
    {
     "name": "stdout",
     "output_type": "stream",
     "text": [
      "2\n",
      "<class 'str'>\n"
     ]
    }
   ],
   "source": [
    "# yêu cầu user nhập từ bàn phím\n",
    "value = input(\"Value: \")\n",
    "\n",
    "print(value)\n",
    "print(type(value))"
   ]
  },
  {
   "cell_type": "code",
   "execution_count": 2,
   "metadata": {},
   "outputs": [
    {
     "name": "stdout",
     "output_type": "stream",
     "text": [
      "4\n",
      "<class 'int'>\n"
     ]
    }
   ],
   "source": [
    "# yêu cầu user nhập từ bàn phím\n",
    "value = input(\"Value: \")\n",
    "\n",
    "value = int(value)\n",
    "\n",
    "print(value)\n",
    "print(type(value))"
   ]
  },
  {
   "cell_type": "code",
   "execution_count": 4,
   "metadata": {},
   "outputs": [
    {
     "name": "stdout",
     "output_type": "stream",
     "text": [
      "3.14159\n"
     ]
    }
   ],
   "source": [
    "# yêu cầu user nhập góc theo độ và \n",
    "# ép kiểu dữ liệu về float\n",
    "degree = float(input(\"Input degrees: \"))\n",
    "\n",
    "# tính góc theo radian\n",
    "PI_number = 3.14159\n",
    "radian = degree*(PI_number/180)\n",
    "print(radian)"
   ]
  },
  {
   "cell_type": "code",
   "execution_count": 5,
   "metadata": {},
   "outputs": [
    {
     "name": "stdout",
     "output_type": "stream",
     "text": [
      "Nhiệt độ F là:  98.60000000000001\n"
     ]
    }
   ],
   "source": [
    "# input\n",
    "temp_c = float(input('Nhập nhiệt độ theo độ C: '))\n",
    "\n",
    "# process\n",
    "temp_f = ((9 / 5) * temp_c) + 32\n",
    "\n",
    "# output\n",
    "print('Nhiệt độ F là: ', temp_f)"
   ]
  },
  {
   "cell_type": "code",
   "execution_count": null,
   "metadata": {},
   "outputs": [
    {
     "name": "stdout",
     "output_type": "stream",
     "text": [
      "0\n",
      "Có phải là tam giác vuông?  True\n"
     ]
    }
   ],
   "source": [
    "# yêu cầu user nhập giá trị a\n",
    "a = int(input(\"Hãy nhập giá trị a: \"))\n",
    "\n",
    "# yêu cầu user nhập giá trị b\n",
    "b = int(input(\"Hãy nhập giá trị b: \"))\n",
    "\n",
    "# yêu cầu user nhập giá trị c\n",
    "c = int(input(\"Hãy nhập giá trị c: \"))\n",
    "\n",
    "is_right_triangle = not bool(a**2+b**2-c**2)\n",
    "print('Có phải là tam giác vuông? ', is_right_triangle)"
   ]
  }
 ],
 "metadata": {
  "kernelspec": {
   "display_name": "Python 3",
   "language": "python",
   "name": "python3"
  },
  "language_info": {
   "codemirror_mode": {
    "name": "ipython",
    "version": 3
   },
   "file_extension": ".py",
   "mimetype": "text/x-python",
   "name": "python",
   "nbconvert_exporter": "python",
   "pygments_lexer": "ipython3",
   "version": "3.12.6"
  }
 },
 "nbformat": 4,
 "nbformat_minor": 4
}
