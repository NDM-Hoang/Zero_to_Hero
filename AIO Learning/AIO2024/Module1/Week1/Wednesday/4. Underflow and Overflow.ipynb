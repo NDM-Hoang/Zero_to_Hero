{
 "cells": [
  {
   "cell_type": "code",
   "execution_count": 1,
   "metadata": {},
   "outputs": [
    {
     "name": "stdout",
     "output_type": "stream",
     "text": [
      "1e-100\n"
     ]
    }
   ],
   "source": [
    "# aivietnam\n",
    "\n",
    "result = 1e-100\n",
    "print(result)"
   ]
  },
  {
   "cell_type": "code",
   "execution_count": 8,
   "metadata": {},
   "outputs": [
    {
     "name": "stdout",
     "output_type": "stream",
     "text": [
      "0.0\n"
     ]
    }
   ],
   "source": [
    "# aivietnam\n",
    "\n",
    "result = 1e-1000\n",
    "print(result)"
   ]
  },
  {
   "cell_type": "code",
   "execution_count": 9,
   "metadata": {},
   "outputs": [
    {
     "name": "stdout",
     "output_type": "stream",
     "text": [
      "1e+100\n"
     ]
    }
   ],
   "source": [
    "# aivietnam\n",
    "\n",
    "result = 1e100\n",
    "print(result)"
   ]
  },
  {
   "cell_type": "code",
   "execution_count": 10,
   "metadata": {},
   "outputs": [
    {
     "name": "stdout",
     "output_type": "stream",
     "text": [
      "inf\n"
     ]
    }
   ],
   "source": [
    "# aivietnam\n",
    "\n",
    "result = 1e1000\n",
    "print(result)"
   ]
  },
  {
   "cell_type": "code",
   "execution_count": null,
   "metadata": {},
   "outputs": [],
   "source": [
    "# https://stats.stackexchange.com/questions/162988/why-sigmoid-function-instead-of-anything-else/318209#318209\n",
    "\n",
    "# https://datascience.stackexchange.com/questions/23159/in-softmax-classifier-why-use-exp-function-to-do-normalization\n",
    "\n",
    "# https://stackoverflow.com/questions/17187507/why-use-softmax-as-opposed-to-standard-normalization\n",
    "\n",
    "# https://intellipaat.com/community/1621/why-use-softmax-as-opposed-to-standard-normalization?fbclid=IwAR3V_lf3xSf_uD9FPBAZDm3SVV1vBJDg4AJY4yS6kGtA6FT-zYL68f2M4CM\n"
   ]
  },
  {
   "cell_type": "code",
   "execution_count": 2,
   "metadata": {},
   "outputs": [
    {
     "name": "stdout",
     "output_type": "stream",
     "text": [
      "0.09003  0.24473   0.66524\n"
     ]
    }
   ],
   "source": [
    "import math\n",
    "\n",
    "# Given three values\n",
    "v1 = 1.0\n",
    "v2 = 2.0\n",
    "v3 = 3.0\n",
    "\n",
    "# compute softmax\n",
    "total = math.exp(v1) + math.exp(v2) + math.exp(v3)\n",
    "\n",
    "s1 = math.exp(v1)/total\n",
    "s2 = math.exp(v2)/total\n",
    "s3 = math.exp(v3)/total\n",
    "\n",
    "# print out\n",
    "print(f\"{s1:.5f}  {s2:.5f}   {s3:.5f}\")\n",
    "    "
   ]
  },
  {
   "cell_type": "code",
   "execution_count": 3,
   "metadata": {},
   "outputs": [
    {
     "ename": "OverflowError",
     "evalue": "math range error",
     "output_type": "error",
     "traceback": [
      "\u001b[1;31m---------------------------------------------------------------------------\u001b[0m",
      "\u001b[1;31mOverflowError\u001b[0m                             Traceback (most recent call last)",
      "Cell \u001b[1;32mIn[3], line 9\u001b[0m\n\u001b[0;32m      6\u001b[0m v3 \u001b[38;5;241m=\u001b[39m \u001b[38;5;241m1003.0\u001b[39m\n\u001b[0;32m      8\u001b[0m \u001b[38;5;66;03m# compute softmax\u001b[39;00m\n\u001b[1;32m----> 9\u001b[0m total \u001b[38;5;241m=\u001b[39m \u001b[43mmath\u001b[49m\u001b[38;5;241;43m.\u001b[39;49m\u001b[43mexp\u001b[49m\u001b[43m(\u001b[49m\u001b[43mv1\u001b[49m\u001b[43m)\u001b[49m \u001b[38;5;241m+\u001b[39m math\u001b[38;5;241m.\u001b[39mexp(v2) \u001b[38;5;241m+\u001b[39m math\u001b[38;5;241m.\u001b[39mexp(v3)\n\u001b[0;32m     11\u001b[0m s1 \u001b[38;5;241m=\u001b[39m math\u001b[38;5;241m.\u001b[39mexp(v1)\u001b[38;5;241m/\u001b[39mtotal\n\u001b[0;32m     12\u001b[0m s2 \u001b[38;5;241m=\u001b[39m math\u001b[38;5;241m.\u001b[39mexp(v2)\u001b[38;5;241m/\u001b[39mtotal\n",
      "\u001b[1;31mOverflowError\u001b[0m: math range error"
     ]
    }
   ],
   "source": [
    "import math\n",
    "\n",
    "# Given three values\n",
    "v1 = 1001.0\n",
    "v2 = 1002.0\n",
    "v3 = 1003.0\n",
    "\n",
    "# compute softmax\n",
    "total = math.exp(v1) + math.exp(v2) + math.exp(v3)\n",
    "\n",
    "s1 = math.exp(v1)/total\n",
    "s2 = math.exp(v2)/total\n",
    "s3 = math.exp(v3)/total\n",
    "\n",
    "# print out\n",
    "print(f\"{s1:.5f}  {s2:.5f}   {s3:.5f}\")\n",
    "    "
   ]
  },
  {
   "cell_type": "code",
   "execution_count": 4,
   "metadata": {},
   "outputs": [
    {
     "name": "stdout",
     "output_type": "stream",
     "text": [
      "0.09003  0.24473   0.66524\n"
     ]
    }
   ],
   "source": [
    "import math\n",
    "\n",
    "# Given three values\n",
    "v1 = 1.0\n",
    "v2 = 2.0\n",
    "v3 = 3.0\n",
    "\n",
    "# get max\n",
    "max_value = v3\n",
    "\n",
    "# compute stable softmax\n",
    "e_v1 = math.exp(v1 - max_value)\n",
    "e_v2 = math.exp(v2 - max_value)\n",
    "e_v3 = math.exp(v3 - max_value)\n",
    "\n",
    "total = e_v1 + e_v2 + e_v3\n",
    "\n",
    "s1 = e_v1/total\n",
    "s2 = e_v2/total\n",
    "s3 = e_v3/total\n",
    "\n",
    "# print out\n",
    "print(f\"{s1:.5f}  {s2:.5f}   {s3:.5f}\")    "
   ]
  },
  {
   "cell_type": "code",
   "execution_count": 5,
   "metadata": {},
   "outputs": [
    {
     "name": "stdout",
     "output_type": "stream",
     "text": [
      "0.09003  0.24473   0.66524\n"
     ]
    }
   ],
   "source": [
    "import math\n",
    "\n",
    "# Given three values\n",
    "v1 = 1001.0\n",
    "v2 = 1002.0\n",
    "v3 = 1003.0\n",
    "\n",
    "# get max\n",
    "max_value = v3\n",
    "\n",
    "# compute stable softmax\n",
    "e_v1 = math.exp(v1 - max_value)\n",
    "e_v2 = math.exp(v2 - max_value)\n",
    "e_v3 = math.exp(v3 - max_value)\n",
    "\n",
    "total = e_v1 + e_v2 + e_v3\n",
    "\n",
    "s1 = e_v1/total\n",
    "s2 = e_v2/total\n",
    "s3 = e_v3/total\n",
    "\n",
    "# print out\n",
    "print(f\"{s1:.5f}  {s2:.5f}   {s3:.5f}\")    "
   ]
  },
  {
   "cell_type": "code",
   "execution_count": 6,
   "metadata": {},
   "outputs": [
    {
     "name": "stdout",
     "output_type": "stream",
     "text": [
      "0.00000  0.26894   0.73106\n"
     ]
    }
   ],
   "source": [
    "import math\n",
    "\n",
    "# Given three values\n",
    "v1 = 1.0\n",
    "v2 = 1001.0\n",
    "v3 = 1002.0\n",
    "\n",
    "# get max\n",
    "max_value = v3\n",
    "\n",
    "# compute stable softmax\n",
    "e_v1 = math.exp(v1 - max_value)\n",
    "e_v2 = math.exp(v2 - max_value)\n",
    "e_v3 = math.exp(v3 - max_value)\n",
    "\n",
    "total = e_v1 + e_v2 + e_v3\n",
    "\n",
    "s1 = e_v1/total\n",
    "s2 = e_v2/total\n",
    "s3 = e_v3/total\n",
    "\n",
    "# print out\n",
    "print(f\"{s1:.5f}  {s2:.5f}   {s3:.5f}\")    "
   ]
  }
 ],
 "metadata": {
  "kernelspec": {
   "display_name": "Python 3",
   "language": "python",
   "name": "python3"
  },
  "language_info": {
   "codemirror_mode": {
    "name": "ipython",
    "version": 3
   },
   "file_extension": ".py",
   "mimetype": "text/x-python",
   "name": "python",
   "nbconvert_exporter": "python",
   "pygments_lexer": "ipython3",
   "version": "3.12.6"
  }
 },
 "nbformat": 4,
 "nbformat_minor": 4
}
