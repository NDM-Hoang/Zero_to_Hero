{
 "cells": [
  {
   "cell_type": "markdown",
   "metadata": {},
   "source": [
    "#### **1. Đánh giá mô hình phân loại bằng F1-Score**\n",
    "##### **Công thức tính toán**\n",
    "##### - **Precision** = TP / (TP + FP)\n",
    "##### - **Recall** = TP / (TP + FN)\n",
    "##### - **F1-score** = 2 \\* Precision \\* Recall / (Precision + Recall)\n",
    "##### **Đầu vào và đầu ra**\n",
    "##### - **Input**: function nhận 3 giá trị tp, fp, fn\n",
    "##### - **Output**: print ra kết quả của Precision, Recall, và F1-score"
   ]
  },
  {
   "cell_type": "code",
   "execution_count": 4,
   "metadata": {},
   "outputs": [
    {
     "name": "stdout",
     "output_type": "stream",
     "text": [
      "Precision: 0.6666666666666666\n",
      "Recall: 0.7692307692307693\n",
      "F1-score: 0.7142857142857142\n",
      "Precision: 0.6666666666666666\n",
      "Recall: 0.8\n",
      "F1-score: 0.7272727272727272\n",
      "tp, fp, fn must be greater than 0\n",
      "tp, fp, fn must be greater than 0\n",
      "tp, fp, fn must be greater than 0\n",
      "tp, fp, fn must be greater than 0\n",
      "tp, fp, fn must be integers\n",
      "tp, fp, fn must be integers\n",
      "tp, fp, fn must be integers\n"
     ]
    }
   ],
   "source": [
    "def evaluate_model(tp, fp, fn):\n",
    "    if type(tp) != int or type(fp) != int or type(fn) != int:\n",
    "        print(\"tp, fp, fn must be integers\")\n",
    "        return\n",
    "    if tp <= 0 or fp <= 0 or fn <= 0:\n",
    "        print(\"tp, fp, fn must be greater than 0\")\n",
    "        return\n",
    "    precision = tp / (tp + fp)\n",
    "    recall = tp / (tp + fn)\n",
    "    f1_score = 2 * precision * recall / (precision + recall)\n",
    "    print(f\"Precision: {precision}\")\n",
    "    print(f\"Recall: {recall}\")\n",
    "    print(f\"F1-score: {f1_score}\")\n",
    "\n",
    "\n",
    "evaluate_model(10, 5, 3)\n",
    "evaluate_model(20, 10, 5)\n",
    "evaluate_model(0, 0, 0)\n",
    "evaluate_model(-1, 5, 3)\n",
    "evaluate_model(10, -5, 3)\n",
    "evaluate_model(10, 5, -3)\n",
    "evaluate_model(\"10\", 5, 3)\n",
    "evaluate_model(10, \"5\", 3)\n",
    "evaluate_model(10, 5, \"3\")"
   ]
  },
  {
   "cell_type": "markdown",
   "metadata": {},
   "source": [
    "#### **2. Function mô phỏng theo 3 activation function**\n",
    "##### $$sigmoid(x) = \\frac{1}{1 + e^{-x}}$$\n",
    "##### $$relu(x) = \\begin{cases} 0, & \\text{if } x \\leq 0 \\\\ x, & \\text{if } x > 0 \\end{cases}$$\n",
    "##### $$ELU(x) = \\begin{cases} \\alpha(e^x - 1), & \\text{if } x \\leq 0 \\\\ x, & \\text{if } x > 0 \\end{cases}$$\n",
    "#### **Input:**\n",
    "#### - Người dùng nhập giá trị x\n",
    "#### - Người dùng nhập tên activation function chỉ có 3 loại (sigmoid, relu, elu)\n",
    "\n",
    "#### **Output:**\n",
    "#### Kết quả f(x) (x khi đi qua activation function tương ứng theo activation function name). Ví dụ nhập x=3, activation_function = 'relu'. Output: print 'relu: f(3)=3'\n"
   ]
  },
  {
   "cell_type": "code",
   "execution_count": 13,
   "metadata": {},
   "outputs": [
    {
     "name": "stdout",
     "output_type": "stream",
     "text": [
      "0.9525741268224334\n",
      "0.04742587317756678\n",
      "3\n",
      "0\n",
      "3\n",
      "-0.09502129316321362\n",
      "Activation function is not supported\n",
      "Activation_function_name must be a string\n",
      "x must be an number\n"
     ]
    }
   ],
   "source": [
    "import math\n",
    "\n",
    "def is_number(x):\n",
    "    try:\n",
    "        float(x)\n",
    "        return True\n",
    "    except ValueError:\n",
    "        return False\n",
    "\n",
    "def activation_function(x, activation_function_name):\n",
    "    if type(activation_function_name) != str:\n",
    "        return \"Activation_function_name must be a string\"\n",
    "    if not is_number(x):\n",
    "        return \"x must be an number\"\n",
    "    alpha = 0.1\n",
    "    if activation_function_name == 'sigmoid':\n",
    "        return 1 / (1 + math.exp(-x))\n",
    "    elif activation_function_name == 'relu':\n",
    "        return max(0, x)\n",
    "    elif activation_function_name == 'elu':\n",
    "        return x if x > 0 else alpha * (math.exp(x) - 1)\n",
    "    else:\n",
    "        return \"Activation function is not supported\"\n",
    "\n",
    "# Test cases for activation_function\n",
    "print(activation_function(3, 'sigmoid'))  # Expected output: 0.9525741268224334\n",
    "print(activation_function(-3, 'sigmoid'))  # Expected output: 0.04742587317756678\n",
    "print(activation_function(3, 'relu'))  # Expected output: 3\n",
    "print(activation_function(-3, 'relu'))  # Expected output: 0\n",
    "print(activation_function(3, 'elu'))  # Expected output: 3\n",
    "print(activation_function(-3, 'elu'))  # Expected output: -0.09516258196404048\n",
    "print(activation_function(3, 'unsupported'))  # Expected output: Activation function is not supported\n",
    "print(activation_function(3, 123))  # Expected output: Activation_function_name must be a string\n",
    "print(activation_function(\"not_a_number\", 'sigmoid'))  # Expected output: False\n",
    "\n"
   ]
  },
  {
   "cell_type": "markdown",
   "metadata": {},
   "source": [
    "#### **3. Function lựa chọn regression loss function để tính loss**\n",
    "##### **_MAE (Mean Absolute Error):_**\n",
    "##### $MAE = \\frac{1}{n}\\sum_{i=1}^n |y_i - \\hat{y_i}|$\n",
    "##### **_MSE (Mean Squared Error):_**\n",
    "##### $MSE = \\frac{1}{n}\\sum_{i=1}^n (y_i - \\hat{y_i})^2$\n",
    "##### **_RMSE (Root Mean Square Error):_**\n",
    "##### $RMSE = \\sqrt{MSE} = \\sqrt{\\frac{1}{n}\\sum_{i=1}^n (y_i - \\hat{y_i})^2}$\n",
    "\n",
    "\n"
   ]
  },
  {
   "cell_type": "code",
   "execution_count": 16,
   "metadata": {},
   "outputs": [
    {
     "name": "stdout",
     "output_type": "stream",
     "text": [
      "3.9220252221068392\n",
      "9.716921540589436\n",
      "4.219861144608527\n",
      "Loss function is not supported\n",
      "Number of samples must be greater than 0\n",
      "Number of samples must be an integer\n",
      "Loss function is not supported\n"
     ]
    }
   ],
   "source": [
    "import math\n",
    "import random\n",
    "def calculate_loss(number_of_samples, loss_function):\n",
    "    if type(number_of_samples) != int:\n",
    "        return \"Number of samples must be an integer\"\n",
    "    if number_of_samples <= 0:\n",
    "        return \"Number of samples must be greater than 0\"\n",
    "    if loss_function == 'mae':\n",
    "        sum_mae = 0\n",
    "        for i in range(number_of_samples):\n",
    "            y_true = random.uniform(0, 10)  \n",
    "            y_pred = random.uniform(0, 10)\n",
    "            sum_mae += abs(y_true - y_pred)\n",
    "        return sum_mae / number_of_samples\n",
    "    elif loss_function == 'mse':\n",
    "        sum_mse = 0\n",
    "        for i in range(number_of_samples):\n",
    "            y_true = random.uniform(0, 10)  \n",
    "            y_pred = random.uniform(0, 10)\n",
    "            sum_mse += (y_true - y_pred) ** 2\n",
    "        return sum_mse / number_of_samples\n",
    "    elif loss_function == 'rmse':\n",
    "        sum_rmse = 0\n",
    "        for i in range(number_of_samples):\n",
    "            y_true = random.uniform(0, 10)  \n",
    "            y_pred = random.uniform(0, 10)\n",
    "            sum_rmse += (y_true - y_pred) ** 2\n",
    "        return math.sqrt(sum_rmse / number_of_samples)\n",
    "    else:\n",
    "        return \"Loss function is not supported\"\n",
    "\n",
    "# Test cases for calculate_loss\n",
    "print(calculate_loss(5, 'mae'))  # Kiểm tra hàm với 5 mẫu và loss function MAE\n",
    "print(calculate_loss(5, 'mse'))  # Kiểm tra hàm với 5 mẫu và loss function MSE  \n",
    "print(calculate_loss(5, 'rmse'))  # Kiểm tra hàm với 5 mẫu và loss function RMSE\n",
    "print(calculate_loss(5, 'unsupported'))  # Kiểm tra với loss function không được hỗ trợ\n",
    "print(calculate_loss(-1, 'mae'))  # Kiểm tra với số mẫu âm\n",
    "print(calculate_loss(\"not_a_number\", 'mae'))  # Kiểm tra với input không phải số\n",
    "print(calculate_loss(5, 123))  # Kiểm tra với loss_function không phải string\n"
   ]
  },
  {
   "cell_type": "markdown",
   "metadata": {},
   "source": [
    "####  **4. Functions để ước lượng các hàm lượng giác và hyperbolic**\n",
    "\n",
    "$\\sin(x) \\approx \\sum_{n=0}^{\\infty} (-1)^n \\frac{x^{(2n+1)}}{(2n+1)!} = x - \\frac{x^3}{3!} + \\frac{x^5}{5!} - \\frac{x^7}{7!} + \\frac{x^9}{9!} - ...$\n",
    "\n",
    "$\\cos(x) \\approx \\sum_{n=0}^{\\infty} (-1)^n \\frac{x^{2n}}{(2n)!} = 1 - \\frac{x^2}{2!} + \\frac{x^4}{4!} - \\frac{x^6}{6!} + \\frac{x^8}{8!} - \\frac{x^{10}}{10!} + ...$\n",
    "\n",
    "$\\sinh(x) \\approx \\sum_{n=0}^{\\infty} \\frac{x^{(2n+1)}}{(2n+1)!} = x + \\frac{x^3}{3!} + \\frac{x^5}{5!} + \\frac{x^7}{7!} + \\frac{x^9}{9!} + ...$\n",
    "\n",
    "$\\cosh(x) \\approx \\sum_{n=0}^{\\infty} \\frac{x^{2n}}{(2n)!} = 1 + \\frac{x^2}{2!} + \\frac{x^4}{4!} + \\frac{x^6}{6!} + \\frac{x^8}{8!} + \\frac{x^{10}}{10!} + ...$\n",
    "\n",
    "#### **•Input:** x (số muốn tính toán) và n (số lần lặp muốn xấp xỉ)\n",
    "#### **•Output:** Kết quả ước lượng hàm tương ứng với x. Ví dụ hàm cos(x=0) thì output = 1"
   ]
  },
  {
   "cell_type": "code",
   "execution_count": 22,
   "metadata": {},
   "outputs": [
    {
     "name": "stdout",
     "output_type": "stream",
     "text": [
      "Test các hàm xấp xỉ:\n",
      "\n",
      "Sin(3.14):\n",
      "Xấp xỉ: 0.008480\n",
      "Thực tế: 0.001593\n",
      "\n",
      "Cos(3.14):\n",
      "Xấp xỉ: -0.976140\n",
      "Thực tế: -0.999999\n",
      "\n",
      "Sinh(3.14):\n",
      "Xấp xỉ: 11.522477\n",
      "Thực tế: 11.530292\n",
      "\n",
      "Cosh(3.14):\n",
      "Xấp xỉ: 11.545872\n",
      "Thực tế: 11.573575\n",
      "\n",
      "Test các trường hợp đặc biệt:\n",
      "Sin(0) = 0.0\n",
      "Cos(0) = 1.0\n",
      "Sinh(0) = 0.0\n",
      "Cosh(0) = n must be greater than 0\n"
     ]
    }
   ],
   "source": [
    "def approx_sin(x, n):\n",
    "    if is_number(x) == False or is_number(n) == False:\n",
    "        return \"x must be a float and n must be an integer\"\n",
    "    if n <= 0:\n",
    "        return \"n must be greater than 0\"\n",
    "    result = 0\n",
    "    for i in range(n):\n",
    "        result += ((-1)**i) * (x**((2*i)+1)) / math.factorial((2*i)+1)\n",
    "    return result\n",
    "\n",
    "def approx_cos(x, n):\n",
    "    if is_number(x) == False or is_number(n) == False:\n",
    "        return \"x must be a float and n must be an integer\"\n",
    "    if n <= 0:\n",
    "        return \"n must be greater than 0\"\n",
    "    result = 0\n",
    "    for i in range(n):\n",
    "        result += ((-1)**i) * (x**(2*i)) / math.factorial(2*i)\n",
    "    return result\n",
    "\n",
    "def approx_sinh(x, n):\n",
    "    if is_number(x) == False or is_number(n) == False:\n",
    "        return \"x must be a float and n must be an integer\"\n",
    "    if n <= 0:\n",
    "        return \"n must be greater than 0\"\n",
    "    result = 0\n",
    "    for i in range(n):\n",
    "        result += (x**((2*i)+1)) / math.factorial((2*i)+1)\n",
    "    return result\n",
    "\n",
    "def approx_cosh(x, n):\n",
    "    if is_number(x) == False or is_number(n) == False:\n",
    "        return \"x must be a float and n must be an integer\"\n",
    "    if n <= 0:\n",
    "        return \"n must be greater than 0\"\n",
    "    result = 0\n",
    "    for i in range(n):\n",
    "        result += (x**(2*i)) / math.factorial(2*i)\n",
    "    return result\n",
    "\n",
    "# Kiểm tra các hàm xấp xỉ\n",
    "print(\"Test các hàm xấp xỉ:\")\n",
    "\n",
    "# Test hàm sin\n",
    "x = 3.14\n",
    "n = 5\n",
    "print(f\"\\nSin({x:.2f}):\")\n",
    "print(f\"Xấp xỉ: {approx_sin(x,n):.6f}\")\n",
    "print(f\"Thực tế: {math.sin(x):.6f}\")\n",
    "\n",
    "# Test hàm cos \n",
    "print(f\"\\nCos({x:.2f}):\")\n",
    "print(f\"Xấp xỉ: {approx_cos(x,n):.6f}\")\n",
    "print(f\"Thực tế: {math.cos(x):.6f}\")\n",
    "\n",
    "# Test hàm sinh\n",
    "print(f\"\\nSinh({x:.2f}):\")\n",
    "print(f\"Xấp xỉ: {approx_sinh(x,n):.6f}\")\n",
    "print(f\"Thực tế: {math.sinh(x):.6f}\")\n",
    "\n",
    "# Test hàm cosh\n",
    "print(f\"\\nCosh({x:.2f}):\")\n",
    "print(f\"Xấp xỉ: {approx_cosh(x,n):.6f}\") \n",
    "print(f\"Thực tế: {math.cosh(x):.6f}\")\n",
    "\n",
    "# Test với các giá trị đặc biệt\n",
    "print(\"\\nTest các trường hợp đặc biệt:\")\n",
    "print(f\"Sin(0) = {approx_sin(0,5)}\")\n",
    "print(f\"Cos(0) = {approx_cos(0,5)}\")\n",
    "print(f\"Sinh(0) = {approx_sinh(0,5)}\")\n",
    "print(f\"Cosh(0) = {approx_cosh(0,0)}\")\n",
    "\n"
   ]
  },
  {
   "cell_type": "markdown",
   "metadata": {},
   "source": [
    "#### **5. Function thực hiện Mean Difference of $n^{th}$ Root Error**\n",
    "\n",
    "$MD\\_nRE = \\frac{1}{m}\\sum_{i=1}^{m}(\\sqrt[n]{y_i} - \\sqrt[n]{\\hat{y_i}})^p$\n",
    " \n",
    "$nRE = (\\sqrt[n]{y_i} - \\sqrt[n]{\\hat{y_i}})^p$\n",
    "\n",
    "Phạm vi của bài tập chỉ yêu cầu các bạn viết hàm tính Different of nth Root Error cho một cặp\n",
    "y và ˆy, và giả sử rằng các điều kiện input đầu vào đều được đáp ứng để đơn giản hoá vấn đề\n",
    "\n",
    "**•Input:** y (giá trị của y), y_hat (gía trị của ˆy), n (căn bậc n), và p (bậc của hàm loss)\n",
    "\n",
    "**•Output:** Kết quả của hàm loss"
   ]
  },
  {
   "cell_type": "code",
   "execution_count": 24,
   "metadata": {},
   "outputs": [
    {
     "name": "stdout",
     "output_type": "stream",
     "text": [
      "nRE(y=100, y_hat=99.5, n=2, p=1) = 0.025031328369998107\n",
      "nRE(y=50, y_hat=49.5, n=2, p=1) = 0.03544417213033135\n",
      "nRE(y=20, y_hat=19.5, n=2, p=1) = 0.05625552183565574\n",
      "nRE(y=0.6, y_hat=0.1, n=2, p=1) = 0.45836890322464546\n"
     ]
    }
   ],
   "source": [
    "def nRE(y, y_hat, n, p):\n",
    "    return (math.pow(y, 1/n) - math.pow(y_hat, 1/n)) ** p\n",
    "\n",
    "print(f\"nRE(y=100, y_hat=99.5, n=2, p=1) = {nRE(100, 99.5, 2, 1)}\")\n",
    "print(f\"nRE(y=50, y_hat=49.5, n=2, p=1) = {nRE(50, 49.5, 2, 1)}\")\n",
    "print(f\"nRE(y=20, y_hat=19.5, n=2, p=1) = {nRE(20, 19.5, 2, 1)}\")\n",
    "print(f\"nRE(y=0.6, y_hat=0.1, n=2, p=1) = {nRE(0.6, 0.1, 2, 1)}\")\n"
   ]
  }
 ],
 "metadata": {
  "kernelspec": {
   "display_name": "Python 3",
   "language": "python",
   "name": "python3"
  },
  "language_info": {
   "codemirror_mode": {
    "name": "ipython",
    "version": 3
   },
   "file_extension": ".py",
   "mimetype": "text/x-python",
   "name": "python",
   "nbconvert_exporter": "python",
   "pygments_lexer": "ipython3",
   "version": "3.12.6"
  }
 },
 "nbformat": 4,
 "nbformat_minor": 2
}
