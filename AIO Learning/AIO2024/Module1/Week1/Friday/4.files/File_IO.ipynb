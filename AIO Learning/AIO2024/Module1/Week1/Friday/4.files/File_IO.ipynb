{
 "cells": [
  {
   "cell_type": "code",
   "execution_count": 6,
   "metadata": {},
   "outputs": [
    {
     "name": "stdout",
     "output_type": "stream",
     "text": [
      "<class 'str'>\n",
      "Hello Hoàng\n",
      "How are you? \n",
      "I am fine.\n"
     ]
    }
   ],
   "source": [
    "# kết nối với file\n",
    "a_file = open('hello_world.txt','r', encoding='utf-8') \n",
    "\n",
    "# read content as string\n",
    "data = a_file.read()\n",
    "\n",
    "print(type(data))\n",
    "print(data)\n",
    "\n",
    "# Đóng kết nối với file\n",
    "a_file.close()"
   ]
  },
  {
   "cell_type": "code",
   "execution_count": 7,
   "metadata": {},
   "outputs": [
    {
     "name": "stdout",
     "output_type": "stream",
     "text": [
      "Hello Hoàng\n",
      "\n",
      "How are you? \n",
      "\n",
      "I am fine.\n"
     ]
    }
   ],
   "source": [
    "# kết nối với file\n",
    "a_file = open('hello_world.txt','r', encoding='utf-8') \n",
    "\n",
    "# read content as string\n",
    "lines = a_file.readlines()\n",
    "for line in lines:\n",
    "    print(line)\n",
    "\n",
    "# Đóng kết nối với file\n",
    "a_file.close()"
   ]
  },
  {
   "cell_type": "code",
   "execution_count": null,
   "metadata": {},
   "outputs": [],
   "source": [
    "# kết nối với file\n",
    "var_file = open(file_name, mode)\n",
    "\n",
    "# ...\n",
    "# ...\n",
    "\n",
    "# Đóng kết nối với file\n",
    "var_file.close()"
   ]
  },
  {
   "cell_type": "code",
   "execution_count": 10,
   "metadata": {},
   "outputs": [],
   "source": [
    "# kết nối với file\n",
    "a_file = open('new_file.txt', 'w') \n",
    "\n",
    "text1 = 'content in line 1 \\n'\n",
    "a_file.write(text1)\n",
    "\n",
    "text2 = 'content in line 2 \\n'\n",
    "a_file.write(text2)\n",
    "\n",
    "# Đóng kết nối với file\n",
    "a_file.close()"
   ]
  },
  {
   "cell_type": "code",
   "execution_count": 11,
   "metadata": {},
   "outputs": [],
   "source": [
    "# kết nối với file\n",
    "a_file = open('non_existing_file.txt', 'a') \n",
    "\n",
    "text3 = 'content in line 3 \\n'\n",
    "a_file.write(text3)\n",
    "\n",
    "# Đóng kết nối với file\n",
    "a_file.close()"
   ]
  },
  {
   "cell_type": "code",
   "execution_count": 12,
   "metadata": {},
   "outputs": [],
   "source": [
    "# kết nối với file\n",
    "a_file = open('new_file.txt', 'a') \n",
    "\n",
    "text3 = 'content in line 3 \\n'\n",
    "a_file.write(text3)\n",
    "\n",
    "# Đóng kết nối với file\n",
    "a_file.close()"
   ]
  },
  {
   "cell_type": "code",
   "execution_count": 13,
   "metadata": {},
   "outputs": [],
   "source": [
    "# using with\n",
    "\n",
    "with open('hello_world.txt', 'w') as file:\n",
    "    file.write('writing line \\n')"
   ]
  }
 ],
 "metadata": {
  "kernelspec": {
   "display_name": "Python 3",
   "language": "python",
   "name": "python3"
  },
  "language_info": {
   "codemirror_mode": {
    "name": "ipython",
    "version": 3
   },
   "file_extension": ".py",
   "mimetype": "text/x-python",
   "name": "python",
   "nbconvert_exporter": "python",
   "pygments_lexer": "ipython3",
   "version": "3.12.6"
  }
 },
 "nbformat": 4,
 "nbformat_minor": 4
}
