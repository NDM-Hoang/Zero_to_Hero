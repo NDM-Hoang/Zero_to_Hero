{
 "cells": [
  {
   "cell_type": "code",
   "execution_count": 1,
   "metadata": {},
   "outputs": [
    {
     "name": "stdout",
     "output_type": "stream",
     "text": [
      "Estimated PI is  3.1414926535900345\n"
     ]
    }
   ],
   "source": [
    "# Gregory-Leibniz Series\n",
    "\n",
    "n = 10000\n",
    "PI = 0\n",
    "for i in range(1, n+1):    \n",
    "    PI = PI + (-1)**(i+1) / (2*i - 1)\n",
    "PI = PI*4\n",
    "\n",
    "print('Estimated PI is ', PI)"
   ]
  },
  {
   "cell_type": "code",
   "execution_count": 2,
   "metadata": {},
   "outputs": [
    {
     "name": "stdout",
     "output_type": "stream",
     "text": [
      "Estimated PI is  3.1414067184965018\n"
     ]
    }
   ],
   "source": [
    "# Nilakantha Series\n",
    "\n",
    "n = 10\n",
    "PI = 0\n",
    "for i in range(n):\n",
    "    PI = PI + (-1)**(i) / ((2*i+2)*(2*i+3)*(2*i+4))\n",
    "PI = 3 + 4*PI\n",
    "\n",
    "print('Estimated PI is ', PI)"
   ]
  },
  {
   "cell_type": "code",
   "execution_count": 5,
   "metadata": {},
   "outputs": [
    {
     "name": "stdout",
     "output_type": "stream",
     "text": [
      "3.1412812\n"
     ]
    }
   ],
   "source": [
    "# aivietnam.ai\n",
    "import random\n",
    "import math\n",
    "\n",
    "# số điểm thuộc tình tròn\n",
    "N_T = 0\n",
    "N = 10000000\n",
    "\n",
    "# Sinh ra N điểm ngẫu nhiên\n",
    "for i in range(N):\n",
    "    # sinh ra x, y thuộc [-1, 1].\n",
    "    x = random.random()*2 - 1\n",
    "    y = random.random()*2 - 1\n",
    "    \n",
    "    x2 = x**2\n",
    "    y2 = y**2\n",
    "    \n",
    "    # kiểm tra p có nằm trong đường tròn\n",
    "    if math.sqrt(x2 + y2) <= 1.0:\n",
    "        N_T = N_T + 1\n",
    "\n",
    "# tính PI\n",
    "pi = (N_T / N) * 4\n",
    "print(pi)"
   ]
  },
  {
   "cell_type": "code",
   "execution_count": 9,
   "metadata": {},
   "outputs": [
    {
     "name": "stdout",
     "output_type": "stream",
     "text": [
      "total_flips: 1000\n",
      "num_tails: 514\n",
      "num_heads: 486\n"
     ]
    }
   ],
   "source": [
    "# aivietnam.ai\n",
    "import random\n",
    "\n",
    "# Tổng số lần búng đồng xu\n",
    "total_flips = 0  \n",
    "\n",
    "# số lần mặt sau xuất hiện\n",
    "num_tails = 0\n",
    "\n",
    "# số lần mặt trước xuất hiện\n",
    "num_heads = 0\n",
    "\n",
    "for _ in range(1000):\n",
    "    # sinh số ngẫu nhiên nằm trong khoảng [0,1)\n",
    "    n = random.random()\n",
    "    if n < 0.5:\n",
    "        num_tails = num_tails + 1\n",
    "    else:\n",
    "        num_heads = num_heads + 1\n",
    "    \n",
    "    # code ở vị trí này không thuộc khối else    \n",
    "    total_flips = total_flips + 1\n",
    "    \n",
    "# code ở ví trị này không thuộc khối code cho for\n",
    "# vòng lặp for đã thực hiên xong\n",
    "print('total_flips: %d' % total_flips)\n",
    "print('num_tails: %d' % num_tails)\n",
    "print('num_heads: %d' % num_heads)"
   ]
  },
  {
   "cell_type": "code",
   "execution_count": 14,
   "metadata": {},
   "outputs": [
    {
     "name": "stdout",
     "output_type": "stream",
     "text": [
      "2.7182818284590455\n",
      "2.718281828459045\n"
     ]
    }
   ],
   "source": [
    "# compute factorial\n",
    "import math\n",
    "\n",
    "def factorial(n):    \n",
    "    result = 1\n",
    "    \n",
    "    for i in range(1, n+1):\n",
    "        result = result*i\n",
    "        \n",
    "    return result\n",
    "\n",
    "def estimate_e(n):\n",
    "    result = 0\n",
    "    \n",
    "    for i in range(n+1):\n",
    "        result = result + 1/factorial(i)\n",
    "        \n",
    "    return result\n",
    "\n",
    "print(estimate_e(1000))\n",
    "print(math.e)"
   ]
  },
  {
   "cell_type": "code",
   "execution_count": null,
   "metadata": {},
   "outputs": [
    {
     "name": "stdout",
     "output_type": "stream",
     "text": [
      "0\n",
      "1\n",
      "2\n"
     ]
    },
    {
     "ename": "KeyboardInterrupt",
     "evalue": "",
     "output_type": "error",
     "traceback": [
      "\u001b[1;31m---------------------------------------------------------------------------\u001b[0m",
      "\u001b[1;31mKeyboardInterrupt\u001b[0m                         Traceback (most recent call last)",
      "Cell \u001b[1;32mIn[15], line 4\u001b[0m\n\u001b[0;32m      2\u001b[0m \u001b[38;5;28;01mwhile\u001b[39;00m i \u001b[38;5;241m<\u001b[39m \u001b[38;5;241m6\u001b[39m: \n\u001b[0;32m      3\u001b[0m     \u001b[38;5;28;01mif\u001b[39;00m i \u001b[38;5;241m==\u001b[39m \u001b[38;5;241m3\u001b[39m:\n\u001b[1;32m----> 4\u001b[0m         \u001b[38;5;28;01mcontinue\u001b[39;00m\n\u001b[0;32m      5\u001b[0m     \u001b[38;5;28mprint\u001b[39m(i)    \n\u001b[0;32m      6\u001b[0m     i \u001b[38;5;241m=\u001b[39m i \u001b[38;5;241m+\u001b[39m \u001b[38;5;241m1\u001b[39m\n",
      "\u001b[1;31mKeyboardInterrupt\u001b[0m: "
     ]
    }
   ],
   "source": [
    "i = 0\n",
    "while i < 6: \n",
    "    if i == 3:\n",
    "        continue # infinite loop bc i keep = 3 not updated\n",
    "    print(i)    \n",
    "    i = i + 1"
   ]
  }
 ],
 "metadata": {
  "kernelspec": {
   "display_name": "Python 3",
   "language": "python",
   "name": "python3"
  },
  "language_info": {
   "codemirror_mode": {
    "name": "ipython",
    "version": 3
   },
   "file_extension": ".py",
   "mimetype": "text/x-python",
   "name": "python",
   "nbconvert_exporter": "python",
   "pygments_lexer": "ipython3",
   "version": "3.12.6"
  }
 },
 "nbformat": 4,
 "nbformat_minor": 4
}
