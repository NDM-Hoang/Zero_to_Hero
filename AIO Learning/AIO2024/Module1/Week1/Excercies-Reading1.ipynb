{
 "cells": [
  {
   "cell_type": "markdown",
   "metadata": {},
   "source": [
    "#### **Tạo file và đặt tên file**\n",
    "#### Bạn hãy tạo file và đặt tên file bất kỳ nhưng tên phải được viết thường và mỗi từ cách nhau bởi dấu gạch dưới ‘\"_\"‘, ví dụ như ‘simple_message.ipynb‘. Sau đó hãy lập trình in chuỗi ‘\"Hello world!\"‘ ra màn hình."
   ]
  },
  {
   "cell_type": "code",
   "execution_count": 1,
   "metadata": {},
   "outputs": [
    {
     "name": "stdout",
     "output_type": "stream",
     "text": [
      "Hello world!\n"
     ]
    }
   ],
   "source": [
    "print(\"Hello world!\")"
   ]
  },
  {
   "cell_type": "markdown",
   "metadata": {},
   "source": [
    "#### Gán một chuỗi ‘\"Have a nice day!\"‘ vào biến ‘message‘. Sau đó sử dụng câu lệnh ‘print‘ để hiển thị biến này ra màn hình."
   ]
  },
  {
   "cell_type": "code",
   "execution_count": 2,
   "metadata": {},
   "outputs": [
    {
     "name": "stdout",
     "output_type": "stream",
     "text": [
      "Have a nice day!\n"
     ]
    }
   ],
   "source": [
    "message = \"Have a nice day!\"\n",
    "print(message)"
   ]
  },
  {
   "cell_type": "markdown",
   "metadata": {},
   "source": [
    "#### Tạo một chuỗi \"Let’s have Tet holidays!\" và gán vào biến 'message_tet'. Sau đó, sử dụng câu lệnh 'print' để hiển thị biến này ra màn hình. Nếu có lỗi xảy ra, hãy xác định và sửa lỗi đó, rồi chạy lại chương trình."
   ]
  },
  {
   "cell_type": "code",
   "execution_count": 3,
   "metadata": {},
   "outputs": [
    {
     "name": "stdout",
     "output_type": "stream",
     "text": [
      "Let's have Tet holidays!\n"
     ]
    }
   ],
   "source": [
    "message_tet = \"Let's have Tet holidays!\"\n",
    "print(message_tet)"
   ]
  }
 ],
 "metadata": {
  "kernelspec": {
   "display_name": "Python 3",
   "language": "python",
   "name": "python3"
  },
  "language_info": {
   "codemirror_mode": {
    "name": "ipython",
    "version": 3
   },
   "file_extension": ".py",
   "mimetype": "text/x-python",
   "name": "python",
   "nbconvert_exporter": "python",
   "pygments_lexer": "ipython3",
   "version": "3.12.6"
  }
 },
 "nbformat": 4,
 "nbformat_minor": 2
}
