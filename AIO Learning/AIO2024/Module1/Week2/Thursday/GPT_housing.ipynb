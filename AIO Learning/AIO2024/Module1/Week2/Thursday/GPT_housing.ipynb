{
  "cells": [
    {
      "cell_type": "code",
      "execution_count": 4,
      "metadata": {
        "colab": {
          "base_uri": "https://localhost:8080/"
        },
        "id": "t2ZG6LDaMRn3",
        "outputId": "de3ab824-d73d-4ce0-d676-4b9ddd1978f2"
      },
      "outputs": [
        {
          "name": "stderr",
          "output_type": "stream",
          "text": [
            "Downloading...\n",
            "From: https://drive.google.com/uc?id=1O-yTEGs_us3hvnatQN0jIx6VqeZzmNq0\n",
            "To: d:\\Courses\\AIO2024\\New folder\\AIO Learning\\AIO2024\\Module1\\Week2\\Thursday\\aio-competition-part-1-housing-price-prediction.zip\n",
            "\n",
            "  0%|          | 0.00/560k [00:00<?, ?B/s]\n",
            " 94%|█████████▎| 524k/560k [00:00<00:00, 2.06MB/s]\n",
            "100%|██████████| 560k/560k [00:00<00:00, 2.14MB/s]\n"
          ]
        }
      ],
      "source": [
        "!gdown 1O-yTEGs_us3hvnatQN0jIx6VqeZzmNq0"
      ]
    },
    {
      "cell_type": "code",
      "execution_count": 6,
      "metadata": {
        "colab": {
          "base_uri": "https://localhost:8080/"
        },
        "id": "Kb2XQaH7NKyE",
        "outputId": "2b27f78f-6b41-45e0-df40-c07c2aa445a0"
      },
      "outputs": [],
      "source": [
        "import zipfile\n",
        "with zipfile.ZipFile('aio-competition-part-1-housing-price-prediction.zip', 'r') as zip_ref:\n",
        "    zip_ref.extractall()"
      ]
    },
    {
      "cell_type": "code",
      "execution_count": 9,
      "metadata": {
        "id": "jcGPOUEsNZbz"
      },
      "outputs": [],
      "source": [
        "from sklearn.ensemble import RandomForestRegressor\n",
        "from sklearn.decomposition import PCA\n",
        "from sklearn.model_selection import train_test_split\n",
        "import numpy as np\n",
        "import pandas as pd\n",
        "import matplotlib.pyplot as plt\n"
      ]
    },
    {
      "cell_type": "code",
      "execution_count": 10,
      "metadata": {
        "id": "HAtxSEqSOnDg"
      },
      "outputs": [],
      "source": [
        "housing_data = pd.read_csv('train.csv')"
      ]
    },
    {
      "cell_type": "code",
      "execution_count": 11,
      "metadata": {
        "colab": {
          "base_uri": "https://localhost:8080/",
          "height": 290
        },
        "id": "idslRMgdPU2W",
        "outputId": "e1fbd66c-bb76-472c-f869-6d59aff9e300"
      },
      "outputs": [
        {
          "data": {
            "text/html": [
              "<div>\n",
              "<style scoped>\n",
              "    .dataframe tbody tr th:only-of-type {\n",
              "        vertical-align: middle;\n",
              "    }\n",
              "\n",
              "    .dataframe tbody tr th {\n",
              "        vertical-align: top;\n",
              "    }\n",
              "\n",
              "    .dataframe thead th {\n",
              "        text-align: right;\n",
              "    }\n",
              "</style>\n",
              "<table border=\"1\" class=\"dataframe\">\n",
              "  <thead>\n",
              "    <tr style=\"text-align: right;\">\n",
              "      <th></th>\n",
              "      <th>id</th>\n",
              "      <th>Area</th>\n",
              "      <th>Location</th>\n",
              "      <th>No. of Bedrooms</th>\n",
              "      <th>Resale</th>\n",
              "      <th>MaintenanceStaff</th>\n",
              "      <th>Gymnasium</th>\n",
              "      <th>SwimmingPool</th>\n",
              "      <th>LandscapedGardens</th>\n",
              "      <th>JoggingTrack</th>\n",
              "      <th>...</th>\n",
              "      <th>BED</th>\n",
              "      <th>VaastuCompliant</th>\n",
              "      <th>Microwave</th>\n",
              "      <th>GolfCourse</th>\n",
              "      <th>TV</th>\n",
              "      <th>DiningTable</th>\n",
              "      <th>Sofa</th>\n",
              "      <th>Wardrobe</th>\n",
              "      <th>Refrigerator</th>\n",
              "      <th>Price</th>\n",
              "    </tr>\n",
              "  </thead>\n",
              "  <tbody>\n",
              "    <tr>\n",
              "      <th>0</th>\n",
              "      <td>26813</td>\n",
              "      <td>964</td>\n",
              "      <td>Hooghly Chinsurah</td>\n",
              "      <td>3</td>\n",
              "      <td>0</td>\n",
              "      <td>9</td>\n",
              "      <td>9</td>\n",
              "      <td>9</td>\n",
              "      <td>9</td>\n",
              "      <td>9</td>\n",
              "      <td>...</td>\n",
              "      <td>9</td>\n",
              "      <td>9</td>\n",
              "      <td>9</td>\n",
              "      <td>9</td>\n",
              "      <td>9</td>\n",
              "      <td>9</td>\n",
              "      <td>9</td>\n",
              "      <td>9</td>\n",
              "      <td>9</td>\n",
              "      <td>7500000</td>\n",
              "    </tr>\n",
              "    <tr>\n",
              "      <th>1</th>\n",
              "      <td>10365</td>\n",
              "      <td>1075</td>\n",
              "      <td>Virar West</td>\n",
              "      <td>2</td>\n",
              "      <td>1</td>\n",
              "      <td>1</td>\n",
              "      <td>1</td>\n",
              "      <td>0</td>\n",
              "      <td>0</td>\n",
              "      <td>0</td>\n",
              "      <td>...</td>\n",
              "      <td>1</td>\n",
              "      <td>0</td>\n",
              "      <td>0</td>\n",
              "      <td>0</td>\n",
              "      <td>0</td>\n",
              "      <td>0</td>\n",
              "      <td>0</td>\n",
              "      <td>0</td>\n",
              "      <td>0</td>\n",
              "      <td>6200000</td>\n",
              "    </tr>\n",
              "    <tr>\n",
              "      <th>2</th>\n",
              "      <td>17863</td>\n",
              "      <td>2092</td>\n",
              "      <td>Manikonda</td>\n",
              "      <td>3</td>\n",
              "      <td>0</td>\n",
              "      <td>1</td>\n",
              "      <td>1</td>\n",
              "      <td>1</td>\n",
              "      <td>1</td>\n",
              "      <td>0</td>\n",
              "      <td>...</td>\n",
              "      <td>0</td>\n",
              "      <td>1</td>\n",
              "      <td>0</td>\n",
              "      <td>0</td>\n",
              "      <td>0</td>\n",
              "      <td>0</td>\n",
              "      <td>0</td>\n",
              "      <td>0</td>\n",
              "      <td>0</td>\n",
              "      <td>10400000</td>\n",
              "    </tr>\n",
              "    <tr>\n",
              "      <th>3</th>\n",
              "      <td>24337</td>\n",
              "      <td>1174</td>\n",
              "      <td>Devanahalli</td>\n",
              "      <td>2</td>\n",
              "      <td>1</td>\n",
              "      <td>9</td>\n",
              "      <td>9</td>\n",
              "      <td>9</td>\n",
              "      <td>9</td>\n",
              "      <td>9</td>\n",
              "      <td>...</td>\n",
              "      <td>9</td>\n",
              "      <td>9</td>\n",
              "      <td>9</td>\n",
              "      <td>9</td>\n",
              "      <td>9</td>\n",
              "      <td>9</td>\n",
              "      <td>9</td>\n",
              "      <td>9</td>\n",
              "      <td>9</td>\n",
              "      <td>18600000</td>\n",
              "    </tr>\n",
              "    <tr>\n",
              "      <th>4</th>\n",
              "      <td>12590</td>\n",
              "      <td>1380</td>\n",
              "      <td>Kharghar</td>\n",
              "      <td>2</td>\n",
              "      <td>1</td>\n",
              "      <td>9</td>\n",
              "      <td>9</td>\n",
              "      <td>9</td>\n",
              "      <td>9</td>\n",
              "      <td>9</td>\n",
              "      <td>...</td>\n",
              "      <td>9</td>\n",
              "      <td>9</td>\n",
              "      <td>9</td>\n",
              "      <td>9</td>\n",
              "      <td>9</td>\n",
              "      <td>9</td>\n",
              "      <td>9</td>\n",
              "      <td>9</td>\n",
              "      <td>9</td>\n",
              "      <td>9500000</td>\n",
              "    </tr>\n",
              "  </tbody>\n",
              "</table>\n",
              "<p>5 rows × 41 columns</p>\n",
              "</div>"
            ],
            "text/plain": [
              "      id  Area           Location  No. of Bedrooms  Resale  MaintenanceStaff  \\\n",
              "0  26813   964  Hooghly Chinsurah                3       0                 9   \n",
              "1  10365  1075         Virar West                2       1                 1   \n",
              "2  17863  2092          Manikonda                3       0                 1   \n",
              "3  24337  1174        Devanahalli                2       1                 9   \n",
              "4  12590  1380           Kharghar                2       1                 9   \n",
              "\n",
              "   Gymnasium  SwimmingPool  LandscapedGardens  JoggingTrack  ...  BED  \\\n",
              "0          9             9                  9             9  ...    9   \n",
              "1          1             0                  0             0  ...    1   \n",
              "2          1             1                  1             0  ...    0   \n",
              "3          9             9                  9             9  ...    9   \n",
              "4          9             9                  9             9  ...    9   \n",
              "\n",
              "   VaastuCompliant  Microwave  GolfCourse  TV  DiningTable  Sofa  Wardrobe  \\\n",
              "0                9          9           9   9            9     9         9   \n",
              "1                0          0           0   0            0     0         0   \n",
              "2                1          0           0   0            0     0         0   \n",
              "3                9          9           9   9            9     9         9   \n",
              "4                9          9           9   9            9     9         9   \n",
              "\n",
              "   Refrigerator     Price  \n",
              "0             9   7500000  \n",
              "1             0   6200000  \n",
              "2             0  10400000  \n",
              "3             9  18600000  \n",
              "4             9   9500000  \n",
              "\n",
              "[5 rows x 41 columns]"
            ]
          },
          "execution_count": 11,
          "metadata": {},
          "output_type": "execute_result"
        }
      ],
      "source": [
        "housing_data.head()"
      ]
    },
    {
      "cell_type": "code",
      "execution_count": 12,
      "metadata": {
        "id": "mRZ9AnYwGxc9"
      },
      "outputs": [],
      "source": [
        "housing_data = housing_data.drop(columns=[\"Resale\"]) # Nhà mua lại hay không không ảnh hưởng tới giá\n",
        "housing_data = housing_data.drop(columns=[\"Location\"])\n",
        "housing_data = housing_data.drop(columns=[\"id\"])"
      ]
    },
    {
      "cell_type": "code",
      "execution_count": 13,
      "metadata": {
        "colab": {
          "base_uri": "https://localhost:8080/",
          "height": 273
        },
        "id": "L6uht-0JG3VU",
        "outputId": "2b1b669f-4421-4325-a495-3be21dfe05af"
      },
      "outputs": [
        {
          "data": {
            "text/html": [
              "<div>\n",
              "<style scoped>\n",
              "    .dataframe tbody tr th:only-of-type {\n",
              "        vertical-align: middle;\n",
              "    }\n",
              "\n",
              "    .dataframe tbody tr th {\n",
              "        vertical-align: top;\n",
              "    }\n",
              "\n",
              "    .dataframe thead th {\n",
              "        text-align: right;\n",
              "    }\n",
              "</style>\n",
              "<table border=\"1\" class=\"dataframe\">\n",
              "  <thead>\n",
              "    <tr style=\"text-align: right;\">\n",
              "      <th></th>\n",
              "      <th>Area</th>\n",
              "      <th>No. of Bedrooms</th>\n",
              "      <th>MaintenanceStaff</th>\n",
              "      <th>Gymnasium</th>\n",
              "      <th>SwimmingPool</th>\n",
              "      <th>LandscapedGardens</th>\n",
              "      <th>JoggingTrack</th>\n",
              "      <th>RainWaterHarvesting</th>\n",
              "      <th>IndoorGames</th>\n",
              "      <th>ShoppingMall</th>\n",
              "      <th>...</th>\n",
              "      <th>BED</th>\n",
              "      <th>VaastuCompliant</th>\n",
              "      <th>Microwave</th>\n",
              "      <th>GolfCourse</th>\n",
              "      <th>TV</th>\n",
              "      <th>DiningTable</th>\n",
              "      <th>Sofa</th>\n",
              "      <th>Wardrobe</th>\n",
              "      <th>Refrigerator</th>\n",
              "      <th>Price</th>\n",
              "    </tr>\n",
              "  </thead>\n",
              "  <tbody>\n",
              "    <tr>\n",
              "      <th>0</th>\n",
              "      <td>964</td>\n",
              "      <td>3</td>\n",
              "      <td>9</td>\n",
              "      <td>9</td>\n",
              "      <td>9</td>\n",
              "      <td>9</td>\n",
              "      <td>9</td>\n",
              "      <td>9</td>\n",
              "      <td>9</td>\n",
              "      <td>9</td>\n",
              "      <td>...</td>\n",
              "      <td>9</td>\n",
              "      <td>9</td>\n",
              "      <td>9</td>\n",
              "      <td>9</td>\n",
              "      <td>9</td>\n",
              "      <td>9</td>\n",
              "      <td>9</td>\n",
              "      <td>9</td>\n",
              "      <td>9</td>\n",
              "      <td>7500000</td>\n",
              "    </tr>\n",
              "    <tr>\n",
              "      <th>1</th>\n",
              "      <td>1075</td>\n",
              "      <td>2</td>\n",
              "      <td>1</td>\n",
              "      <td>1</td>\n",
              "      <td>0</td>\n",
              "      <td>0</td>\n",
              "      <td>0</td>\n",
              "      <td>0</td>\n",
              "      <td>0</td>\n",
              "      <td>0</td>\n",
              "      <td>...</td>\n",
              "      <td>1</td>\n",
              "      <td>0</td>\n",
              "      <td>0</td>\n",
              "      <td>0</td>\n",
              "      <td>0</td>\n",
              "      <td>0</td>\n",
              "      <td>0</td>\n",
              "      <td>0</td>\n",
              "      <td>0</td>\n",
              "      <td>6200000</td>\n",
              "    </tr>\n",
              "    <tr>\n",
              "      <th>2</th>\n",
              "      <td>2092</td>\n",
              "      <td>3</td>\n",
              "      <td>1</td>\n",
              "      <td>1</td>\n",
              "      <td>1</td>\n",
              "      <td>1</td>\n",
              "      <td>0</td>\n",
              "      <td>1</td>\n",
              "      <td>1</td>\n",
              "      <td>0</td>\n",
              "      <td>...</td>\n",
              "      <td>0</td>\n",
              "      <td>1</td>\n",
              "      <td>0</td>\n",
              "      <td>0</td>\n",
              "      <td>0</td>\n",
              "      <td>0</td>\n",
              "      <td>0</td>\n",
              "      <td>0</td>\n",
              "      <td>0</td>\n",
              "      <td>10400000</td>\n",
              "    </tr>\n",
              "    <tr>\n",
              "      <th>3</th>\n",
              "      <td>1174</td>\n",
              "      <td>2</td>\n",
              "      <td>9</td>\n",
              "      <td>9</td>\n",
              "      <td>9</td>\n",
              "      <td>9</td>\n",
              "      <td>9</td>\n",
              "      <td>9</td>\n",
              "      <td>9</td>\n",
              "      <td>9</td>\n",
              "      <td>...</td>\n",
              "      <td>9</td>\n",
              "      <td>9</td>\n",
              "      <td>9</td>\n",
              "      <td>9</td>\n",
              "      <td>9</td>\n",
              "      <td>9</td>\n",
              "      <td>9</td>\n",
              "      <td>9</td>\n",
              "      <td>9</td>\n",
              "      <td>18600000</td>\n",
              "    </tr>\n",
              "    <tr>\n",
              "      <th>4</th>\n",
              "      <td>1380</td>\n",
              "      <td>2</td>\n",
              "      <td>9</td>\n",
              "      <td>9</td>\n",
              "      <td>9</td>\n",
              "      <td>9</td>\n",
              "      <td>9</td>\n",
              "      <td>9</td>\n",
              "      <td>9</td>\n",
              "      <td>9</td>\n",
              "      <td>...</td>\n",
              "      <td>9</td>\n",
              "      <td>9</td>\n",
              "      <td>9</td>\n",
              "      <td>9</td>\n",
              "      <td>9</td>\n",
              "      <td>9</td>\n",
              "      <td>9</td>\n",
              "      <td>9</td>\n",
              "      <td>9</td>\n",
              "      <td>9500000</td>\n",
              "    </tr>\n",
              "  </tbody>\n",
              "</table>\n",
              "<p>5 rows × 38 columns</p>\n",
              "</div>"
            ],
            "text/plain": [
              "   Area  No. of Bedrooms  MaintenanceStaff  Gymnasium  SwimmingPool  \\\n",
              "0   964                3                 9          9             9   \n",
              "1  1075                2                 1          1             0   \n",
              "2  2092                3                 1          1             1   \n",
              "3  1174                2                 9          9             9   \n",
              "4  1380                2                 9          9             9   \n",
              "\n",
              "   LandscapedGardens  JoggingTrack  RainWaterHarvesting  IndoorGames  \\\n",
              "0                  9             9                    9            9   \n",
              "1                  0             0                    0            0   \n",
              "2                  1             0                    1            1   \n",
              "3                  9             9                    9            9   \n",
              "4                  9             9                    9            9   \n",
              "\n",
              "   ShoppingMall  ...  BED  VaastuCompliant  Microwave  GolfCourse  TV  \\\n",
              "0             9  ...    9                9          9           9   9   \n",
              "1             0  ...    1                0          0           0   0   \n",
              "2             0  ...    0                1          0           0   0   \n",
              "3             9  ...    9                9          9           9   9   \n",
              "4             9  ...    9                9          9           9   9   \n",
              "\n",
              "   DiningTable  Sofa  Wardrobe  Refrigerator     Price  \n",
              "0            9     9         9             9   7500000  \n",
              "1            0     0         0             0   6200000  \n",
              "2            0     0         0             0  10400000  \n",
              "3            9     9         9             9  18600000  \n",
              "4            9     9         9             9   9500000  \n",
              "\n",
              "[5 rows x 38 columns]"
            ]
          },
          "execution_count": 13,
          "metadata": {},
          "output_type": "execute_result"
        }
      ],
      "source": [
        "housing_data.head()"
      ]
    },
    {
      "cell_type": "code",
      "execution_count": 14,
      "metadata": {
        "id": "ShTU7i25I5IW"
      },
      "outputs": [],
      "source": [
        "def mix_feature(housing_data, train_data=True):\n",
        "  # Kết hợp các biến số học\n",
        "  housing_data['Area_per_Bedroom'] = housing_data['Area'] / housing_data['No. of Bedrooms']\n",
        "  # Tạo các biến tương tác\n",
        "  housing_data['Bedrooms_Gymnasium'] = housing_data['No. of Bedrooms'] * housing_data['Gymnasium']\n",
        "  # Biến đổi log\n",
        "  if train_data:\n",
        "    housing_data['Log_Price'] = housing_data['Price'].apply(lambda x: np.log(x) if x > 0 else 0)\n",
        "  # Biến đổi root\n",
        "  housing_data['Root_Area'] = housing_data['Area'].apply(lambda x: np.sqrt(x))\n",
        "\n",
        "  # Kết hợp các biến số học khác: MaintenanceStaff và CarParking\n",
        "  housing_data['Staff_per_CarParking'] = housing_data['MaintenanceStaff'] / (housing_data['CarParking'] + 1)\n",
        "  # Kết hợp các biến số học khác: SwimmingPool và Gymnasium\n",
        "  housing_data['Pool_Gym'] = housing_data['SwimmingPool'] + housing_data['Gymnasium']\n",
        "  # Kết hợp các biến số học khác: PowerBackup và 24X7Security\n",
        "  housing_data['Power_Security'] = housing_data['PowerBackup'] + housing_data['24X7Security']\n",
        "  # Tạo các biến tương tác khác: SportsFacility và ClubHouse\n",
        "  housing_data['Sports_Club'] = housing_data['SportsFacility'] * housing_data['ClubHouse']\n",
        "  # Tạo các biến tương tác khác: Intercom và VaastuCompliant\n",
        "  housing_data['Intercom_Vaastu'] = housing_data['Intercom'] * housing_data['VaastuCompliant']\n",
        "\n",
        "  # Kết hợp các biến số học khác: ATM và CarParking\n",
        "  housing_data['ATM_per_CarParking'] = housing_data['ATM'] / (housing_data['CarParking'] + 1)\n",
        "  # Kết hợp các biến số học khác: SportsFacility và SwimmingPool\n",
        "  housing_data['Sports_Pool'] = housing_data['SportsFacility'] + housing_data['SwimmingPool']\n",
        "  # Tạo các biến tương tác khác: ClubHouse và Gymnasium\n",
        "  housing_data['Club_Gym'] = housing_data['ClubHouse'] * housing_data['Gymnasium']\n",
        "\n",
        "  return housing_data"
      ]
    },
    {
      "cell_type": "code",
      "execution_count": 15,
      "metadata": {
        "colab": {
          "base_uri": "https://localhost:8080/"
        },
        "id": "YuLdkOnCL2cB",
        "outputId": "7881c6b0-c4da-4a2e-e7bb-00d04cf52981"
      },
      "outputs": [
        {
          "name": "stdout",
          "output_type": "stream",
          "text": [
            "(6593, 40)\n",
            "(26370, 38)\n"
          ]
        }
      ],
      "source": [
        "data_test = pd.read_csv('test.csv')\n",
        "\n",
        "print(data_test.shape) # thiếu cột price\n",
        "print(housing_data.shape) # thiếu cột resale do đã xóa"
      ]
    },
    {
      "cell_type": "code",
      "execution_count": 16,
      "metadata": {
        "colab": {
          "base_uri": "https://localhost:8080/"
        },
        "id": "_C9YHBh7MDOb",
        "outputId": "f40bc458-f5e4-4a8a-b592-94e20ff4f8da"
      },
      "outputs": [
        {
          "name": "stdout",
          "output_type": "stream",
          "text": [
            "(6593, 37)\n"
          ]
        }
      ],
      "source": [
        "data_test = data_test.drop(columns=[\"Resale\"]) # xóa resale ở dataset\n",
        "data_test = data_test.drop(columns=[\"Location\"]) # xóa location ở dataset\n",
        "data_test = data_test.drop(columns=[\"id\"]) # xóa location ở dataset\n",
        "print(data_test.shape)"
      ]
    },
    {
      "cell_type": "code",
      "execution_count": 17,
      "metadata": {
        "colab": {
          "base_uri": "https://localhost:8080/"
        },
        "id": "zm4P22uFKQZ1",
        "outputId": "ef60f51c-45a9-442b-a63b-bfafe975ae86"
      },
      "outputs": [
        {
          "name": "stdout",
          "output_type": "stream",
          "text": [
            "(26370, 49)\n",
            "(6593, 48)\n"
          ]
        }
      ],
      "source": [
        "# mix feature\n",
        "data_test = mix_feature(data_test, False)\n",
        "housing_data = mix_feature(housing_data, True)\n",
        "housing_data = housing_data.drop(columns=['Price']) # sử dụng log_price\n",
        "print(housing_data.shape)\n",
        "print(data_test.shape)"
      ]
    },
    {
      "cell_type": "code",
      "execution_count": 18,
      "metadata": {
        "colab": {
          "base_uri": "https://localhost:8080/"
        },
        "id": "wZjMkyfMMJvc",
        "outputId": "076bd4e6-25f9-4e68-b73f-afe0bbfce14a"
      },
      "outputs": [
        {
          "name": "stdout",
          "output_type": "stream",
          "text": [
            "(26370, 48)\n",
            "(6593, 48)\n"
          ]
        }
      ],
      "source": [
        "X = housing_data.drop(columns=['Log_Price'])  # Bỏ cột mục tiêu là log_price\n",
        "y = housing_data['Log_Price']  # Lấy cột mục tiêu là log_price\n",
        "print(X.shape)\n",
        "print(data_test.shape)\n",
        "# X_train, X_test, y_train, y_test = train_test_split(X, y, test_size=0.2, random_state=42)"
      ]
    },
    {
      "cell_type": "code",
      "execution_count": 22,
      "metadata": {
        "colab": {
          "base_uri": "https://localhost:8080/"
        },
        "id": "TR98jmjFcxt_",
        "outputId": "c9744a2d-f30d-4308-f29c-80b4f7d3f329"
      },
      "outputs": [],
      "source": [
        "# data processing\n",
        "from sklearn.preprocessing import OneHotEncoder\n",
        "from sklearn.preprocessing import StandardScaler\n",
        "\n",
        "categorical_columns = X.select_dtypes(include=['object']).columns.tolist()\n",
        "numeric_columns = X.select_dtypes(include=[np.number]).columns.tolist()\n",
        "\n",
        "encoder = OneHotEncoder(drop='first', sparse_output=False)\n",
        "encoded_categorical_X = encoder.fit_transform(X[categorical_columns])\n",
        "encoded_categorical_data_test = encoder.transform(data_test[categorical_columns])\n",
        "\n",
        "encoded_categorical_df_train = pd.DataFrame(encoded_categorical_X, columns=encoder.get_feature_names_out(categorical_columns))\n",
        "encoded_categorical_df_test = pd.DataFrame(encoded_categorical_data_test, columns=encoder.get_feature_names_out(categorical_columns))\n",
        "\n",
        "data_train_encoded = pd.concat([X[numeric_columns], encoded_categorical_df_train], axis=1)\n",
        "data_test_encoded = pd.concat([data_test[numeric_columns], encoded_categorical_df_test], axis=1)\n",
        "\n",
        "scaler = StandardScaler()\n",
        "scaled_data_train = scaler.fit_transform(data_train_encoded)\n",
        "scaled_data_test = scaler.transform(data_test_encoded)\n",
        "\n",
        "data_train_scaled = pd.DataFrame(scaled_data_train, columns=data_train_encoded.columns)\n",
        "data_test_scaled = pd.DataFrame(scaled_data_test, columns=data_test_encoded.columns)\n"
      ]
    },
    {
      "cell_type": "code",
      "execution_count": 23,
      "metadata": {
        "id": "NtRz_nhGO2oh"
      },
      "outputs": [],
      "source": [
        "# split data\n",
        "X_train, X_test, y_train, y_test = train_test_split(X, y, test_size=0.2, random_state=42)"
      ]
    },
    {
      "cell_type": "code",
      "execution_count": 24,
      "metadata": {
        "id": "IleNGEGJNz9b"
      },
      "outputs": [],
      "source": [
        "# Hàm lựa chọn biến quan trọng bằng Random Forest Feature Importance\n",
        "def select_features_random_forest(X_train, y_train):\n",
        "    rf = RandomForestRegressor(n_estimators=100, random_state=42)\n",
        "    rf.fit(X_train, y_train)\n",
        "    importances = rf.feature_importances_\n",
        "    indices = np.argsort(importances)[::-1]\n",
        "    return X_train.columns[indices], importances[indices]"
      ]
    },
    {
      "cell_type": "code",
      "execution_count": 25,
      "metadata": {
        "colab": {
          "base_uri": "https://localhost:8080/"
        },
        "id": "JvfRBeEBQMjq",
        "outputId": "1b507278-c4b6-4793-a823-42c8c967282d"
      },
      "outputs": [
        {
          "name": "stdout",
          "output_type": "stream",
          "text": [
            "                 Feature  Importance\n",
            "0                   Area    0.294344\n",
            "1              Root_Area    0.289366\n",
            "2       Area_per_Bedroom    0.237330\n",
            "3       MaintenanceStaff    0.021169\n",
            "4   Staff_per_CarParking    0.017705\n",
            "5     Bedrooms_Gymnasium    0.013837\n",
            "6     ATM_per_CarParking    0.013626\n",
            "7          Gasconnection    0.011069\n",
            "8          LiftAvailable    0.005384\n",
            "9     Children'splayarea    0.004908\n",
            "10              Intercom    0.004897\n",
            "11       No. of Bedrooms    0.004574\n",
            "12   RainWaterHarvesting    0.004518\n",
            "13            CarParking    0.004250\n",
            "14                   BED    0.003997\n",
            "15        Power_Security    0.003961\n",
            "16                  Wifi    0.003672\n",
            "17     LandscapedGardens    0.003235\n",
            "18       VaastuCompliant    0.003040\n",
            "19              Pool_Gym    0.002916\n",
            "20           Sports_Pool    0.002881\n",
            "21          StaffQuarter    0.002845\n",
            "22           IndoorGames    0.002646\n",
            "23          JoggingTrack    0.002592\n",
            "24             ClubHouse    0.002531\n",
            "25      MultipurposeRoom    0.002423\n",
            "26           PowerBackup    0.002321\n",
            "27                School    0.002273\n",
            "28                    AC    0.002252\n",
            "29             Cafeteria    0.002231\n",
            "30              Wardrobe    0.002099\n",
            "31          24X7Security    0.002026\n",
            "32                    TV    0.001999\n",
            "33       Intercom_Vaastu    0.001983\n",
            "34             Gymnasium    0.001967\n",
            "35            GolfCourse    0.001821\n",
            "36              Club_Gym    0.001748\n",
            "37           Sports_Club    0.001731\n",
            "38          Refrigerator    0.001582\n",
            "39        SportsFacility    0.001471\n",
            "40          ShoppingMall    0.001420\n",
            "41          SwimmingPool    0.001390\n",
            "42              Hospital    0.001202\n",
            "43             Microwave    0.001106\n",
            "44                  Sofa    0.001063\n",
            "45           DiningTable    0.000939\n",
            "46                   ATM    0.000900\n",
            "47        WashingMachine    0.000762\n"
          ]
        }
      ],
      "source": [
        "# Lựa chọn biến quan trọng bằng Random Forest\n",
        "important_features_rf, importances_rf = select_features_random_forest(X_train, y_train)\n",
        "\n",
        "# Hiển thị kết quả Random Forest Feature Importance\n",
        "rf_feature_importance = pd.DataFrame({'Feature': important_features_rf, 'Importance': importances_rf})\n",
        "print(rf_feature_importance)"
      ]
    },
    {
      "cell_type": "code",
      "execution_count": 26,
      "metadata": {
        "colab": {
          "base_uri": "https://localhost:8080/"
        },
        "id": "rc1RiSc1pMpX",
        "outputId": "afcb5eef-1401-41f5-a757-7032c4d25e30"
      },
      "outputs": [
        {
          "name": "stdout",
          "output_type": "stream",
          "text": [
            "RMSE: 0.73205087514973\n"
          ]
        }
      ],
      "source": [
        "from sklearn.linear_model import LinearRegression\n",
        "from sklearn.metrics import mean_squared_error\n",
        "# dùng các feature trên 0.002\n",
        "num_rf_features = 48\n",
        "important_features_rf_selected = important_features_rf[:num_rf_features]\n",
        "\n",
        "X_train_selected = X_train[important_features_rf_selected]\n",
        "X_test_selected = X_test[important_features_rf_selected]\n",
        "\n",
        "# Huấn luyện mô hình Linear Regression\n",
        "linear_regressor_rf = LinearRegression()\n",
        "linear_regressor_rf.fit(X_train_selected, y_train)\n",
        "\n",
        "# Dự đoán trên tập kiểm tra\n",
        "y_pred = linear_regressor_rf.predict(X_test_selected)\n",
        "\n",
        "# Tính toán RMSE # 0.7320508751497298\n",
        "rmse = np.sqrt(mean_squared_error(y_test, y_pred))\n",
        "print(f'RMSE: {rmse}')"
      ]
    },
    {
      "cell_type": "markdown",
      "metadata": {
        "id": "JbaKYTcXyJsZ"
      },
      "source": [
        "# Submit"
      ]
    },
    {
      "cell_type": "code",
      "execution_count": 27,
      "metadata": {
        "colab": {
          "base_uri": "https://localhost:8080/"
        },
        "id": "6gqC21M41xBe",
        "outputId": "5a58117e-a67c-4006-dc41-754b5665924b"
      },
      "outputs": [
        {
          "data": {
            "text/plain": [
              "array([15.78670748, 16.13338336, 15.8263775 , 15.75664031, 15.28816604,\n",
              "       15.92743661, 16.20758959, 15.71832537, 15.85365285, 15.94181678])"
            ]
          },
          "execution_count": 27,
          "metadata": {},
          "output_type": "execute_result"
        }
      ],
      "source": [
        "data_test_selected = data_test[important_features_rf_selected]\n",
        "y_test_pred = linear_regressor_rf.predict(data_test_selected)\n",
        "y_test_pred[:10]"
      ]
    },
    {
      "cell_type": "code",
      "execution_count": 28,
      "metadata": {
        "colab": {
          "base_uri": "https://localhost:8080/"
        },
        "id": "GzKJeugXy_Fh",
        "outputId": "9f4c36b9-4dda-4a71-e8a8-882442f63aa1"
      },
      "outputs": [
        {
          "data": {
            "text/plain": [
              "6593"
            ]
          },
          "execution_count": 28,
          "metadata": {},
          "output_type": "execute_result"
        }
      ],
      "source": [
        "submit_df = pd.read_csv('test.csv')\n",
        "list_id = submit_df['id']\n",
        "list_id = np.array(list_id.to_list())\n",
        "len(list_id)\n"
      ]
    },
    {
      "cell_type": "code",
      "execution_count": 29,
      "metadata": {
        "id": "a-3o0Fw5z4Zf"
      },
      "outputs": [],
      "source": [
        "df = pd.DataFrame({'id': list_id, 'Price': y_test_pred})\n",
        "df\n",
        "df.to_csv('submission.csv', index=False)"
      ]
    }
  ],
  "metadata": {
    "colab": {
      "provenance": []
    },
    "kernelspec": {
      "display_name": "Python 3",
      "name": "python3"
    },
    "language_info": {
      "codemirror_mode": {
        "name": "ipython",
        "version": 3
      },
      "file_extension": ".py",
      "mimetype": "text/x-python",
      "name": "python",
      "nbconvert_exporter": "python",
      "pygments_lexer": "ipython3",
      "version": "3.12.6"
    }
  },
  "nbformat": 4,
  "nbformat_minor": 0
}
