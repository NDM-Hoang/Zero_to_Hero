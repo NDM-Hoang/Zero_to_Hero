{
 "cells": [
  {
   "cell_type": "markdown",
   "metadata": {},
   "source": [
    "### Dicts"
   ]
  },
  {
   "cell_type": "markdown",
   "metadata": {},
   "source": [
    "##### Quick example"
   ]
  },
  {
   "cell_type": "markdown",
   "metadata": {},
   "source": [
    "Dictionary là một chuỗi các mục. Mỗi mục là một cặp được định nghĩa bằng key và value.\n",
    "\n",
    "Dictionary không được sắp xếp. Bạn có thể truy cập vào danh sách các value hoặc key một cách độc lập."
   ]
  },
  {
   "cell_type": "code",
   "execution_count": 1,
   "metadata": {},
   "outputs": [
    {
     "name": "stdout",
     "output_type": "stream",
     "text": [
      "{('b', 2), ('a', 1), ('c', 3)}\n",
      "<class 'set'>\n"
     ]
    }
   ],
   "source": [
    "keys   = ['a', 'b', 'c']\n",
    "values = [1, 2, 3]\n",
    "\n",
    "a_dictionary = {(k,v) for (k,v) in zip(keys,values)}\n",
    "print(a_dictionary)\n",
    "print(type(a_dictionary))"
   ]
  },
  {
   "cell_type": "code",
   "execution_count": 3,
   "metadata": {},
   "outputs": [
    {
     "name": "stdout",
     "output_type": "stream",
     "text": [
      "{'learning_rate': 0.1, 'optimizer': 'Adam', 'metric': 'Accuracy'}\n",
      "<class 'dict'>\n"
     ]
    }
   ],
   "source": [
    "parameters = {'learning_rate': 0.1,\n",
    "              'optimizer': 'Adam',\n",
    "              'metric': 'Accuracy'}\n",
    "\n",
    "print(parameters)\n",
    "print(type(parameters))"
   ]
  },
  {
   "cell_type": "code",
   "execution_count": 4,
   "metadata": {},
   "outputs": [
    {
     "name": "stdout",
     "output_type": "stream",
     "text": [
      "dict_keys(['learning_rate', 'optimizer', 'metric'])\n",
      "learning_rate\n",
      "optimizer\n",
      "metric\n"
     ]
    }
   ],
   "source": [
    "parameters = {'learning_rate': 0.1,\n",
    "              'optimizer': 'Adam',\n",
    "              'metric': 'Accuracy'}\n",
    "\n",
    "keys   = parameters.keys()\n",
    "print(keys)\n",
    "\n",
    "for key in keys:\n",
    "    print(key)"
   ]
  },
  {
   "cell_type": "code",
   "execution_count": 5,
   "metadata": {},
   "outputs": [
    {
     "name": "stdout",
     "output_type": "stream",
     "text": [
      "learning_rate\n",
      "optimizer\n",
      "metric\n"
     ]
    }
   ],
   "source": [
    "keys = parameters.keys()\n",
    "for key in keys:\n",
    "    print(key)"
   ]
  },
  {
   "cell_type": "code",
   "execution_count": 6,
   "metadata": {},
   "outputs": [
    {
     "name": "stdout",
     "output_type": "stream",
     "text": [
      "0.1\n",
      "Adam\n",
      "Accuracy\n"
     ]
    }
   ],
   "source": [
    "values = parameters.values()\n",
    "for value in values:\n",
    "    print(value)"
   ]
  },
  {
   "cell_type": "code",
   "execution_count": null,
   "metadata": {},
   "outputs": [],
   "source": []
  },
  {
   "cell_type": "code",
   "execution_count": 7,
   "metadata": {},
   "outputs": [
    {
     "name": "stdout",
     "output_type": "stream",
     "text": [
      "learning_rate 0.1\n",
      "optimizer Adam\n",
      "metric Accuracy\n"
     ]
    }
   ],
   "source": [
    "parameters = {'learning_rate': 0.1,\n",
    "              'optimizer': 'Adam',\n",
    "              'metric': 'Accuracy'}\n",
    "\n",
    "items = parameters.items()\n",
    "for key, value in items:\n",
    "    print(key, value)"
   ]
  },
  {
   "cell_type": "code",
   "execution_count": 8,
   "metadata": {},
   "outputs": [
    {
     "name": "stdout",
     "output_type": "stream",
     "text": [
      "learning_rate\n",
      "optimizer\n",
      "metric\n"
     ]
    }
   ],
   "source": [
    "parameters = {'learning_rate': 0.1,\n",
    "              'optimizer': 'Adam',\n",
    "              'metric': 'Accuracy'}\n",
    "\n",
    "for key in parameters:\n",
    "    print(key)"
   ]
  },
  {
   "cell_type": "code",
   "execution_count": 12,
   "metadata": {},
   "outputs": [
    {
     "name": "stdout",
     "output_type": "stream",
     "text": [
      "0.1\n",
      "None\n",
      "\n",
      "After using get() function\n",
      "{'learning_rate': 0.1, 'optimizer': 'Adam', 'metric': 'Accuracy'}\n"
     ]
    }
   ],
   "source": [
    "parameters = {'learning_rate': 0.1,\n",
    "              'optimizer': 'Adam',\n",
    "              'metric': 'Accuracy'}\n",
    "\n",
    "value = parameters.get('learning_rate')\n",
    "print(value)\n",
    "value = parameters.get('nothing_here')\n",
    "print(value)\n",
    "\n",
    "print('\\nAfter using get() function')\n",
    "print(parameters)"
   ]
  },
  {
   "cell_type": "code",
   "execution_count": 15,
   "metadata": {},
   "outputs": [
    {
     "name": "stdout",
     "output_type": "stream",
     "text": [
      "0.1\n",
      "\n",
      "After using pop() function\n",
      "{'optimizer': 'Adam', 'metric': 'Accuracy'}\n"
     ]
    }
   ],
   "source": [
    "parameters = {'learning_rate': 0.1,\n",
    "              'optimizer': 'Adam',\n",
    "              'metric': 'Accuracy'}\n",
    "\n",
    "value = parameters.pop('learning_rate')\n",
    "print(value)\n",
    "\n",
    "print('\\nAfter using pop() function')\n",
    "print(parameters)"
   ]
  },
  {
   "cell_type": "code",
   "execution_count": 16,
   "metadata": {},
   "outputs": [
    {
     "name": "stdout",
     "output_type": "stream",
     "text": [
      "None\n"
     ]
    }
   ],
   "source": [
    "parameters = {'learning_rate': 0.1,\n",
    "              'optimizer': 'Adam',\n",
    "              'metric': 'Accuracy'}\n",
    "\n",
    "value = parameters.get('algorithm')\n",
    "print(value)"
   ]
  },
  {
   "cell_type": "code",
   "execution_count": 17,
   "metadata": {},
   "outputs": [
    {
     "ename": "KeyError",
     "evalue": "'algorithm'",
     "output_type": "error",
     "traceback": [
      "\u001b[1;31m---------------------------------------------------------------------------\u001b[0m",
      "\u001b[1;31mKeyError\u001b[0m                                  Traceback (most recent call last)",
      "Cell \u001b[1;32mIn[17], line 5\u001b[0m\n\u001b[0;32m      1\u001b[0m parameters \u001b[38;5;241m=\u001b[39m {\u001b[38;5;124m'\u001b[39m\u001b[38;5;124mlearning_rate\u001b[39m\u001b[38;5;124m'\u001b[39m: \u001b[38;5;241m0.1\u001b[39m,\n\u001b[0;32m      2\u001b[0m               \u001b[38;5;124m'\u001b[39m\u001b[38;5;124moptimizer\u001b[39m\u001b[38;5;124m'\u001b[39m: \u001b[38;5;124m'\u001b[39m\u001b[38;5;124mAdam\u001b[39m\u001b[38;5;124m'\u001b[39m,\n\u001b[0;32m      3\u001b[0m               \u001b[38;5;124m'\u001b[39m\u001b[38;5;124mmetric\u001b[39m\u001b[38;5;124m'\u001b[39m: \u001b[38;5;124m'\u001b[39m\u001b[38;5;124mAccuracy\u001b[39m\u001b[38;5;124m'\u001b[39m}\n\u001b[1;32m----> 5\u001b[0m value \u001b[38;5;241m=\u001b[39m \u001b[43mparameters\u001b[49m\u001b[38;5;241;43m.\u001b[39;49m\u001b[43mpop\u001b[49m\u001b[43m(\u001b[49m\u001b[38;5;124;43m'\u001b[39;49m\u001b[38;5;124;43malgorithm\u001b[39;49m\u001b[38;5;124;43m'\u001b[39;49m\u001b[43m)\u001b[49m\n",
      "\u001b[1;31mKeyError\u001b[0m: 'algorithm'"
     ]
    }
   ],
   "source": [
    "parameters = {'learning_rate': 0.1,\n",
    "              'optimizer': 'Adam',\n",
    "              'metric': 'Accuracy'}\n",
    "\n",
    "value = parameters.pop('algorithm')"
   ]
  },
  {
   "cell_type": "code",
   "execution_count": 18,
   "metadata": {},
   "outputs": [
    {
     "name": "stdout",
     "output_type": "stream",
     "text": [
      "('metric', 'Accuracy')\n",
      "{'learning_rate': 0.1, 'optimizer': 'Adam'}\n"
     ]
    }
   ],
   "source": [
    "parameters = {'learning_rate': 0.1,\n",
    "              'optimizer': 'Adam',\n",
    "              'metric': 'Accuracy'}\n",
    "\n",
    "item = parameters.popitem()\n",
    "\n",
    "print(item)\n",
    "print(parameters)"
   ]
  },
  {
   "cell_type": "code",
   "execution_count": 19,
   "metadata": {},
   "outputs": [
    {
     "name": "stdout",
     "output_type": "stream",
     "text": [
      "Before using clear() function\n",
      "{'learning_rate': 0.1, 'metric': 'Accuracy'}\n",
      "\n",
      "After using clear() function\n",
      "{}\n"
     ]
    }
   ],
   "source": [
    "parameters = {'learning_rate': 0.1,\n",
    "              'metric': 'Accuracy'}\n",
    "\n",
    "print('Before using clear() function')\n",
    "print(parameters)\n",
    "\n",
    "parameters.clear()\n",
    "\n",
    "print('\\nAfter using clear() function')\n",
    "print(parameters)"
   ]
  },
  {
   "cell_type": "code",
   "execution_count": 20,
   "metadata": {},
   "outputs": [
    {
     "ename": "KeyError",
     "evalue": "'algorithm'",
     "output_type": "error",
     "traceback": [
      "\u001b[1;31m---------------------------------------------------------------------------\u001b[0m",
      "\u001b[1;31mKeyError\u001b[0m                                  Traceback (most recent call last)",
      "Cell \u001b[1;32mIn[20], line 4\u001b[0m\n\u001b[0;32m      1\u001b[0m parameters \u001b[38;5;241m=\u001b[39m {\u001b[38;5;124m'\u001b[39m\u001b[38;5;124mlearning_rate\u001b[39m\u001b[38;5;124m'\u001b[39m: \u001b[38;5;241m0.1\u001b[39m,\n\u001b[0;32m      2\u001b[0m               \u001b[38;5;124m'\u001b[39m\u001b[38;5;124mmetric\u001b[39m\u001b[38;5;124m'\u001b[39m: \u001b[38;5;124m'\u001b[39m\u001b[38;5;124mAccuracy\u001b[39m\u001b[38;5;124m'\u001b[39m}\n\u001b[1;32m----> 4\u001b[0m \u001b[38;5;28;01mdel\u001b[39;00m \u001b[43mparameters\u001b[49m\u001b[43m[\u001b[49m\u001b[38;5;124;43m'\u001b[39;49m\u001b[38;5;124;43malgorithm\u001b[39;49m\u001b[38;5;124;43m'\u001b[39;49m\u001b[43m]\u001b[49m\n",
      "\u001b[1;31mKeyError\u001b[0m: 'algorithm'"
     ]
    }
   ],
   "source": [
    "parameters = {'learning_rate': 0.1,\n",
    "              'metric': 'Accuracy'}\n",
    "\n",
    "del parameters['algorithm']"
   ]
  },
  {
   "cell_type": "code",
   "execution_count": 21,
   "metadata": {},
   "outputs": [
    {
     "name": "stdout",
     "output_type": "stream",
     "text": [
      "{'learning_rate': 0.1, 'metric': 'Accuracy'}\n",
      "{'learning_rate': 0.2, 'metric': 'Accuracy'}\n"
     ]
    }
   ],
   "source": [
    "parameters = {'learning_rate': 0.1,\n",
    "              'metric': 'Accuracy'}\n",
    "\n",
    "a_copy = parameters.copy()\n",
    "a_copy['learning_rate'] = 0.2\n",
    "\n",
    "print(parameters)\n",
    "print(a_copy)"
   ]
  },
  {
   "cell_type": "code",
   "execution_count": 22,
   "metadata": {},
   "outputs": [
    {
     "name": "stdout",
     "output_type": "stream",
     "text": [
      "{'learning_rate': 0.2, 'metric': 'Accuracy'}\n"
     ]
    }
   ],
   "source": [
    "parameters = {'learning_rate': 0.1,\n",
    "              'metric': 'Accuracy'}\n",
    "\n",
    "parameters['learning_rate'] = 0.2\n",
    "print(parameters)"
   ]
  },
  {
   "cell_type": "code",
   "execution_count": 23,
   "metadata": {},
   "outputs": [
    {
     "name": "stdout",
     "output_type": "stream",
     "text": [
      "learning_rate 0.2\n",
      "metric Accuracy\n"
     ]
    }
   ],
   "source": [
    "for key in parameters:\n",
    "    print(key, parameters.get(key))"
   ]
  },
  {
   "cell_type": "code",
   "execution_count": 24,
   "metadata": {},
   "outputs": [
    {
     "name": "stdout",
     "output_type": "stream",
     "text": [
      "dict_keys(['first', 'second'])\n",
      "dict_values(['string value', [1, 2]])\n"
     ]
    }
   ],
   "source": [
    "d = {'first':'string value', 'second':[1,2]}\n",
    "keys = d.keys()\n",
    "values = d.values()\n",
    "\n",
    "print(keys)\n",
    "print(values)"
   ]
  },
  {
   "cell_type": "code",
   "execution_count": 26,
   "metadata": {},
   "outputs": [
    {
     "data": {
      "text/plain": [
       "dict_values(['string value', [1, 2]])"
      ]
     },
     "execution_count": 26,
     "metadata": {},
     "output_type": "execute_result"
    }
   ],
   "source": [
    "d = {'first':'string value', 'second':[1,2]}\n",
    "d.values()"
   ]
  },
  {
   "cell_type": "markdown",
   "metadata": {},
   "source": [
    "Bạn có thể truy cập vào giá trị của một khóa đã cho như sau"
   ]
  },
  {
   "cell_type": "code",
   "execution_count": 27,
   "metadata": {},
   "outputs": [
    {
     "name": "stdout",
     "output_type": "stream",
     "text": [
      "string value\n",
      "[1, 2]\n"
     ]
    }
   ],
   "source": [
    "d = {'first':'string value', 'second':[1,2]}\n",
    "print(d['first'])\n",
    "print(d['second'])"
   ]
  },
  {
   "cell_type": "markdown",
   "metadata": {},
   "source": [
    "#### Phương pháp truy vấn thông tin"
   ]
  },
  {
   "cell_type": "markdown",
   "metadata": {},
   "source": [
    "Ngoài các phương thức key và value, còn có phương thức trả về danh sách các mục có dạng (key, value). \n",
    "Những phương thức khác không return theo bất kỳ thứ tự cụ thể nào:"
   ]
  },
  {
   "cell_type": "code",
   "execution_count": 29,
   "metadata": {},
   "outputs": [
    {
     "name": "stdout",
     "output_type": "stream",
     "text": [
      "items: dict_items([('first', 'string value'), ('second', [1, 2])])\n",
      "<class 'dict_items'>\n",
      "first string value\n",
      "second [1, 2]\n"
     ]
    }
   ],
   "source": [
    "d = {'first':'string value', 'second':[1,2]}\n",
    "items = d.items()\n",
    "\n",
    "print('items:', items)\n",
    "print(type(items))\n",
    "for k,v in items:\n",
    "    print(k, v)"
   ]
  },
  {
   "cell_type": "code",
   "execution_count": 33,
   "metadata": {},
   "outputs": [
    {
     "ename": "AttributeError",
     "evalue": "'dict' object has no attribute '_contain_'",
     "output_type": "error",
     "traceback": [
      "\u001b[1;31m---------------------------------------------------------------------------\u001b[0m",
      "\u001b[1;31mAttributeError\u001b[0m                            Traceback (most recent call last)",
      "Cell \u001b[1;32mIn[33], line 4\u001b[0m\n\u001b[0;32m      1\u001b[0m d \u001b[38;5;241m=\u001b[39m {\u001b[38;5;124m'\u001b[39m\u001b[38;5;124mfirst\u001b[39m\u001b[38;5;124m'\u001b[39m:\u001b[38;5;124m'\u001b[39m\u001b[38;5;124mstring value\u001b[39m\u001b[38;5;124m'\u001b[39m, \u001b[38;5;124m'\u001b[39m\u001b[38;5;124msecond\u001b[39m\u001b[38;5;124m'\u001b[39m:[\u001b[38;5;241m1\u001b[39m,\u001b[38;5;241m2\u001b[39m]}\n\u001b[0;32m      3\u001b[0m d\u001b[38;5;241m.\u001b[39m\u001b[38;5;21m__getitem__\u001b[39m(\u001b[38;5;124m'\u001b[39m\u001b[38;5;124mfirst\u001b[39m\u001b[38;5;124m'\u001b[39m)\n\u001b[1;32m----> 4\u001b[0m \u001b[43md\u001b[49m\u001b[38;5;241;43m.\u001b[39;49m\u001b[43m_contain_\u001b[49m(\u001b[38;5;124m'\u001b[39m\u001b[38;5;124mfirst\u001b[39m\u001b[38;5;124m'\u001b[39m)\n",
      "\u001b[1;31mAttributeError\u001b[0m: 'dict' object has no attribute '_contain_'"
     ]
    }
   ],
   "source": [
    "d = {'first':'string value', 'second':[1,2]}\n",
    "d._contain_('first')"
   ]
  },
  {
   "cell_type": "code",
   "execution_count": 36,
   "metadata": {},
   "outputs": [
    {
     "data": {
      "text/plain": [
       "'string value'"
      ]
     },
     "execution_count": 36,
     "metadata": {},
     "output_type": "execute_result"
    }
   ],
   "source": [
    "d.__getitem__('first')"
   ]
  },
  {
   "cell_type": "markdown",
   "metadata": {},
   "source": [
    "Phương thức iteritems hoạt động theo cách tương tự, nhưng trả về một trình vòng lặp thay vì danh sách.\n",
    "Để hiểu thêm các bạn xem phần ví dụ:\n",
    "\n",
    "Bạn có thể kiểm tra sự tồn tại của một khóa cụ thể bằng has_key:"
   ]
  },
  {
   "cell_type": "markdown",
   "metadata": {},
   "source": [
    "d.has_key('first')"
   ]
  },
  {
   "cell_type": "markdown",
   "metadata": {},
   "source": [
    "Biểu thức d.has_key (k) tương đương với k trong d. Để nhận được giá trị tương ứng với một khóa cụ thể, hãy sử dụng get hoặc pop:"
   ]
  },
  {
   "cell_type": "code",
   "execution_count": 37,
   "metadata": {},
   "outputs": [
    {
     "name": "stdout",
     "output_type": "stream",
     "text": [
      "string value\n",
      "{'first': 'string value', 'second': [1, 2]}\n"
     ]
    }
   ],
   "source": [
    "d = {'first':'string value', 'second':[1,2]}\n",
    "value = d.get('first')\n",
    "\n",
    "print(value)\n",
    "print(d)"
   ]
  },
  {
   "cell_type": "markdown",
   "metadata": {},
   "source": [
    "Rất hữu ích cho những việc như thêm số:"
   ]
  },
  {
   "cell_type": "markdown",
   "metadata": {},
   "source": [
    "sum[value] = sum.get(value, 0) + 1"
   ]
  },
  {
   "cell_type": "markdown",
   "metadata": {},
   "source": [
    "Sự khác biệt giữa get và pop là pop loại bỏ mục tương ứng trong từ điển:"
   ]
  },
  {
   "cell_type": "code",
   "execution_count": 38,
   "metadata": {},
   "outputs": [
    {
     "name": "stdout",
     "output_type": "stream",
     "text": [
      "string value\n",
      "{'second': [1, 2]}\n"
     ]
    }
   ],
   "source": [
    "d = {'first':'string value', 'second':[1,2]}\n",
    "value = d.pop('first')\n",
    "\n",
    "print(value)\n",
    "print(d)"
   ]
  },
  {
   "cell_type": "code",
   "execution_count": 39,
   "metadata": {},
   "outputs": [
    {
     "name": "stdout",
     "output_type": "stream",
     "text": [
      "{'second': [1, 2]}\n"
     ]
    }
   ],
   "source": [
    "print(d)"
   ]
  },
  {
   "cell_type": "markdown",
   "metadata": {},
   "source": [
    "Cuối cùng, popitem loại bỏ và trả về một cặp (key, vule); \n",
    "bạn không chọn cái nào vì từ điển không được sắp xếp"
   ]
  },
  {
   "cell_type": "code",
   "execution_count": 42,
   "metadata": {},
   "outputs": [
    {
     "name": "stdout",
     "output_type": "stream",
     "text": [
      "('4', 'value4')\n",
      "{'1': 'value1', '2': 'value2', '3': 'value3'}\n"
     ]
    }
   ],
   "source": [
    "d = {'1':'value1', '2':'value2', '3':'value3', '4':'value4'}\n",
    "item = d.popitem()\n",
    "\n",
    "print(item)\n",
    "print(d)"
   ]
  },
  {
   "cell_type": "code",
   "execution_count": 43,
   "metadata": {},
   "outputs": [
    {
     "data": {
      "text/plain": [
       "{'1': 'value1', '2': 'value2', '3': 'value3'}"
      ]
     },
     "execution_count": 43,
     "metadata": {},
     "output_type": "execute_result"
    }
   ],
   "source": [
    "d #kiểm tra các phần tử trong d"
   ]
  },
  {
   "cell_type": "markdown",
   "metadata": {},
   "source": [
    "####  Methods to create new dictionary"
   ]
  },
  {
   "cell_type": "markdown",
   "metadata": {},
   "source": [
    "Vì dictionary (giống như các chuỗi khác) là các đối tượng, bạn nên cẩn thận khi sử dụng toán tử gán (assignment operator):"
   ]
  },
  {
   "cell_type": "code",
   "execution_count": 45,
   "metadata": {},
   "outputs": [
    {
     "data": {
      "text/plain": [
       "[1, 2, 3, 4]"
      ]
     },
     "execution_count": 45,
     "metadata": {},
     "output_type": "execute_result"
    }
   ],
   "source": [
    "d1 = {'a': [1,2]}\n",
    "d2 = d1\n",
    "d2['a'] = [1,2,3,4]\n",
    "d1['a']"
   ]
  },
  {
   "cell_type": "markdown",
   "metadata": {},
   "source": [
    "Để tạo một đối tượng mới, sử dụng phương thức sao chép (shallow copy):"
   ]
  },
  {
   "cell_type": "code",
   "execution_count": 30,
   "metadata": {},
   "outputs": [
    {
     "name": "stdout",
     "output_type": "stream",
     "text": [
      "d1: {'a': [1, 2]}\n",
      "d2: {'a': [1, 2]}\n"
     ]
    }
   ],
   "source": [
    "d1 = {'a': [1,2]}\n",
    "d2 = d1.copy()\n",
    "\n",
    "print('d1:', d1)\n",
    "print('d2:', d2)"
   ]
  },
  {
   "cell_type": "code",
   "execution_count": 46,
   "metadata": {},
   "outputs": [
    {
     "name": "stdout",
     "output_type": "stream",
     "text": [
      "d1: {'a': [3, 4], 'b': 5}\n",
      "d2: {'a': [3, 4], 'b': 5}\n"
     ]
    }
   ],
   "source": [
    "d1 = {'a': [1,2], 'b': 5}\n",
    "d2 = d1.copy()\n",
    "\n",
    "# thay đổi giá trị d2 sẽ ảnh hưởng đến d1\n",
    "d2['a'][0] = 3\n",
    "d2['a'][1] = 4\n",
    "# chỉ ảnh hưởng trong list của dict\n",
    "print('d1:', d1)\n",
    "print('d2:', d2)"
   ]
  },
  {
   "cell_type": "code",
   "execution_count": 48,
   "metadata": {},
   "outputs": [
    {
     "name": "stdout",
     "output_type": "stream",
     "text": [
      "d1: {'a': [1, 2], 'b': 5}\n",
      "d2: {'a': [3, 4], 'b': 5}\n"
     ]
    }
   ],
   "source": [
    "import copy\n",
    "\n",
    "d1 = {'a': [1,2], 'b': 5}\n",
    "d2 = copy.deepcopy(d1)\n",
    "\n",
    "# thay đổi giá trị d2 \n",
    "d2['a'][0] = 3\n",
    "d2['a'][1] = 4\n",
    "\n",
    "print('d1:', d1)\n",
    "print('d2:', d2)"
   ]
  },
  {
   "cell_type": "markdown",
   "metadata": {},
   "source": [
    "Bạn có thể xóa một từ điển (nghĩa là xóa tất cả các mục của nó) bằng phương thức clear ():"
   ]
  },
  {
   "cell_type": "code",
   "execution_count": 49,
   "metadata": {},
   "outputs": [
    {
     "name": "stdout",
     "output_type": "stream",
     "text": [
      "{'a': [1, 2], 'b': 5}\n",
      "{}\n"
     ]
    }
   ],
   "source": [
    "d = {'a': [1,2], 'b': 5}\n",
    "print(d)\n",
    "\n",
    "d.clear()\n",
    "print(d)"
   ]
  },
  {
   "cell_type": "code",
   "execution_count": 50,
   "metadata": {},
   "outputs": [
    {
     "name": "stdout",
     "output_type": "stream",
     "text": [
      "{'a': [1, 2], 'b': 5}\n",
      "{'b': 5}\n"
     ]
    }
   ],
   "source": [
    "d = {'a': [1,2], 'b': 5}\n",
    "print(d)\n",
    "\n",
    "del d['a']\n",
    "print(d)"
   ]
  },
  {
   "cell_type": "code",
   "execution_count": 51,
   "metadata": {},
   "outputs": [
    {
     "name": "stdout",
     "output_type": "stream",
     "text": [
      "{'a': [1, 2], 'b': 5}\n"
     ]
    },
    {
     "ename": "NameError",
     "evalue": "name 'd' is not defined",
     "output_type": "error",
     "traceback": [
      "\u001b[1;31m---------------------------------------------------------------------------\u001b[0m",
      "\u001b[1;31mNameError\u001b[0m                                 Traceback (most recent call last)",
      "Cell \u001b[1;32mIn[51], line 5\u001b[0m\n\u001b[0;32m      2\u001b[0m \u001b[38;5;28mprint\u001b[39m(d)\n\u001b[0;32m      4\u001b[0m \u001b[38;5;28;01mdel\u001b[39;00m d\n\u001b[1;32m----> 5\u001b[0m \u001b[38;5;28mprint\u001b[39m(\u001b[43md\u001b[49m)\n",
      "\u001b[1;31mNameError\u001b[0m: name 'd' is not defined"
     ]
    }
   ],
   "source": [
    "d = {'a': [1,2], 'b': 5}\n",
    "print(d)\n",
    "\n",
    "del d\n",
    "print(d)"
   ]
  },
  {
   "cell_type": "markdown",
   "metadata": {},
   "source": [
    "Phương thức clear () xóa tất cả các mục trong khi del () xóa chỉ một:"
   ]
  },
  {
   "cell_type": "code",
   "execution_count": 52,
   "metadata": {},
   "outputs": [
    {
     "name": "stdout",
     "output_type": "stream",
     "text": [
      "{'b': 2, 'c': 3}\n"
     ]
    }
   ],
   "source": [
    "d = {'a':1, 'b':2, 'c':3}\n",
    "del d['a']\n",
    "print(d)"
   ]
  },
  {
   "cell_type": "markdown",
   "metadata": {},
   "source": [
    "Tạo một mục mới với giá trị mặc định (nếu không được cung cấp, None là mặc định):"
   ]
  },
  {
   "cell_type": "code",
   "execution_count": 60,
   "metadata": {},
   "outputs": [
    {
     "name": "stdout",
     "output_type": "stream",
     "text": [
      "{'a': [1, 2], 'third': None}\n"
     ]
    }
   ],
   "source": [
    "d1 = {'a': [1,2]}\n",
    "d2 = d1.copy()\n",
    "d2.setdefault('third')\n",
    "d2['third']\n",
    "print(d2)"
   ]
  },
  {
   "cell_type": "code",
   "execution_count": 57,
   "metadata": {},
   "outputs": [
    {
     "name": "stdout",
     "output_type": "stream",
     "text": [
      "{'a': 1, 'b': 2, 'c': 3, 'third': ''}\n"
     ]
    }
   ],
   "source": [
    "d = {'a':1, 'b':2, 'c':3}\n",
    "\n",
    "d.setdefault('third', '')\n",
    "print(d)"
   ]
  },
  {
   "cell_type": "markdown",
   "metadata": {},
   "source": [
    "Tạo một từ điển cho một bộ khóa (key):"
   ]
  },
  {
   "cell_type": "code",
   "execution_count": 58,
   "metadata": {},
   "outputs": [
    {
     "data": {
      "text/plain": [
       "{'first': None, 'second': None}"
      ]
     },
     "execution_count": 58,
     "metadata": {},
     "output_type": "execute_result"
    }
   ],
   "source": [
    "d1 = {'a': [1,2]}\n",
    "d2 = d1.copy()\n",
    "d2.fromkeys(['first', 'second'])"
   ]
  },
  {
   "cell_type": "markdown",
   "metadata": {},
   "source": [
    "Một cú pháp khác là bắt đầu từ một từ điển trống:"
   ]
  },
  {
   "cell_type": "code",
   "execution_count": 61,
   "metadata": {},
   "outputs": [
    {
     "data": {
      "text/plain": [
       "{'first': None, 'second': None}"
      ]
     },
     "execution_count": 61,
     "metadata": {},
     "output_type": "execute_result"
    }
   ],
   "source": [
    "{}.fromkeys(['first', 'second'])"
   ]
  },
  {
   "cell_type": "markdown",
   "metadata": {},
   "source": [
    "Chỉ cần lưu ý rằng phương thức fromkeys () tạo ra một từ điển mới với các khóa đã cho,\n",
    "mỗi khóa có giá trị tương ứng mặc định là None."
   ]
  },
  {
   "cell_type": "markdown",
   "metadata": {},
   "source": [
    "####  Combining dictionaries"
   ]
  },
  {
   "cell_type": "markdown",
   "metadata": {},
   "source": [
    "Cho 2 từ điển d1 và d2, bạn có thể thêm tất cả các cặp key/ value từ d2 vào d1 bằng cách sử dụng phương thức cập nhật (thay vì lặp và tự gán từng cặp:"
   ]
  },
  {
   "cell_type": "code",
   "execution_count": 65,
   "metadata": {},
   "outputs": [
    {
     "name": "stdout",
     "output_type": "stream",
     "text": [
      "{'a': 2, 'b': 2}\n",
      "{'a': 2, 'b': 2}\n"
     ]
    }
   ],
   "source": [
    "\n",
    "d1 = {'a':1}\n",
    "d2 = {'a':2, 'b':2}\n",
    "d1.update(d2)\n",
    "print(d1)\n",
    "print(d2)"
   ]
  },
  {
   "cell_type": "code",
   "execution_count": 66,
   "metadata": {},
   "outputs": [
    {
     "name": "stdout",
     "output_type": "stream",
     "text": [
      "d1: {'a': 1}\n",
      "d2: {'b': 2, 'c': 3}\n",
      "d1 sau khi update: {'a': 1, 'b': 2, 'c': 3}\n"
     ]
    }
   ],
   "source": [
    "d1 = {'a':1}\n",
    "d2 = {'b':2, 'c':3}\n",
    "\n",
    "print('d1:', d1)\n",
    "print('d2:', d2)\n",
    "\n",
    "d1.update(d2)\n",
    "print('d1 sau khi update:', d1)"
   ]
  },
  {
   "cell_type": "markdown",
   "metadata": {},
   "source": [
    "Các mục trong từ điển được cung cấp được thêm vào từ cũ, ghi đè bất kỳ mục nào có cùng khóa"
   ]
  },
  {
   "cell_type": "markdown",
   "metadata": {},
   "source": [
    "####  iterators"
   ]
  },
  {
   "cell_type": "markdown",
   "metadata": {},
   "source": [
    "Từ điển cung cấp các trình vòng lặp trên các giá trị, khóa hoặc các mục:\n",
    "```python\n",
    "[x for x in t.itervalues()]\n",
    "[x for x in t.iterkeys()]\n",
    "[x for x in t.iteritems()]\n",
    "```"
   ]
  },
  {
   "cell_type": "code",
   "execution_count": 68,
   "metadata": {},
   "outputs": [
    {
     "name": "stdout",
     "output_type": "stream",
     "text": [
      "{('b', 2), ('a', 1), ('c', 3), ('e', 5), ('d', 4)}\n",
      "<class 'set'>\n"
     ]
    }
   ],
   "source": [
    "l_keys   = ['a', 'b', 'c', 'd', 'e']\n",
    "l_values = [1, 2, 3, 4, 5]\n",
    "\n",
    "d = {(k,v) for (k,v) in zip(l_keys,l_values)}\n",
    "print(d)\n",
    "print(type(d))"
   ]
  },
  {
   "cell_type": "markdown",
   "metadata": {},
   "source": [
    "#### Views"
   ]
  },
  {
   "cell_type": "markdown",
   "metadata": {},
   "source": [
    "viewkey, viewvalues, viewitems là các đối tượng giống như tập hợp cung cấp chế độ xem trên các key, value của D."
   ]
  },
  {
   "cell_type": "markdown",
   "metadata": {},
   "source": [
    "#### comparison"
   ]
  },
  {
   "cell_type": "markdown",
   "metadata": {},
   "source": [
    "Bạn có thể so sánh Dictionary! Trước tiên Python so sánh các cặp khóa-giá trị được sắp xếp. \n",
    "Đầu tiên, sắp xếp từ điển theo khóa và hoàn thành các mục ban đầu của chúng.\n",
    "Nếu các mục mang các giá trị khác nhau, Python chỉ ra sự so sánh giữa chúng.\n",
    "Mặt khác, các mục thứ hai được so sánh."
   ]
  },
  {
   "cell_type": "code",
   "execution_count": 69,
   "metadata": {},
   "outputs": [
    {
     "name": "stdout",
     "output_type": "stream",
     "text": [
      "{'0': 0, '1': 1, '2': 2, '3': 3, '4': 4}\n"
     ]
    }
   ],
   "source": [
    "# dic comprehension\n",
    "\n",
    "aDict = {str(i):i for i in range(5)}\n",
    "print(aDict)"
   ]
  },
  {
   "cell_type": "code",
   "execution_count": 70,
   "metadata": {},
   "outputs": [
    {
     "name": "stdout",
     "output_type": "stream",
     "text": [
      "<class 'dict'>\n",
      "{1: 4, 2: 5, 3: 6}\n"
     ]
    }
   ],
   "source": [
    "# from zip\n",
    "\n",
    "tuple1 = (1, 2, 3)\n",
    "tuple2 = (4, 5, 6)\n",
    "\n",
    "a_dict = dict(zip(tuple1, tuple2))\n",
    "print(type(a_dict))\n",
    "print(a_dict)"
   ]
  },
  {
   "cell_type": "code",
   "execution_count": 71,
   "metadata": {},
   "outputs": [
    {
     "name": "stdout",
     "output_type": "stream",
     "text": [
      "<class 'dict'>\n",
      "{1: 4, 2: 5, 3: 6}\n"
     ]
    }
   ],
   "source": [
    "# from zip\n",
    "\n",
    "set1 = {1, 2, 3}\n",
    "set2 = {4, 5, 6}\n",
    "\n",
    "a_dict = dict(zip(set1, set2))\n",
    "print(type(a_dict))\n",
    "print(a_dict)"
   ]
  },
  {
   "cell_type": "code",
   "execution_count": 72,
   "metadata": {},
   "outputs": [
    {
     "name": "stdout",
     "output_type": "stream",
     "text": [
      "<class 'dict'>\n",
      "{1: 4, 2: 5, 3: 6}\n"
     ]
    }
   ],
   "source": [
    "# from zip\n",
    "\n",
    "list1 = [1, 2, 3]\n",
    "list2 = [4, 5, 6]\n",
    "\n",
    "a_dict = dict(zip(list1, list2))\n",
    "print(type(a_dict))\n",
    "print(a_dict)"
   ]
  },
  {
   "cell_type": "code",
   "execution_count": 73,
   "metadata": {},
   "outputs": [
    {
     "name": "stdout",
     "output_type": "stream",
     "text": [
      "{'banana': 2, 'apple': 0}\n"
     ]
    }
   ],
   "source": [
    "# setdefault()\n",
    "\n",
    "fruits = {'banana': 2}\n",
    "fruits.setdefault('apple', 0)\n",
    "\n",
    "print(fruits)"
   ]
  },
  {
   "cell_type": "code",
   "execution_count": 74,
   "metadata": {},
   "outputs": [
    {
     "name": "stdout",
     "output_type": "stream",
     "text": [
      "{'banana': 2, 'apple': 4}\n"
     ]
    }
   ],
   "source": [
    "# setdefault()\n",
    "\n",
    "fruits = {'banana': 2, 'apple': 4}\n",
    "fruits.setdefault('apple', 0)\n",
    "\n",
    "print(fruits)"
   ]
  },
  {
   "cell_type": "code",
   "execution_count": 75,
   "metadata": {},
   "outputs": [
    {
     "name": "stdout",
     "output_type": "stream",
     "text": [
      "{'banana': 2, 'apple': 10}\n"
     ]
    }
   ],
   "source": [
    "# setdefault()\n",
    "\n",
    "fruits = {'banana': 2}\n",
    "fruits.setdefault('apple', 0)\n",
    "\n",
    "fruits['apple'] += 10\n",
    "print(fruits)"
   ]
  },
  {
   "cell_type": "code",
   "execution_count": 76,
   "metadata": {},
   "outputs": [
    {
     "ename": "KeyError",
     "evalue": "'apple'",
     "output_type": "error",
     "traceback": [
      "\u001b[1;31m---------------------------------------------------------------------------\u001b[0m",
      "\u001b[1;31mKeyError\u001b[0m                                  Traceback (most recent call last)",
      "Cell \u001b[1;32mIn[76], line 5\u001b[0m\n\u001b[0;32m      1\u001b[0m \u001b[38;5;66;03m# setdefault()\u001b[39;00m\n\u001b[0;32m      3\u001b[0m fruits \u001b[38;5;241m=\u001b[39m {\u001b[38;5;124m'\u001b[39m\u001b[38;5;124mbanana\u001b[39m\u001b[38;5;124m'\u001b[39m: \u001b[38;5;241m2\u001b[39m}\n\u001b[1;32m----> 5\u001b[0m \u001b[43mfruits\u001b[49m\u001b[43m[\u001b[49m\u001b[38;5;124;43m'\u001b[39;49m\u001b[38;5;124;43mapple\u001b[39;49m\u001b[38;5;124;43m'\u001b[39;49m\u001b[43m]\u001b[49m \u001b[38;5;241m+\u001b[39m\u001b[38;5;241m=\u001b[39m \u001b[38;5;241m10\u001b[39m\n\u001b[0;32m      6\u001b[0m \u001b[38;5;28mprint\u001b[39m(fruits)\n",
      "\u001b[1;31mKeyError\u001b[0m: 'apple'"
     ]
    }
   ],
   "source": [
    "# setdefault()\n",
    "\n",
    "fruits = {'banana': 2}\n",
    "\n",
    "fruits['apple'] += 10\n",
    "print(fruits)"
   ]
  },
  {
   "cell_type": "code",
   "execution_count": 78,
   "metadata": {},
   "outputs": [
    {
     "ename": "TypeError",
     "evalue": "'banana' is an invalid keyword argument for print()",
     "output_type": "error",
     "traceback": [
      "\u001b[1;31m---------------------------------------------------------------------------\u001b[0m",
      "\u001b[1;31mTypeError\u001b[0m                                 Traceback (most recent call last)",
      "Cell \u001b[1;32mIn[78], line 5\u001b[0m\n\u001b[0;32m      3\u001b[0m fruits \u001b[38;5;241m=\u001b[39m {\u001b[38;5;124m'\u001b[39m\u001b[38;5;124mbanana\u001b[39m\u001b[38;5;124m'\u001b[39m: \u001b[38;5;241m2\u001b[39m, \u001b[38;5;124m'\u001b[39m\u001b[38;5;124mapple\u001b[39m\u001b[38;5;124m'\u001b[39m: \u001b[38;5;241m4\u001b[39m}\n\u001b[0;32m      4\u001b[0m result \u001b[38;5;241m=\u001b[39m {\u001b[38;5;241m*\u001b[39m\u001b[38;5;241m*\u001b[39mfruits}\n\u001b[1;32m----> 5\u001b[0m \u001b[38;5;28;43mprint\u001b[39;49m\u001b[43m(\u001b[49m\u001b[38;5;241;43m*\u001b[39;49m\u001b[38;5;241;43m*\u001b[39;49m\u001b[43mfruits\u001b[49m\u001b[43m)\u001b[49m\n",
      "\u001b[1;31mTypeError\u001b[0m: 'banana' is an invalid keyword argument for print()"
     ]
    }
   ],
   "source": [
    "# merge two dicts\n",
    "\n",
    "fruits = {'banana': 2, 'apple': 4}\n",
    "result = {**fruits, **cereal}\n",
    "print(**fruits)"
   ]
  },
  {
   "cell_type": "code",
   "execution_count": 79,
   "metadata": {},
   "outputs": [
    {
     "name": "stdout",
     "output_type": "stream",
     "text": [
      "{'banana': 2, 'apple': 4, 'rice': 3, 'corn': 7}\n"
     ]
    }
   ],
   "source": [
    "# merge two dicts\n",
    "\n",
    "fruits = {'banana': 2, 'apple': 4}\n",
    "cereal = {'rice': 3, 'corn': 7}\n",
    "\n",
    "result = {**fruits, **cereal}\n",
    "print(result)"
   ]
  },
  {
   "cell_type": "code",
   "execution_count": 81,
   "metadata": {},
   "outputs": [
    {
     "name": "stdout",
     "output_type": "stream",
     "text": [
      "True\n",
      "False\n",
      "{'banana': 2, 'apple': 5}\n"
     ]
    }
   ],
   "source": [
    "# check if a key exists\n",
    "\n",
    "fruits = {'banana': 2, 'apple': 4}\n",
    "\n",
    "print('apple' in fruits)\n",
    "print('corn' in fruits)\n",
    "if 'apple' in fruits:\n",
    "    fruits['apple'] += 1\n",
    "print(fruits)"
   ]
  },
  {
   "cell_type": "code",
   "execution_count": 82,
   "metadata": {},
   "outputs": [
    {
     "name": "stdout",
     "output_type": "stream",
     "text": [
      "{'banana': 2}\n"
     ]
    }
   ],
   "source": [
    "# remove empty items\n",
    "\n",
    "fruits = {'banana': 2, 'apple': None}\n",
    "\n",
    "dict1 = {key:value for (key, value) \n",
    "                     in fruits.items() \n",
    "                     if value is not None}\n",
    "print(dict1)"
   ]
  },
  {
   "cell_type": "code",
   "execution_count": 83,
   "metadata": {},
   "outputs": [
    {
     "name": "stdout",
     "output_type": "stream",
     "text": [
      "4\n",
      "None\n"
     ]
    }
   ],
   "source": [
    "# access value via key\n",
    "\n",
    "fruits = {'banana': 2, 'apple': 4}\n",
    "print(fruits.get('apple'))\n",
    "print(fruits.get('corn'))"
   ]
  },
  {
   "cell_type": "code",
   "execution_count": 84,
   "metadata": {},
   "outputs": [
    {
     "name": "stdout",
     "output_type": "stream",
     "text": [
      "4\n"
     ]
    },
    {
     "ename": "KeyError",
     "evalue": "'corn'",
     "output_type": "error",
     "traceback": [
      "\u001b[1;31m---------------------------------------------------------------------------\u001b[0m",
      "\u001b[1;31mKeyError\u001b[0m                                  Traceback (most recent call last)",
      "Cell \u001b[1;32mIn[84], line 5\u001b[0m\n\u001b[0;32m      3\u001b[0m fruits \u001b[38;5;241m=\u001b[39m {\u001b[38;5;124m'\u001b[39m\u001b[38;5;124mbanana\u001b[39m\u001b[38;5;124m'\u001b[39m: \u001b[38;5;241m2\u001b[39m, \u001b[38;5;124m'\u001b[39m\u001b[38;5;124mapple\u001b[39m\u001b[38;5;124m'\u001b[39m: \u001b[38;5;241m4\u001b[39m}\n\u001b[0;32m      4\u001b[0m \u001b[38;5;28mprint\u001b[39m(fruits[\u001b[38;5;124m'\u001b[39m\u001b[38;5;124mapple\u001b[39m\u001b[38;5;124m'\u001b[39m])\n\u001b[1;32m----> 5\u001b[0m \u001b[38;5;28mprint\u001b[39m(\u001b[43mfruits\u001b[49m\u001b[43m[\u001b[49m\u001b[38;5;124;43m'\u001b[39;49m\u001b[38;5;124;43mcorn\u001b[39;49m\u001b[38;5;124;43m'\u001b[39;49m\u001b[43m]\u001b[49m)\n",
      "\u001b[1;31mKeyError\u001b[0m: 'corn'"
     ]
    }
   ],
   "source": [
    "# access value via key\n",
    "\n",
    "fruits = {'banana': 2, 'apple': 4}\n",
    "print(fruits['apple'])\n",
    "print(fruits['corn'])"
   ]
  },
  {
   "cell_type": "markdown",
   "metadata": {},
   "source": [
    "## Dictionary and File"
   ]
  },
  {
   "cell_type": "code",
   "execution_count": 85,
   "metadata": {},
   "outputs": [],
   "source": [
    "import json\n",
    "\n",
    "parameters = {'learning_rate': 0.1,\n",
    "              'optimizer': 'Adam',\n",
    "              'metric': 'Accuracy'}\n",
    "\n",
    "with open('data.json', 'w') as fp:\n",
    "    json.dump(parameters, fp)"
   ]
  },
  {
   "cell_type": "code",
   "execution_count": 88,
   "metadata": {},
   "outputs": [
    {
     "name": "stdout",
     "output_type": "stream",
     "text": [
      "{'learning_rate': 0.1, 'optimizer': 'Adam', 'metric': 'Accuracy'}\n",
      "<class 'dict'>\n"
     ]
    }
   ],
   "source": [
    "with open('data.json', 'r') as fp:\n",
    "    data = json.load(fp)\n",
    "    print(data)\n",
    "    print(type(data))"
   ]
  },
  {
   "cell_type": "code",
   "execution_count": 89,
   "metadata": {},
   "outputs": [
    {
     "name": "stdout",
     "output_type": "stream",
     "text": [
      "0.1\n"
     ]
    }
   ],
   "source": [
    "print(data['learning_rate'])"
   ]
  },
  {
   "cell_type": "markdown",
   "metadata": {},
   "source": [
    "## Iterables and Sorting"
   ]
  },
  {
   "cell_type": "code",
   "execution_count": 90,
   "metadata": {},
   "outputs": [
    {
     "name": "stdout",
     "output_type": "stream",
     "text": [
      "[1, 5, 3, 7, 4]\n",
      "[1, 3, 4, 5, 7]\n"
     ]
    }
   ],
   "source": [
    "# create a list\n",
    "aList = [1, 5, 3, 7, 4]\n",
    "print(aList)\n",
    "\n",
    "# sort\n",
    "sortedList = sorted(aList)\n",
    "print(sortedList)"
   ]
  },
  {
   "cell_type": "code",
   "execution_count": 95,
   "metadata": {},
   "outputs": [
    {
     "name": "stdout",
     "output_type": "stream",
     "text": [
      "[1, 5, 3, 7, 4]\n",
      "[1, 3, 4, 5, 7]\n"
     ]
    }
   ],
   "source": [
    "# create a list\n",
    "aList = [1, 5, 3, 7, 4]\n",
    "print(aList)\n",
    "\n",
    "# function for sorting\n",
    "def compare(item):\n",
    "    return item\n",
    "\n",
    "# sort\n",
    "sortedList = sorted(aList, key= compare)\n",
    "print(sortedList)"
   ]
  },
  {
   "cell_type": "code",
   "execution_count": 96,
   "metadata": {},
   "outputs": [
    {
     "name": "stdout",
     "output_type": "stream",
     "text": [
      "{1: 16, 5: 13, 3: 18, 7: 11, 4: 15}\n"
     ]
    }
   ],
   "source": [
    "# data\n",
    "list1 = [1, 5, 3, 7, 4]\n",
    "list2 = [16, 13, 18, 11, 15]\n",
    "\n",
    "# create a dictionary\n",
    "dictionary = dict(zip(list1, list2))\n",
    "print(dictionary)"
   ]
  },
  {
   "cell_type": "code",
   "execution_count": 97,
   "metadata": {},
   "outputs": [
    {
     "name": "stdout",
     "output_type": "stream",
     "text": [
      "[1, 3, 4, 5, 7]\n"
     ]
    }
   ],
   "source": [
    "sortedDict = sorted(dictionary)\n",
    "print(sortedDict)"
   ]
  },
  {
   "cell_type": "code",
   "execution_count": 98,
   "metadata": {},
   "outputs": [
    {
     "name": "stdout",
     "output_type": "stream",
     "text": [
      "[('a', 16), ('g', 13), ('e', 18), ('h', 11), ('b', 15)]\n"
     ]
    }
   ],
   "source": [
    "# data\n",
    "list1 = ['a', 'g', 'e', 'h', 'b']\n",
    "list2 = [16, 13, 18, 11, 15]\n",
    "\n",
    "# create a dictionary\n",
    "list3 = list(zip(list1, list2))\n",
    "print(list3)"
   ]
  },
  {
   "cell_type": "code",
   "execution_count": 99,
   "metadata": {},
   "outputs": [
    {
     "name": "stdout",
     "output_type": "stream",
     "text": [
      "[('a', 16), ('b', 15), ('e', 18), ('g', 13), ('h', 11)]\n"
     ]
    }
   ],
   "source": [
    "list4 = sorted(list3)\n",
    "print(list4)"
   ]
  },
  {
   "cell_type": "code",
   "execution_count": 100,
   "metadata": {},
   "outputs": [
    {
     "name": "stdout",
     "output_type": "stream",
     "text": [
      "[('a', 16), ('g', 13), ('e', 18), ('h', 11), ('b', 15)]\n"
     ]
    }
   ],
   "source": [
    "# data\n",
    "list1 = ['a', 'g', 'e', 'h', 'b']\n",
    "list2 = [16, 13, 18, 11, 15]\n",
    "\n",
    "# function for sorting\n",
    "def compare(item):\n",
    "    return item[0]\n",
    "\n",
    "# create a dictionary\n",
    "list3 = list(zip(list1, list2))\n",
    "print(list3)"
   ]
  },
  {
   "cell_type": "code",
   "execution_count": 101,
   "metadata": {},
   "outputs": [
    {
     "name": "stdout",
     "output_type": "stream",
     "text": [
      "[('a', 16), ('b', 15), ('e', 18), ('g', 13), ('h', 11)]\n"
     ]
    }
   ],
   "source": [
    "list4 = sorted(list3, key=compare)\n",
    "print(list4)"
   ]
  },
  {
   "cell_type": "code",
   "execution_count": 102,
   "metadata": {},
   "outputs": [
    {
     "name": "stdout",
     "output_type": "stream",
     "text": [
      "[('a', 16), ('g', 13), ('e', 18), ('h', 11), ('b', 15)]\n"
     ]
    }
   ],
   "source": [
    "# data\n",
    "list1 = ['a', 'g', 'e', 'h', 'b']\n",
    "list2 = [16, 13, 18, 11, 15]\n",
    "\n",
    "# function for sorting\n",
    "def compare(item):\n",
    "    return item[1]\n",
    "\n",
    "# create a dictionary\n",
    "list3 = list(zip(list1, list2))\n",
    "print(list3)"
   ]
  },
  {
   "cell_type": "code",
   "execution_count": 103,
   "metadata": {},
   "outputs": [
    {
     "name": "stdout",
     "output_type": "stream",
     "text": [
      "[('h', 11), ('g', 13), ('b', 15), ('a', 16), ('e', 18)]\n"
     ]
    }
   ],
   "source": [
    "list4 = sorted(list3, key=compare)\n",
    "print(list4)"
   ]
  },
  {
   "cell_type": "code",
   "execution_count": 104,
   "metadata": {},
   "outputs": [
    {
     "name": "stdout",
     "output_type": "stream",
     "text": [
      "[('a', 16), ('g', 13), ('e', 18), ('h', 11), ('b', 15)]\n"
     ]
    }
   ],
   "source": [
    "# data\n",
    "list1 = ['a', 'g', 'e', 'h', 'b']\n",
    "list2 = [16, 13, 18, 11, 15]\n",
    "\n",
    "# create a dictionary\n",
    "list3 = list(zip(list1, list2))\n",
    "print(list3)"
   ]
  },
  {
   "cell_type": "code",
   "execution_count": 105,
   "metadata": {},
   "outputs": [
    {
     "name": "stdout",
     "output_type": "stream",
     "text": [
      "[('h', 11), ('g', 13), ('b', 15), ('a', 16), ('e', 18)]\n"
     ]
    }
   ],
   "source": [
    "list4 = sorted(list3, key=lambda item: item[1])\n",
    "print(list4)"
   ]
  }
 ],
 "metadata": {
  "kernelspec": {
   "display_name": "Python 3",
   "language": "python",
   "name": "python3"
  },
  "language_info": {
   "codemirror_mode": {
    "name": "ipython",
    "version": 3
   },
   "file_extension": ".py",
   "mimetype": "text/x-python",
   "name": "python",
   "nbconvert_exporter": "python",
   "pygments_lexer": "ipython3",
   "version": "3.12.6"
  }
 },
 "nbformat": 4,
 "nbformat_minor": 2
}
