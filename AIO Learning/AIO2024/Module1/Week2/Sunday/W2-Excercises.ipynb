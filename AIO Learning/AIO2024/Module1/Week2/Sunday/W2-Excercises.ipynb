{
 "cells": [
  {
   "cell_type": "markdown",
   "metadata": {},
   "source": [
    "1. Cho một list các số nguyên num_list và một sliding window có kích thước size k di chuyển từ trái sang phải. \n",
    "\n",
    "    Mỗi lần dịch chuyển 1 vị trí sang phải có thể nhìn thấy được k số trong num_list và tìm số lớn nhất trong k số này sau mỗi lần trượt k phải lớn hơn hoặc bằng 1\n",
    "\n",
    "    - ***Input:*** num_list = [3, 4, 5, 1, -44 , 5 ,10, 12 ,33, 1] với k=3\n",
    "\n",
    "    - ***Output:*** [5, 5, 5, 5, 10, 12, 33, 33]\n",
    "\n",
    "    Ví dụ:\n",
    "    [3, 4, 5], 1, -44 , 5 ,10, 12 ,33, 1 => max 5\n",
    "\n",
    "    3, [4, 5, 1], -44 , 5 ,10, 12 ,33, 1 => max 5\n",
    "\n",
    "    3, 4, [5, 1, -44] , 5 ,10, 12 ,33, 1 => max 5\n",
    "\n",
    "    3, 4, 5, [1, -44 , 5] ,10, 12 ,33, 1 => max 5\n",
    "\n",
    "    3, 4, 5, 1, [-44 , 5 ,10], 12 ,33, 1 => max 10\n",
    "\n",
    "    3, 4, 5, 1, -44 , [5 ,10, 12] ,33, 1 => max 12\n",
    "\n",
    "    3, 4, 5, 1, -44 , 5 ,[10, 12 ,33], 1 => max 33\n",
    "\n",
    "    3, 4, 5, 1, -44 , 5 ,10, [12 ,33, 1] => max 33"
   ]
  },
  {
   "cell_type": "code",
   "execution_count": 2,
   "metadata": {},
   "outputs": [
    {
     "name": "stdout",
     "output_type": "stream",
     "text": [
      "[5, 5, 5, 5, 10, 12, 33, 33]\n"
     ]
    }
   ],
   "source": [
    "def sliding_window_max(num_list, k):\n",
    "    result = []\n",
    "    for i in range(len(num_list) - k + 1):\n",
    "        window = num_list[i:i+k]\n",
    "        max_val = max(window)\n",
    "        result.append(max_val)\n",
    "    return result\n",
    "\n",
    "num_list = [3, 4, 5, 1, -44 , 5 ,10, 12 ,33, 1]\n",
    "k=3\n",
    "print(sliding_window_max(num_list, k))"
   ]
  },
  {
   "cell_type": "markdown",
   "metadata": {},
   "source": [
    "2. Thực hiện theo các yêu cầu sau.\n",
    "\n",
    "    Viết function trả về một dictionary đếm số lượng chữ xuất hiện trong một từ, với key là chữ cái và value là số lần xuất hiện\n",
    "\n",
    "    ***•Input***: một từ\n",
    "\n",
    "    ***•Output***: dictionary đếm số lần các chữ xuất hiện\n",
    "    \n",
    "    ***•Note***: Giả sử các từ nhập vào đều có các chữ cái thuộc [a-z] hoặc [A-Z]"
   ]
  },
  {
   "cell_type": "code",
   "execution_count": 5,
   "metadata": {},
   "outputs": [
    {
     "name": "stdout",
     "output_type": "stream",
     "text": [
      "{'H': 1, 'a': 1, 'p': 2, 'i': 1, 'e': 1, 's': 1}\n",
      "{'s': 2, 'm': 1, 'i': 1, 'l': 1, 'e': 1}\n"
     ]
    }
   ],
   "source": [
    "def count_char(word):\n",
    "    result = {}\n",
    "    for char in word:\n",
    "        if char in result:\n",
    "            result[char] += 1\n",
    "        else:\n",
    "            result[char] = 1\n",
    "    return result\n",
    "\n",
    "string = \"Happies\"\n",
    "print(count_char(string))\n",
    "\n",
    "string = \"smiles\"\n",
    "print(count_char(string))"
   ]
  },
  {
   "cell_type": "markdown",
   "metadata": {},
   "source": [
    "3. Thực hiện theo các yêu cầu sau.\n",
    "\n",
    "    Viết function đọc các câu trong một file txt, đếm số lượng các từ xuất hiện và trả về một dictionary với key là từ và value là số lần từ đó xuất hiện.\n",
    "\n",
    "    ***•Input***: Đường dẫn đến file txt\n",
    "\n",
    "    ***•Output***: dictionary đếm số lần các từ xuất hiện\n",
    "\n",
    "    ***•Note***:\n",
    "\n",
    "    – Giả sử các từ trong file txt đều có các chữ cái thuộc [a-z] hoặc [A-Z]\n",
    "\n",
    "    – Không cần các thao tác xử lý string phức tạp nhưng cần xử lý các từ đều là viết thường\n",
    "\n",
    "    – Các bạn dùng lệnh này để download\n",
    "    \n",
    "    !gdown https://drive.google.com/uc?id=1IBScGdW2xlNsc9v5zSAya548kNgiOrko"
   ]
  },
  {
   "cell_type": "code",
   "execution_count": 6,
   "metadata": {},
   "outputs": [
    {
     "name": "stderr",
     "output_type": "stream",
     "text": [
      "Downloading...\n",
      "From: https://drive.google.com/uc?id=1IBScGdW2xlNsc9v5zSAya548kNgiOrko\n",
      "To: d:\\Courses\\AIO2024\\New folder\\AIO Learning\\AIO2024\\Module1\\Week2\\Sunday\\P1_data.txt\n",
      "\n",
      "  0%|          | 0.00/747 [00:00<?, ?B/s]\n",
      "100%|██████████| 747/747 [00:00<?, ?B/s] \n"
     ]
    }
   ],
   "source": [
    "!gdown https://drive.google.com/uc?id=1IBScGdW2xlNsc9v5zSAya548kNgiOrko"
   ]
  },
  {
   "cell_type": "code",
   "execution_count": 45,
   "metadata": {},
   "outputs": [
    {
     "data": {
      "text/plain": [
       "['He who conquers himself is the mightiest warrior\\n',\n",
       " 'Try not to become a man of success but rather become a man of value\\n',\n",
       " 'One man with courage makes a majority\\n',\n",
       " 'One secret of success in life is for a man to be ready for his opportunity when it comes\\n',\n",
       " 'The successful man will profit from his mistakes and try again in a different way\\n',\n",
       " 'A successful man is one who can lay a firm foundation with the bricks others have thrown at him\\n',\n",
       " 'Success usually comes to those who are too busy looking for it\\n',\n",
       " 'We cannot solve problems with the kind of thinking we employed when we came up with them\\n',\n",
       " 'Just one small positive thought in the morning can change your whole day\\n',\n",
       " 'You can get everything in life you want if you will just help enough other people get what they want']"
      ]
     },
     "execution_count": 45,
     "metadata": {},
     "output_type": "execute_result"
    }
   ],
   "source": [
    "with open(\"P1_data.txt\", 'r') as file:\n",
    "    sentences = file.readlines()\n",
    "sentences"
   ]
  },
  {
   "cell_type": "code",
   "execution_count": 44,
   "metadata": {},
   "outputs": [
    {
     "name": "stdout",
     "output_type": "stream",
     "text": [
      "['He', 'who', 'conquers', 'himself', 'is', 'the', 'mightiest', 'warrior', 'Try', 'not', 'to', 'become', 'a', 'man', 'of', 'success', 'but', 'rather', 'become', 'a', 'man', 'of', 'value', 'One', 'man', 'with', 'courage', 'makes', 'a', 'majority', 'One', 'secret', 'of', 'success', 'in', 'life', 'is', 'for', 'a', 'man', 'to', 'be', 'ready', 'for', 'his', 'opportunity', 'when', 'it', 'comes', 'The', 'successful', 'man', 'will', 'profit', 'from', 'his', 'mistakes', 'and', 'try', 'again', 'in', 'a', 'different', 'way', 'A', 'successful', 'man', 'is', 'one', 'who', 'can', 'lay', 'a', 'firm', 'foundation', 'with', 'the', 'bricks', 'others', 'have', 'thrown', 'at', 'him', 'Success', 'usually', 'comes', 'to', 'those', 'who', 'are', 'too', 'busy', 'looking', 'for', 'it', 'We', 'cannot', 'solve', 'problems', 'with', 'the', 'kind', 'of', 'thinking', 'we', 'employed', 'when', 'we', 'came', 'up', 'with', 'them', 'Just', 'one', 'small', 'positive', 'thought', 'in', 'the', 'morning', 'can', 'change', 'your', 'whole', 'day', 'You', 'can', 'get', 'everything', 'in', 'life', 'you', 'want', 'if', 'you', 'will', 'just', 'help', 'enough', 'other', 'people', 'get', 'what', 'they', 'want']\n",
      "{'he': 1, 'who': 3, 'conquers': 1, 'himself': 1, 'is': 3, 'the': 5, 'mightiest': 1, 'warrior': 1, 'try': 2, 'not': 1, 'to': 3, 'become': 2, 'a': 7, 'man': 6, 'of': 4, 'success': 3, 'but': 1, 'rather': 1, 'value': 1, 'one': 4, 'with': 4, 'courage': 1, 'makes': 1, 'majority': 1, 'secret': 1, 'in': 4, 'life': 2, 'for': 3, 'be': 1, 'ready': 1, 'his': 2, 'opportunity': 1, 'when': 2, 'it': 2, 'comes': 2, 'successful': 2, 'will': 2, 'profit': 1, 'from': 1, 'mistakes': 1, 'and': 1, 'again': 1, 'different': 1, 'way': 1, 'can': 3, 'lay': 1, 'firm': 1, 'foundation': 1, 'bricks': 1, 'others': 1, 'have': 1, 'thrown': 1, 'at': 1, 'him': 1, 'usually': 1, 'those': 1, 'are': 1, 'too': 1, 'busy': 1, 'looking': 1, 'we': 3, 'cannot': 1, 'solve': 1, 'problems': 1, 'kind': 1, 'thinking': 1, 'employed': 1, 'came': 1, 'up': 1, 'them': 1, 'just': 2, 'small': 1, 'positive': 1, 'thought': 1, 'morning': 1, 'change': 1, 'your': 1, 'whole': 1, 'day': 1, 'you': 3, 'get': 2, 'everything': 1, 'want': 2, 'if': 1, 'help': 1, 'enough': 1, 'other': 1, 'people': 1, 'what': 1, 'they': 1}\n"
     ]
    }
   ],
   "source": [
    "def word_count(file_path):\n",
    "    with open(file_path, 'r') as file:\n",
    "        text = file.read()\n",
    "    words = text.split()\n",
    "    print(words)\n",
    "    word_count = {}\n",
    "    for word in words:\n",
    "        word = word.lower()\n",
    "        if word in word_count:\n",
    "            word_count[word] += 1\n",
    "        else:\n",
    "            word_count[word] = 1\n",
    "    \n",
    "    return word_count\n",
    "\n",
    "file_path = \"P1_data.txt\"\n",
    "print(word_count(file_path))"
   ]
  },
  {
   "cell_type": "markdown",
   "metadata": {},
   "source": [
    "4. Khoảng cách Levenshtein.\n",
    "\n",
    "    Viết chương trình tính khoảng cách chỉnh sửa tối thiểu Levenshtein. \n",
    "    \n",
    "    Khoảng cách Levenshtein thể hiện khoảng cách khác biệt giữa 2 chuỗi ký tự. \n",
    "    \n",
    "    Khoảng cách Levenshtein giữa chuỗi S và chuỗi T là số bước ít nhất biến chuỗi S thành chuỗi T thông qua 3 phép biến đổi là:\n",
    "\n",
    "    -*Xoá một ký tự*\n",
    "\n",
    "    -*Thêm một ký tự*\n",
    "\n",
    "    -*Thay thế ký tự này bằng ký tự khác*\n",
    "\n",
    "    Khoảng cách này được sử dụng trong việc tính toán sự giống và khác nhau giữa 2 chuỗi, như chương trình kiểm tra lỗi chính tả của winword spellchecker. \n",
    "    \n",
    "    **Ví dụ**: Khoảng cách Levenshtein giữa 2 chuỗi \"kitten\" và \"sitting\" là 3, vì phải dùng ít nhất 3 lần biến đổi. \n",
    "    \n",
    "    ***Trong đó:***\n",
    "\n",
    "    -*kitten -> sitten (thay \"k\" bằng \"s\")*\n",
    "\n",
    "    -*sitten -> sittin (thay \"e\" bằng \"i\")*\n",
    "\n",
    "    -*sittin -> sitting (thêm ký tự \"g\")*\n",
    "\n",
    "    \n",
    "    Để hiểu rõ về thuật toán, chúng ta lấy ví dụ, khoảng cách cần tính giữa hai từ source: ’yu’ và target: ’you’. \n",
    "    \n",
    "    Chi phí thực hiện cho các phép biến đổi bao gồm: xoá một ký tự, thêm một ký tự và thay thế ký tự này thành ký tự khác đều là 1 (Nếu 2 ký tự giống nhau thì chi phí thực hiện là 0)."
   ]
  },
  {
   "cell_type": "code",
   "execution_count": 33,
   "metadata": {},
   "outputs": [
    {
     "name": "stdout",
     "output_type": "stream",
     "text": [
      "Distance:\n",
      "# h e l l o \n",
      "h 0 1 2 3 4 \n",
      "o 1 1 2 3 3 \n",
      "l 2 2 1 2 3 \n",
      "a 3 3 2 2 3 \n",
      "Khoảng cách Levenshtein giữa 'hola' và 'hello' là: 3\n",
      "Distance:\n",
      "# y o u \n",
      "y 0 1 2 \n",
      "u 1 1 1 \n",
      "Khoảng cách Levenshtein giữa 'yu' và 'you' là: 1\n"
     ]
    }
   ],
   "source": [
    "def print_distance(distance, source, target):\n",
    "    for i in range(len(source)+1):\n",
    "        for j in range(len(target)+1):\n",
    "            if i == j ==0:\n",
    "                print(\"#\", end =\" \")\n",
    "            elif i == 0:\n",
    "                print(target[j-1], end =\" \")\n",
    "            elif j == 0:\n",
    "                print(source[i-1], end =\" \")\n",
    "            else:\n",
    "                print(distance[i][j], end =\" \")\n",
    "        print()\n",
    "\n",
    "def levenshtein_distance(source, target):\n",
    "    distance = [[0]*(len(target)+1) for _ in range(len(source)+1)]\n",
    "    del_cost = 0\n",
    "    ins_cost = 0\n",
    "    sub_cost = 0\n",
    "    for row in range(len(source)+1):\n",
    "        distance[row][0] = row\n",
    "    for col in range(len(target)+1):\n",
    "        distance[0][col] = col\n",
    "    for row in range(1, len(source)+1):\n",
    "        for col in range(1, len(target)+1):\n",
    "            if source[row-1] == target[col-1]:\n",
    "                distance[row][col] = distance[row-1][col-1]\n",
    "            else:\n",
    "                del_cost = distance[row-1][col] + 1\n",
    "                ins_cost = distance[row][col-1] + 1\n",
    "                sub_cost = distance[row-1][col-1] + 1\n",
    "                distance[row][col] = min(del_cost, ins_cost, sub_cost)\n",
    "    print(\"Distance:\")\n",
    "    print_distance(distance, source, target)\n",
    "    return distance[len(source)][len(target)]\n",
    "\n",
    "\n",
    "print(f\"Khoảng cách Levenshtein giữa 'hola' và 'hello' là: {levenshtein_distance('hola', 'hello')}\")\n",
    "print(f\"Khoảng cách Levenshtein giữa 'yu' và 'you' là: {levenshtein_distance('yu', 'you')}\")"
   ]
  }
 ],
 "metadata": {
  "kernelspec": {
   "display_name": "Python 3",
   "language": "python",
   "name": "python3"
  },
  "language_info": {
   "codemirror_mode": {
    "name": "ipython",
    "version": 3
   },
   "file_extension": ".py",
   "mimetype": "text/x-python",
   "name": "python",
   "nbconvert_exporter": "python",
   "pygments_lexer": "ipython3",
   "version": "3.12.6"
  }
 },
 "nbformat": 4,
 "nbformat_minor": 2
}
