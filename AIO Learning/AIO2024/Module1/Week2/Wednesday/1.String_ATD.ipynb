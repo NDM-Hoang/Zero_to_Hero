{
 "cells": [
  {
   "cell_type": "code",
   "execution_count": 1,
   "id": "90ce0ba2",
   "metadata": {},
   "outputs": [
    {
     "name": "stdout",
     "output_type": "stream",
     "text": [
      "AI\n"
     ]
    }
   ],
   "source": [
    "# create a string\n",
    "name = 'AI'\n",
    "print(name)"
   ]
  },
  {
   "cell_type": "code",
   "execution_count": 2,
   "id": "6a811cfa",
   "metadata": {},
   "outputs": [
    {
     "name": "stdout",
     "output_type": "stream",
     "text": [
      "A\n",
      "I\n"
     ]
    }
   ],
   "source": [
    "# iterate a string\n",
    "name = 'AI'\n",
    "for character in name:\n",
    "    print(character)"
   ]
  },
  {
   "cell_type": "code",
   "execution_count": 11,
   "id": "85d888b4",
   "metadata": {},
   "outputs": [
    {
     "name": "stdout",
     "output_type": "stream",
     "text": [
      "A-I- -L-e-a-r-n-i-n-g"
     ]
    }
   ],
   "source": [
    "# iterate a string\n",
    "name = 'AI Learning'\n",
    "length = len(name)\n",
    "\n",
    "for index in range(length):\n",
    "    if index < length - 1:\n",
    "        print(name[index], end = \"-\")\n",
    "    else:\n",
    "        print(name[index], end = \"\")"
   ]
  }
 ],
 "metadata": {
  "kernelspec": {
   "display_name": "Python 3",
   "language": "python",
   "name": "python3"
  },
  "language_info": {
   "codemirror_mode": {
    "name": "ipython",
    "version": 3
   },
   "file_extension": ".py",
   "mimetype": "text/x-python",
   "name": "python",
   "nbconvert_exporter": "python",
   "pygments_lexer": "ipython3",
   "version": "3.12.6"
  }
 },
 "nbformat": 4,
 "nbformat_minor": 5
}
