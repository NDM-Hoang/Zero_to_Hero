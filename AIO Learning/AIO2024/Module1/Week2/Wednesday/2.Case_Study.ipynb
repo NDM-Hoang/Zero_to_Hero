{
  "cells": [
    {
      "cell_type": "code",
      "execution_count": 2,
      "id": "054ae677",
      "metadata": {
        "colab": {
          "base_uri": "https://localhost:8080/"
        },
        "id": "054ae677",
        "outputId": "f5563486-4a08-4029-ba82-f357e364d33a"
      },
      "outputs": [
        {
          "name": "stdout",
          "output_type": "stream",
          "text": [
            "uct.ac.za\n"
          ]
        }
      ],
      "source": [
        "str = 'From stephen.marquard@uct.ac.za Sat Jan  5 09:14:16 2008'\n",
        "atpos = str.find('@')\n",
        "sppos = str.find(' ',atpos)\n",
        "host = str[atpos+1 : sppos]\n",
        "print(host)"
      ]
    },
    {
      "cell_type": "code",
      "execution_count": null,
      "id": "o0eTQtHWul0U",
      "metadata": {
        "colab": {
          "base_uri": "https://localhost:8080/"
        },
        "id": "o0eTQtHWul0U",
        "outputId": "3decd93d-7abe-4210-baef-a4d097d857e6"
      },
      "outputs": [],
      "source": [
        "from google.colab import drive\n",
        "drive.mount('/content/drive')"
      ]
    },
    {
      "cell_type": "code",
      "execution_count": 6,
      "id": "763de919",
      "metadata": {
        "colab": {
          "base_uri": "https://localhost:8080/"
        },
        "id": "763de919",
        "outputId": "98e0feb4-2698-4fe2-f11c-ccdd4672491d"
      },
      "outputs": [
        {
          "name": "stdout",
          "output_type": "stream",
          "text": [
            "I, like, AIVN, 0x11a3f8b3a00\n",
            "I, like, AIVN, very much, 0x11a3f8b3a00\n"
          ]
        }
      ],
      "source": [
        "words = ['I', 'like', 'AIVN']\n",
        "for w in words:\n",
        "    print(w, end=', ') #Printing the elements from the list cities, separated by a comma & space\n",
        "    \n",
        "print(hex(id(words))) #Printing the location of the object created in the memory address in hexadecimal format\n",
        "\n",
        "words.append('very much') # Adding a new word\n",
        "\n",
        "for w in words:\n",
        "    print(w, end=', ') #Printing the elements from the list cities, separated by a comma & space\n",
        "    \n",
        "print(hex(id(words))) #Printing the location of the object created in the memory address in hexadecimal format\n",
        "\n"
      ]
    },
    {
      "cell_type": "code",
      "execution_count": 13,
      "id": "1c242490",
      "metadata": {
        "colab": {
          "base_uri": "https://localhost:8080/",
          "height": 227
        },
        "id": "1c242490",
        "outputId": "20ed6c2d-4128-44bd-f3bd-8d68e455ad44"
      },
      "outputs": [
        {
          "name": "stdout",
          "output_type": "stream",
          "text": [
            "I like AIVN\n"
          ]
        },
        {
          "ename": "TypeError",
          "evalue": "'str' object does not support item assignment",
          "output_type": "error",
          "traceback": [
            "\u001b[1;31m---------------------------------------------------------------------------\u001b[0m",
            "\u001b[1;31mTypeError\u001b[0m                                 Traceback (most recent call last)",
            "Cell \u001b[1;32mIn[14], line 4\u001b[0m\n\u001b[0;32m      1\u001b[0m words \u001b[38;5;241m=\u001b[39m \u001b[38;5;124m\"\u001b[39m\u001b[38;5;124mI like AIVN\u001b[39m\u001b[38;5;124m\"\u001b[39m\n\u001b[0;32m      2\u001b[0m \u001b[38;5;28mprint\u001b[39m(words)\n\u001b[1;32m----> 4\u001b[0m \u001b[43mwords\u001b[49m\u001b[43m[\u001b[49m\u001b[38;5;28;43mlen\u001b[39;49m\u001b[43m(\u001b[49m\u001b[43mwords\u001b[49m\u001b[43m)\u001b[49m\u001b[38;5;241;43m-\u001b[39;49m\u001b[38;5;241;43m1\u001b[39;49m\u001b[43m]\u001b[49m \u001b[38;5;241m=\u001b[39m \u001b[38;5;124m'\u001b[39m\u001b[38;5;124m!\u001b[39m\u001b[38;5;124m'\u001b[39m\n",
            "\u001b[1;31mTypeError\u001b[0m: 'str' object does not support item assignment"
          ]
        }
      ],
      "source": [
        "words = \"I like AIVN\"\n",
        "print(words)\n",
        "\n",
        "words[len(words)] = '!'"
      ]
    },
    {
      "cell_type": "code",
      "execution_count": 16,
      "id": "4735fb62",
      "metadata": {
        "colab": {
          "base_uri": "https://localhost:8080/"
        },
        "id": "4735fb62",
        "outputId": "55876cd9-0d8e-425a-90ee-86fdbeddb848"
      },
      "outputs": [
        {
          "name": "stdout",
          "output_type": "stream",
          "text": [
            "i = 140708796301960\n",
            "  = 140708796298456\n",
            "l = 140708796302104\n",
            "i = 140708796301960\n",
            "k = 140708796302056\n",
            "e = 140708796301768\n",
            "  = 140708796298456\n",
            "a = 140708796301576\n",
            "i = 140708796301960\n",
            "v = 140708796302584\n",
            "n = 140708796302200\n"
          ]
        }
      ],
      "source": [
        "words = \"i like aivn\"\n",
        "\n",
        "for idx in range (0,len(words)):\n",
        "    print (words[idx], \"=\", id(words[idx]))"
      ]
    },
    {
      "cell_type": "code",
      "execution_count": 17,
      "id": "ff269399",
      "metadata": {
        "colab": {
          "base_uri": "https://localhost:8080/"
        },
        "id": "ff269399",
        "outputId": "bce49e98-8ca9-49c1-ac35-d2732a06bb7f"
      },
      "outputs": [
        {
          "name": "stdout",
          "output_type": "stream",
          "text": [
            "id of word_1 =  1212242498336\n",
            "id of word_2 =  1212242498336\n"
          ]
        }
      ],
      "source": [
        "word_1 = \"aivn\"\n",
        "word_2 = \"aivn\"\n",
        "print(\"id of word_1 = \", id(word_1))\n",
        "print(\"id of word_2 = \", id(word_2)) # cùng địa chỉ"
      ]
    },
    {
      "cell_type": "code",
      "execution_count": 18,
      "id": "6c739c67",
      "metadata": {
        "colab": {
          "base_uri": "https://localhost:8080/"
        },
        "id": "6c739c67",
        "outputId": "a33f3e3d-8a58-4c4c-f210-de45b1d4acb2"
      },
      "outputs": [
        {
          "name": "stdout",
          "output_type": "stream",
          "text": [
            "No of unique items are: 5\n"
          ]
        }
      ],
      "source": [
        "# taking an input list\n",
        "input_list = [1, 2, 2, 5, 8, 4, 4, 8]\n",
        "\n",
        "# taking an input list\n",
        "l1 = []\n",
        "\n",
        "# taking an counter\n",
        "count = 0\n",
        "\n",
        "# traversing the array\n",
        "for item in input_list:\n",
        "\tif item not in l1:\n",
        "\t\tcount += 1\n",
        "\t\tl1.append(item)\n",
        "\n",
        "# printing the output\n",
        "print(\"No of unique items are:\", count)\n"
      ]
    },
    {
      "cell_type": "code",
      "execution_count": 19,
      "id": "101570f9",
      "metadata": {
        "colab": {
          "base_uri": "https://localhost:8080/"
        },
        "id": "101570f9",
        "outputId": "71542656-826c-41f6-d594-921f15d37407"
      },
      "outputs": [
        {
          "name": "stdout",
          "output_type": "stream",
          "text": [
            "No of unique items in the list are: 5\n"
          ]
        }
      ],
      "source": [
        "# importing Counter module\n",
        "from collections import Counter\n",
        "\n",
        "\n",
        "input_list = [1, 2, 2, 5, 8, 4, 4, 8]\n",
        "\n",
        "# creating a list with the keys\n",
        "items = Counter(input_list).keys()\n",
        "print(\"No of unique items in the list are:\", len(items))\n"
      ]
    },
    {
      "cell_type": "code",
      "execution_count": 20,
      "id": "b5f8ef99",
      "metadata": {
        "id": "b5f8ef99"
      },
      "outputs": [],
      "source": [
        "data = [ \"product quality\", \"delivery time\", \"price\", \"quantity\", \"customer service\",  \"product quality\", \"delivery time\", \"price\", \"quantity\", \"customer service\",  \"product quality\", \"delivery time\", \"price\", \"quantity\", \"customer service\", \"product quality\", \"product quality\", \"product quality\",\"product quality\",\"product quality\",\"product quality\",\"product quality\",\"product quality\"]\n",
        "with open(r'data.txt','w') as fp:\n",
        "    for item in data:\n",
        "        fp.write(f'{item}\\n')"
      ]
    },
    {
      "cell_type": "code",
      "execution_count": 24,
      "id": "566e2966",
      "metadata": {
        "id": "566e2966"
      },
      "outputs": [
        {
          "name": "stdout",
          "output_type": "stream",
          "text": [
            "['product quality\\n', 'delivery time\\n', 'price\\n', 'quantity\\n', 'customer service\\n', 'product quality\\n', 'delivery time\\n', 'price\\n', 'quantity\\n', 'customer service\\n', 'product quality\\n', 'delivery time\\n', 'price\\n', 'quantity\\n', 'customer service\\n', 'product quality\\n', 'product quality\\n', 'product quality\\n', 'product quality\\n', 'product quality\\n', 'product quality\\n', 'product quality\\n', 'product quality\\n']\n"
          ]
        },
        {
          "data": {
            "text/plain": [
              "<Axes: >"
            ]
          },
          "execution_count": 24,
          "metadata": {},
          "output_type": "execute_result"
        },
        {
          "data": {
            "image/png": "[encoded data removed]",
            "text/plain": [
              "<Figure size 640x480 with 1 Axes>"
            ]
          },
          "metadata": {},
          "output_type": "display_data"
        }
      ],
      "source": [
        "import numpy as np\n",
        "data = []\n",
        "with open(r'data.txt','r') as fp:\n",
        "    line = fp.readlines()\n",
        "    data.append(line)\n",
        "    \n",
        "data = data[0]\n",
        "print(data)\n",
        "\n",
        "import pandas as pd\n",
        "from collections import Counter\n",
        "letter_counts = Counter(data)\n",
        "df = pd.DataFrame.from_dict(letter_counts, orient='index')\n",
        "df.plot(kind='line')    "
      ]
    },
    {
      "cell_type": "code",
      "execution_count": 22,
      "id": "uUu7rLWuwNB9",
      "metadata": {
        "id": "uUu7rLWuwNB9"
      },
      "outputs": [
        {
          "data": {
            "text/plain": [
              "<Axes: >"
            ]
          },
          "execution_count": 22,
          "metadata": {},
          "output_type": "execute_result"
        },
        {
          "data": {
            "image/png": "[encoded data removed]",
            "text/plain": [
              "<Figure size 640x480 with 1 Axes>"
            ]
          },
          "metadata": {},
          "output_type": "display_data"
        }
      ],
      "source": [
        "pd.Series(data).value_counts(sort=False).plot(kind='bar')"
      ]
    }
  ],
  "metadata": {
    "colab": {
      "provenance": []
    },
    "kernelspec": {
      "display_name": "Python 3",
      "language": "python",
      "name": "python3"
    },
    "language_info": {
      "codemirror_mode": {
        "name": "ipython",
        "version": 3
      },
      "file_extension": ".py",
      "mimetype": "text/x-python",
      "name": "python",
      "nbconvert_exporter": "python",
      "pygments_lexer": "ipython3",
      "version": "3.12.6"
    }
  },
  "nbformat": 4,
  "nbformat_minor": 5
}
