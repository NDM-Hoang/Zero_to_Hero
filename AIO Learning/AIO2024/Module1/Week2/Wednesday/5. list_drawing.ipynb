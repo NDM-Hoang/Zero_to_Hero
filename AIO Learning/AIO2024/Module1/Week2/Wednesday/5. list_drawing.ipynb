{
 "cells": [
  {
   "cell_type": "code",
   "execution_count": 1,
   "metadata": {},
   "outputs": [
    {
     "name": "stdout",
     "output_type": "stream",
     "text": [
      "[6, 5, 7, 1, 9, 2]\n",
      "[6, 5, 7, 1, 9, 2, 4]\n"
     ]
    }
   ],
   "source": [
    "data = [6, 5, 7, 1, 9, 2]\n",
    "print(data)\n",
    "data.append(4)\n",
    "print(data)"
   ]
  },
  {
   "cell_type": "code",
   "execution_count": 2,
   "metadata": {},
   "outputs": [
    {
     "name": "stdout",
     "output_type": "stream",
     "text": [
      "[6, 5, 7, 1, 9, 2]\n",
      "[4, 6, 5, 7, 1, 9, 2]\n"
     ]
    }
   ],
   "source": [
    "data = [6, 5, 7, 1, 9, 2]\n",
    "print(data)\n",
    "data.insert(0, 4)\n",
    "print(data)"
   ]
  },
  {
   "cell_type": "code",
   "execution_count": 3,
   "metadata": {},
   "outputs": [
    {
     "name": "stdout",
     "output_type": "stream",
     "text": [
      "[6, 5, 7, 1, 9, 2]\n",
      "[6, 4, 7, 1, 9, 2]\n"
     ]
    }
   ],
   "source": [
    "data = [6, 5, 7, 1, 9, 2]\n",
    "print(data)\n",
    "data[1] = 4\n",
    "print(data)"
   ]
  },
  {
   "cell_type": "code",
   "execution_count": 4,
   "metadata": {},
   "outputs": [
    {
     "name": "stdout",
     "output_type": "stream",
     "text": [
      "[6, 5, 7, 1]\n",
      "[6, 5, 7, 1, 9, 2]\n"
     ]
    }
   ],
   "source": [
    "data = [6, 5, 7, 1]\n",
    "print(data) \n",
    "data.extend([9, 2])\n",
    "print(data)"
   ]
  },
  {
   "cell_type": "code",
   "execution_count": null,
   "metadata": {},
   "outputs": [],
   "source": []
  },
  {
   "cell_type": "code",
   "execution_count": null,
   "metadata": {},
   "outputs": [],
   "source": [
    "data1 = [6, 5, 7]\n",
    "data2 = [1, 9, 2]\n",
    "\n",
    "# concatenate\n",
    "data = data1 + data2\n",
    "print(data)"
   ]
  },
  {
   "cell_type": "code",
   "execution_count": null,
   "metadata": {},
   "outputs": [],
   "source": [
    "data = [6, 5]\n",
    "\n",
    "# multiply with a number\n",
    "data_m = data*3\n",
    "print(data_m)"
   ]
  },
  {
   "cell_type": "code",
   "execution_count": null,
   "metadata": {},
   "outputs": [],
   "source": []
  },
  {
   "cell_type": "code",
   "execution_count": null,
   "metadata": {},
   "outputs": [],
   "source": [
    "data = [6, 5, 7, 1, 9, 2]\n",
    "print(data) \n",
    "data.sort()\n",
    "print(data)"
   ]
  },
  {
   "cell_type": "code",
   "execution_count": null,
   "metadata": {},
   "outputs": [],
   "source": [
    "data = [6, 5, 7, 1, 9, 2]\n",
    "print(data) \n",
    "data.sort(reverse = True)\n",
    "print(data)"
   ]
  },
  {
   "cell_type": "code",
   "execution_count": null,
   "metadata": {},
   "outputs": [],
   "source": []
  },
  {
   "cell_type": "code",
   "execution_count": null,
   "metadata": {},
   "outputs": [],
   "source": [
    "data = [6, 5, 7, 1, 9, 2]\n",
    "print(data)\n",
    "data.pop(2)  # by index\n",
    "print(data)"
   ]
  },
  {
   "cell_type": "code",
   "execution_count": null,
   "metadata": {},
   "outputs": [],
   "source": [
    "data = [6, 5, 7, 1, 9, 2]\n",
    "print(data)\n",
    "data.remove(2) # by value\n",
    "print(data)"
   ]
  },
  {
   "cell_type": "code",
   "execution_count": null,
   "metadata": {},
   "outputs": [],
   "source": [
    "data = [6, 5, 2, 1, 9, 2]\n",
    "print(data)\n",
    "data.remove(2) # by value\n",
    "print(data)"
   ]
  },
  {
   "cell_type": "code",
   "execution_count": null,
   "metadata": {},
   "outputs": [],
   "source": []
  },
  {
   "cell_type": "code",
   "execution_count": null,
   "metadata": {},
   "outputs": [],
   "source": [
    "data = [6, 5, 7, 1, 9, 2]\n",
    "print(data)\n",
    "\n",
    "del data[1:3]\n",
    "print(data)"
   ]
  },
  {
   "cell_type": "code",
   "execution_count": null,
   "metadata": {},
   "outputs": [],
   "source": [
    "data = [6, 5, 7, 1, 9, 2]\n",
    "print(data)\n",
    "\n",
    "data.clear()\n",
    "print(data)"
   ]
  },
  {
   "cell_type": "code",
   "execution_count": null,
   "metadata": {},
   "outputs": [],
   "source": []
  },
  {
   "cell_type": "code",
   "execution_count": null,
   "metadata": {},
   "outputs": [],
   "source": [
    "data = [6, 5, 7, 1, 9, 2]\n",
    "print(data)\n",
    "\n",
    "indexOf9 = data.index(9)\n",
    "print(indexOf9)"
   ]
  },
  {
   "cell_type": "code",
   "execution_count": null,
   "metadata": {},
   "outputs": [],
   "source": [
    "data = [6, 5, 7, 1, 9, 2]\n",
    "print(data)\n",
    "\n",
    "data.reverse()\n",
    "print(data)"
   ]
  },
  {
   "cell_type": "code",
   "execution_count": null,
   "metadata": {},
   "outputs": [],
   "source": []
  },
  {
   "cell_type": "code",
   "execution_count": null,
   "metadata": {},
   "outputs": [],
   "source": [
    "data = [6, 5, 7, 1, 9, 2]\n",
    "print(data)\n",
    "\n",
    "numOf7 = data.count(7)\n",
    "print(numOf7)"
   ]
  },
  {
   "cell_type": "code",
   "execution_count": null,
   "metadata": {},
   "outputs": [],
   "source": [
    "data = [6, 5, 7, 1, 9, 2]\n",
    "print(data)\n",
    "\n",
    "aCopy = data.copy()\n",
    "print(aCopy)"
   ]
  },
  {
   "cell_type": "code",
   "execution_count": null,
   "metadata": {},
   "outputs": [],
   "source": []
  },
  {
   "cell_type": "markdown",
   "metadata": {},
   "source": [
    "## built-in functions"
   ]
  },
  {
   "cell_type": "code",
   "execution_count": null,
   "metadata": {},
   "outputs": [],
   "source": [
    "data = [6, 5, 7, 1, 9, 2]\n",
    "print(data)"
   ]
  },
  {
   "cell_type": "code",
   "execution_count": null,
   "metadata": {},
   "outputs": [],
   "source": [
    "# get a number of elements\n",
    "length = len(data)\n",
    "print(length)"
   ]
  },
  {
   "cell_type": "code",
   "execution_count": null,
   "metadata": {},
   "outputs": [],
   "source": [
    "# get the min and max values\n",
    "print(min(data))\n",
    "print(max(data))"
   ]
  },
  {
   "cell_type": "code",
   "execution_count": null,
   "metadata": {},
   "outputs": [],
   "source": []
  },
  {
   "cell_type": "code",
   "execution_count": 5,
   "metadata": {},
   "outputs": [
    {
     "name": "stdout",
     "output_type": "stream",
     "text": [
      "[6, 5, 7, 1, 9, 2]\n",
      "30\n"
     ]
    }
   ],
   "source": [
    "data = [6, 5, 7, 1, 9, 2]\n",
    "print(data)\n",
    "\n",
    "summation = sum(data)\n",
    "print(summation)"
   ]
  },
  {
   "cell_type": "code",
   "execution_count": 6,
   "metadata": {},
   "outputs": [
    {
     "name": "stdout",
     "output_type": "stream",
     "text": [
      "30\n"
     ]
    }
   ],
   "source": [
    "# custom summation - way 1\n",
    "def computeSummation(data):\n",
    "    result = 0\n",
    "    \n",
    "    for value in data:\n",
    "        result = result + value\n",
    "        \n",
    "    return result\n",
    "\n",
    "# test\n",
    "data = [6, 5, 7, 1, 9, 2]\n",
    "summation = computeSummation(data)\n",
    "print(summation)"
   ]
  },
  {
   "cell_type": "code",
   "execution_count": 7,
   "metadata": {},
   "outputs": [
    {
     "name": "stdout",
     "output_type": "stream",
     "text": [
      "30\n"
     ]
    }
   ],
   "source": [
    "# custom summation - way 2\n",
    "def computeSummation(data):\n",
    "    result = 0\n",
    "    \n",
    "    length = len(data)\n",
    "    for index in range(length):\n",
    "        result = result + data[index]\n",
    "        \n",
    "    return result\n",
    "\n",
    "# test\n",
    "data = [6, 5, 7, 1, 9, 2]\n",
    "summation = computeSummation(data)\n",
    "print(summation)"
   ]
  },
  {
   "cell_type": "code",
   "execution_count": null,
   "metadata": {},
   "outputs": [],
   "source": []
  },
  {
   "cell_type": "code",
   "execution_count": null,
   "metadata": {},
   "outputs": [],
   "source": [
    "# sum of even number\n",
    "def sum1(data):\n",
    "    result = 0\n",
    "    \n",
    "    for value in data:\n",
    "        if value%2 == 0:\n",
    "            result = result + value\n",
    "        \n",
    "    return result\n",
    "\n",
    "# test\n",
    "data = [6, 5, 7, 1, 9, 2]\n",
    "summation = sum1(data)\n",
    "print(summation)"
   ]
  },
  {
   "cell_type": "code",
   "execution_count": null,
   "metadata": {},
   "outputs": [],
   "source": [
    "# sum of numbers with even indices\n",
    "def sum2(data):\n",
    "    result = 0\n",
    "    \n",
    "    length = len(data)\n",
    "    for index in range(length):\n",
    "        if index%2 == 0:\n",
    "            result = result + data[index]\n",
    "            \n",
    "    return result\n",
    "\n",
    "# test\n",
    "data = [6, 5, 7, 1, 9, 2]\n",
    "summation = sum2(data)\n",
    "print(summation)"
   ]
  },
  {
   "cell_type": "code",
   "execution_count": null,
   "metadata": {},
   "outputs": [],
   "source": []
  },
  {
   "cell_type": "code",
   "execution_count": null,
   "metadata": {},
   "outputs": [],
   "source": [
    "# sorted\n",
    "data = [6, 5, 7, 1, 9, 2]\n",
    "print(data)\n",
    "\n",
    "sorted_data = sorted(data)\n",
    "print(sorted_data)"
   ]
  },
  {
   "cell_type": "code",
   "execution_count": null,
   "metadata": {},
   "outputs": [],
   "source": [
    "# sorted\n",
    "data = [6, 5, 7, 1, 9, 2]\n",
    "print(data)\n",
    "\n",
    "sorted_data = sorted(data, reverse=True)\n",
    "print(sorted_data)"
   ]
  },
  {
   "cell_type": "code",
   "execution_count": null,
   "metadata": {},
   "outputs": [],
   "source": []
  },
  {
   "cell_type": "markdown",
   "metadata": {},
   "source": [
    "## List comprehension"
   ]
  },
  {
   "cell_type": "code",
   "execution_count": null,
   "metadata": {},
   "outputs": [],
   "source": [
    "# square function\n",
    "def square(data):\n",
    "    result = []\n",
    "    \n",
    "    for value in data:\n",
    "        result.append(value*value)\n",
    "    \n",
    "    return result\n",
    "\n",
    "# test\n",
    "data = [6, 5, 7, 1, 9, 2]\n",
    "print(data)\n",
    "data_s = square(data)\n",
    "print(data_s)"
   ]
  },
  {
   "cell_type": "code",
   "execution_count": null,
   "metadata": {},
   "outputs": [],
   "source": [
    "# using list comprehension\n",
    "def square(data):\n",
    "    result = [value*value for value in data]    \n",
    "    \n",
    "    return result\n",
    "\n",
    "# test\n",
    "data = [6, 5, 7, 1, 9, 2]\n",
    "print(data)\n",
    "data_s = square(data)\n",
    "print(data_s)"
   ]
  },
  {
   "cell_type": "code",
   "execution_count": null,
   "metadata": {},
   "outputs": [],
   "source": []
  },
  {
   "cell_type": "code",
   "execution_count": null,
   "metadata": {},
   "outputs": [],
   "source": [
    "import math\n",
    "\n",
    "# sigmoid function\n",
    "def sigmoid(x):\n",
    "    result = 1 / (1 + math.exp(-x))\n",
    "    return result\n",
    "\n",
    "def sigmoidForList(data):\n",
    "    result = [sigmoid(x) for x in data]\n",
    "    return result\n",
    "\n",
    "# test\n",
    "data = [1, 5, -4, 3, -2]\n",
    "print(data)\n",
    "data_a = sigmoidForList(data)\n",
    "print(data_a)"
   ]
  },
  {
   "cell_type": "code",
   "execution_count": null,
   "metadata": {},
   "outputs": [],
   "source": []
  },
  {
   "cell_type": "code",
   "execution_count": null,
   "metadata": {},
   "outputs": [],
   "source": [
    "def relu(x):\n",
    "    result = 0    \n",
    "    if x > 0:\n",
    "        result = x\n",
    "        \n",
    "    return result\n",
    "\n",
    "def reluForList(data):\n",
    "    result = [relu(x) for x in data]\n",
    "    return result\n",
    "\n",
    "# test\n",
    "data = [1, 5, -4, 3, -2]\n",
    "print(data)\n",
    "data_a = reluForList(data)\n",
    "print(data_a)"
   ]
  },
  {
   "cell_type": "code",
   "execution_count": null,
   "metadata": {},
   "outputs": [],
   "source": [
    "# relu function\n",
    "def relu(data):\n",
    "    result = [x if x>0 else 0 for x in data]\n",
    "    return result\n",
    "\n",
    "# test\n",
    "data = [1, 5, -4, 3, -2]\n",
    "print(data)\n",
    "data_a = relu(data)\n",
    "print(data_a)"
   ]
  },
  {
   "cell_type": "code",
   "execution_count": null,
   "metadata": {},
   "outputs": [],
   "source": []
  },
  {
   "cell_type": "code",
   "execution_count": 8,
   "metadata": {},
   "outputs": [
    {
     "name": "stdout",
     "output_type": "stream",
     "text": [
      "[1, 5, -4, 3, -2]\n",
      "[1, 5, 0, 3, 0]\n"
     ]
    }
   ],
   "source": [
    "# quiz 1\n",
    "data = [1, 5, -4, 3, -2]\n",
    "print(data)\n",
    "\n",
    "data_a = [x if x>0 else 0 for x in data]\n",
    "print(data_a)"
   ]
  },
  {
   "cell_type": "code",
   "execution_count": 9,
   "metadata": {},
   "outputs": [
    {
     "ename": "SyntaxError",
     "evalue": "expected 'else' after 'if' expression (187768202.py, line 5)",
     "output_type": "error",
     "traceback": [
      "\u001b[1;36m  Cell \u001b[1;32mIn[9], line 5\u001b[1;36m\u001b[0m\n\u001b[1;33m    data_a = [x if x>0 for x in data]\u001b[0m\n\u001b[1;37m              ^\u001b[0m\n\u001b[1;31mSyntaxError\u001b[0m\u001b[1;31m:\u001b[0m expected 'else' after 'if' expression\n"
     ]
    }
   ],
   "source": [
    "# quiz 2\n",
    "data = [1, 5, -4, 3, -2]\n",
    "print(data)\n",
    "\n",
    "data_a = [x if x>0 for x in data]\n",
    "print(data_a)"
   ]
  },
  {
   "cell_type": "code",
   "execution_count": 10,
   "metadata": {},
   "outputs": [
    {
     "name": "stdout",
     "output_type": "stream",
     "text": [
      "[1, 5, -4, 3, -2]\n",
      "[1, 5, 3]\n"
     ]
    }
   ],
   "source": [
    "# quiz 3\n",
    "data = [1, 5, -4, 3, -2]\n",
    "print(data)\n",
    "\n",
    "data_a = [x for x in data if x>0]\n",
    "print(data_a)"
   ]
  },
  {
   "cell_type": "code",
   "execution_count": 11,
   "metadata": {},
   "outputs": [
    {
     "ename": "SyntaxError",
     "evalue": "invalid syntax (3995732807.py, line 5)",
     "output_type": "error",
     "traceback": [
      "\u001b[1;36m  Cell \u001b[1;32mIn[11], line 5\u001b[1;36m\u001b[0m\n\u001b[1;33m    data_a = [x for x in data if x>0 else 0]\u001b[0m\n\u001b[1;37m                                     ^\u001b[0m\n\u001b[1;31mSyntaxError\u001b[0m\u001b[1;31m:\u001b[0m invalid syntax\n"
     ]
    }
   ],
   "source": [
    "# quiz 4\n",
    "data = [1, 5, -4, 3, -2]\n",
    "print(data)\n",
    "\n",
    "data_a = [x for x in data if x>0 else 0]\n",
    "print(data_a)"
   ]
  },
  {
   "cell_type": "markdown",
   "metadata": {},
   "source": [
    "## Mutable and Immutable"
   ]
  },
  {
   "cell_type": "code",
   "execution_count": 12,
   "metadata": {},
   "outputs": [
    {
     "name": "stdout",
     "output_type": "stream",
     "text": [
      "[6, 5, 7, 1, 9, 2]\n",
      "[36, 25, 49, 1, 81, 4]\n"
     ]
    }
   ],
   "source": [
    "# immutable\n",
    "def square(data):\n",
    "    result = []    \n",
    "    for value in data:\n",
    "        result.append(value*value) # data is not changed, only result is changed\n",
    "    \n",
    "    return result\n",
    "\n",
    "# test\n",
    "data = [6, 5, 7, 1, 9, 2]\n",
    "print(data)\n",
    "\n",
    "data_s = square(data)\n",
    "print(data_s)"
   ]
  },
  {
   "cell_type": "code",
   "execution_count": 14,
   "metadata": {},
   "outputs": [
    {
     "name": "stdout",
     "output_type": "stream",
     "text": [
      "[6, 5, 7, 1, 9, 2]\n",
      "[36, 25, 49, 1, 81, 4]\n"
     ]
    }
   ],
   "source": [
    "# mutable\n",
    "def square(data):\n",
    "    length = len(data)\n",
    "    \n",
    "    for i in range(length):\n",
    "        value = data[i]\n",
    "        data[i] = value*value  # data is changed\n",
    "\n",
    "# test\n",
    "data = [6, 5, 7, 1, 9, 2]\n",
    "print(data)\n",
    "\n",
    "square(data)\n",
    "print(data)"
   ]
  },
  {
   "cell_type": "markdown",
   "metadata": {},
   "source": [
    "## zip()"
   ]
  },
  {
   "cell_type": "code",
   "execution_count": 15,
   "metadata": {},
   "outputs": [
    {
     "name": "stdout",
     "output_type": "stream",
     "text": [
      "1 5\n",
      "2 6\n",
      "3 7\n"
     ]
    }
   ],
   "source": [
    "l1 = [1, 2, 3]\n",
    "l2 = [5, 6, 7]\n",
    "\n",
    "# print in pairs\n",
    "length = len(l1)\n",
    "for i in range(length):\n",
    "    print(l1[i], l2[i])"
   ]
  },
  {
   "cell_type": "code",
   "execution_count": 16,
   "metadata": {},
   "outputs": [
    {
     "name": "stdout",
     "output_type": "stream",
     "text": [
      "1 5\n",
      "2 6\n",
      "3 7\n"
     ]
    }
   ],
   "source": [
    "l1 = [1, 2, 3]\n",
    "l2 = [5, 6, 7]\n",
    "\n",
    "# print in pairs\n",
    "for v1, v2 in zip(l1, l2):\n",
    "    print(v1, v2)"
   ]
  },
  {
   "cell_type": "code",
   "execution_count": 17,
   "metadata": {},
   "outputs": [
    {
     "name": "stdout",
     "output_type": "stream",
     "text": [
      "6\n",
      "1\n",
      "7\n"
     ]
    }
   ],
   "source": [
    "# for and list\n",
    "data = [6, 1, 7]\n",
    "for value in data:\n",
    "    print(value)"
   ]
  },
  {
   "cell_type": "code",
   "execution_count": 18,
   "metadata": {},
   "outputs": [
    {
     "name": "stdout",
     "output_type": "stream",
     "text": [
      "7\n",
      "1\n",
      "6\n"
     ]
    }
   ],
   "source": [
    "# reversed\n",
    "data = [6, 1, 7]\n",
    "for value in reversed(data):\n",
    "    print(value)"
   ]
  },
  {
   "cell_type": "code",
   "execution_count": 19,
   "metadata": {},
   "outputs": [
    {
     "name": "stdout",
     "output_type": "stream",
     "text": [
      "0 6\n",
      "1 1\n",
      "2 7\n"
     ]
    }
   ],
   "source": [
    "# get index and value\n",
    "data = [6, 1, 7]\n",
    "\n",
    "length = len(data)\n",
    "for index in range(length):\n",
    "    print(index, data[index])"
   ]
  },
  {
   "cell_type": "code",
   "execution_count": 20,
   "metadata": {},
   "outputs": [
    {
     "name": "stdout",
     "output_type": "stream",
     "text": [
      "0 6\n",
      "1 1\n",
      "2 7\n"
     ]
    }
   ],
   "source": [
    "# enumerate\n",
    "data = [6, 1, 7]\n",
    "for index, value in enumerate(data):\n",
    "    print(index, value)"
   ]
  },
  {
   "cell_type": "markdown",
   "metadata": {},
   "source": [
    "## Converting to List"
   ]
  },
  {
   "cell_type": "code",
   "execution_count": 21,
   "metadata": {},
   "outputs": [
    {
     "name": "stdout",
     "output_type": "stream",
     "text": [
      "AI\n",
      "['A', 'I']\n"
     ]
    }
   ],
   "source": [
    "name = 'AI'\n",
    "data = list(name)\n",
    "\n",
    "print(name)\n",
    "print(data)"
   ]
  },
  {
   "cell_type": "code",
   "execution_count": 22,
   "metadata": {},
   "outputs": [
    {
     "name": "stdout",
     "output_type": "stream",
     "text": [
      "[4, 5, 6, 7, 8, 9]\n"
     ]
    }
   ],
   "source": [
    "data = list(range(4, 10))\n",
    "print(data)"
   ]
  },
  {
   "cell_type": "markdown",
   "metadata": {},
   "source": [
    "## Integral"
   ]
  },
  {
   "cell_type": "code",
   "execution_count": 23,
   "metadata": {},
   "outputs": [],
   "source": [
    "import random\n",
    "\n",
    "def generateList(a, b):\n",
    "    result = []\n",
    "    for _ in range(10):\n",
    "        num = random.randint(a, b)\n",
    "        result.append(num)\n",
    "\n",
    "    return result"
   ]
  },
  {
   "cell_type": "code",
   "execution_count": 24,
   "metadata": {},
   "outputs": [
    {
     "name": "stdout",
     "output_type": "stream",
     "text": [
      "[1, 1, 1, 1, 1, 1, 1, 1, 1, 1]\n"
     ]
    }
   ],
   "source": [
    "data = generateList(1, 1)\n",
    "print(data)"
   ]
  },
  {
   "cell_type": "code",
   "execution_count": 25,
   "metadata": {},
   "outputs": [],
   "source": [
    "def accumulate(data):\n",
    "    result = []\n",
    "    result.append(data[0])\n",
    "    \n",
    "    length = len(data)\n",
    "    for i in range(1, length):\n",
    "        result.append(data[i] + result[i-1])\n",
    "        \n",
    "    return result"
   ]
  },
  {
   "cell_type": "code",
   "execution_count": 27,
   "metadata": {},
   "outputs": [
    {
     "name": "stdout",
     "output_type": "stream",
     "text": [
      "[1, 2, 3, 4, 5, 6, 7, 8, 9, 10]\n"
     ]
    }
   ],
   "source": [
    "result = accumulate(data)\n",
    "print(result)"
   ]
  },
  {
   "cell_type": "code",
   "execution_count": 29,
   "metadata": {},
   "outputs": [
    {
     "name": "stdout",
     "output_type": "stream",
     "text": [
      "7\n"
     ]
    }
   ],
   "source": [
    "k = 3\n",
    "f6 = result[6+k] - result[6-k-1]\n",
    "print(f6)"
   ]
  },
  {
   "cell_type": "markdown",
   "metadata": {},
   "source": [
    "## Quiz"
   ]
  },
  {
   "cell_type": "code",
   "execution_count": 30,
   "metadata": {},
   "outputs": [
    {
     "name": "stdout",
     "output_type": "stream",
     "text": [
      "[1, 5, 3]\n"
     ]
    }
   ],
   "source": [
    "data = [1, 2, 3]\n",
    "data[1] = 5\n",
    "print(data)"
   ]
  },
  {
   "cell_type": "code",
   "execution_count": 31,
   "metadata": {},
   "outputs": [
    {
     "ename": "IndexError",
     "evalue": "list assignment index out of range",
     "output_type": "error",
     "traceback": [
      "\u001b[1;31m---------------------------------------------------------------------------\u001b[0m",
      "\u001b[1;31mIndexError\u001b[0m                                Traceback (most recent call last)",
      "Cell \u001b[1;32mIn[31], line 2\u001b[0m\n\u001b[0;32m      1\u001b[0m data \u001b[38;5;241m=\u001b[39m []\n\u001b[1;32m----> 2\u001b[0m \u001b[43mdata\u001b[49m\u001b[43m[\u001b[49m\u001b[38;5;241;43m1\u001b[39;49m\u001b[43m]\u001b[49m \u001b[38;5;241m=\u001b[39m \u001b[38;5;241m5\u001b[39m\n\u001b[0;32m      3\u001b[0m \u001b[38;5;28mprint\u001b[39m(data)\n",
      "\u001b[1;31mIndexError\u001b[0m: list assignment index out of range"
     ]
    }
   ],
   "source": [
    "data = []\n",
    "data[1] = 5\n",
    "print(data)"
   ]
  },
  {
   "cell_type": "code",
   "execution_count": null,
   "metadata": {},
   "outputs": [],
   "source": []
  },
  {
   "cell_type": "code",
   "execution_count": 32,
   "metadata": {},
   "outputs": [
    {
     "name": "stdout",
     "output_type": "stream",
     "text": [
      "[1, 1, 1, 1, 1, 1, 1, 1, 1, 1]\n"
     ]
    }
   ],
   "source": [
    "import random\n",
    "\n",
    "data = []\n",
    "\n",
    "for _ in range(10):\n",
    "    data.append(random.randint(1, 1))\n",
    "    \n",
    "print(data)"
   ]
  },
  {
   "cell_type": "code",
   "execution_count": 33,
   "metadata": {},
   "outputs": [],
   "source": [
    "def accumulate(fdata):\n",
    "    Fdata = []    \n",
    "    # for the first position\n",
    "    Fdata.append(fdata[0])    \n",
    "    #Fdata[x] = Fdata[x-1] + fdata[x]\n",
    "    length = len(fdata)\n",
    "    for x in range(1, length):\n",
    "        Fdata.append(Fdata[x-1] + fdata[x])\n",
    "        \n",
    "    return Fdata"
   ]
  },
  {
   "cell_type": "code",
   "execution_count": 34,
   "metadata": {},
   "outputs": [
    {
     "name": "stdout",
     "output_type": "stream",
     "text": [
      "[1, 2, 3, 4, 5, 6, 7, 8, 9, 10]\n",
      "5\n"
     ]
    }
   ],
   "source": [
    "Fdata = accumulate(data)\n",
    "print(Fdata)\n",
    "k = 2\n",
    "x = 5\n",
    "s = Fdata[x+k] - Fdata[x-k-1]\n",
    "print(s)"
   ]
  }
 ],
 "metadata": {
  "kernelspec": {
   "display_name": "Python 3",
   "language": "python",
   "name": "python3"
  },
  "language_info": {
   "codemirror_mode": {
    "name": "ipython",
    "version": 3
   },
   "file_extension": ".py",
   "mimetype": "text/x-python",
   "name": "python",
   "nbconvert_exporter": "python",
   "pygments_lexer": "ipython3",
   "version": "3.12.6"
  }
 },
 "nbformat": 4,
 "nbformat_minor": 2
}
