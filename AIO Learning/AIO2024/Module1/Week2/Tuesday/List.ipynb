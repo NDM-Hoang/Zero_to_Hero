{
 "cells": [
  {
   "cell_type": "markdown",
   "metadata": {
    "id": "lwGUECaFlcN0"
   },
   "source": [
    "#**Create List**"
   ]
  },
  {
   "cell_type": "code",
   "execution_count": 1,
   "metadata": {
    "colab": {
     "base_uri": "https://localhost:8080/"
    },
    "executionInfo": {
     "elapsed": 331,
     "status": "ok",
     "timestamp": 1717729474661,
     "user": {
      "displayName": "Thái Nguyễn Quốc",
      "userId": "04072932238722635186"
     },
     "user_tz": -420
    },
    "id": "DJYvdUBNbgFi",
    "outputId": "5994cc38-d091-42d8-8f7c-c2669ea8cbd2"
   },
   "outputs": [
    {
     "name": "stdout",
     "output_type": "stream",
     "text": [
      "[4, 5, 6, 7, 8, 9]\n",
      "<class 'list'>\n",
      "6\n"
     ]
    }
   ],
   "source": [
    "# create a list\n",
    "data = [4, 5, 6, 7, 8, 9]\n",
    "print(data)\n",
    "print(type(data))\n",
    "print(len(data))"
   ]
  },
  {
   "cell_type": "code",
   "execution_count": 2,
   "metadata": {
    "executionInfo": {
     "elapsed": 365,
     "status": "ok",
     "timestamp": 1717728393848,
     "user": {
      "displayName": "Thái Nguyễn Quốc",
      "userId": "04072932238722635186"
     },
     "user_tz": -420
    },
    "id": "BpDDZ_ldkA5Z"
   },
   "outputs": [],
   "source": [
    "# danh sách trống\n",
    "emty_list = []\n",
    "\n",
    "# danh sách số tự nhiên nhỏ hơn 10\n",
    "my_list = [0, 1, 2, 3, 4, 5, 6, 7, 8, 9]\n",
    "\n",
    "# danh sách kết hợp nhiều kiểu dữ liệu\n",
    "mixed_list = [True, 5, 'some string', 123.45]\n",
    "n_list = [\"Happy\", [2,0,1,5]]\n",
    "\n",
    "# danh sách các loại hoa quả\n",
    "shopping_list = ['táo', 'chuối', 'cherries', 'dâu', 'mận']"
   ]
  },
  {
   "cell_type": "markdown",
   "metadata": {
    "id": "S_eFkxHTlg-8"
   },
   "source": [
    "#**Index**"
   ]
  },
  {
   "cell_type": "code",
   "execution_count": 3,
   "metadata": {
    "colab": {
     "base_uri": "https://localhost:8080/"
    },
    "executionInfo": {
     "elapsed": 2,
     "status": "ok",
     "timestamp": 1717728957750,
     "user": {
      "displayName": "Thái Nguyễn Quốc",
      "userId": "04072932238722635186"
     },
     "user_tz": -420
    },
    "id": "Fvw0wCfhlyuV",
    "outputId": "9dea5aa7-87d6-424e-8dd9-1ca5a815dc12"
   },
   "outputs": [
    {
     "name": "stdout",
     "output_type": "stream",
     "text": [
      "4\n",
      "7\n"
     ]
    }
   ],
   "source": [
    "data = [4, 5, 6, 7, 8, 9]\n",
    "print(data[0])\n",
    "print(data[3])"
   ]
  },
  {
   "cell_type": "code",
   "execution_count": 4,
   "metadata": {
    "colab": {
     "base_uri": "https://localhost:8080/"
    },
    "executionInfo": {
     "elapsed": 4,
     "status": "ok",
     "timestamp": 1717729279100,
     "user": {
      "displayName": "Thái Nguyễn Quốc",
      "userId": "04072932238722635186"
     },
     "user_tz": -420
    },
    "id": "h4CmgVthn9t7",
    "outputId": "4708a94d-1885-4944-dec5-00d41f22c454"
   },
   "outputs": [
    {
     "name": "stdout",
     "output_type": "stream",
     "text": [
      "9\n",
      "7\n"
     ]
    }
   ],
   "source": [
    "data = [4, 5, 6, 7, 8, 9]\n",
    "print(data[-1])\n",
    "print(data[-3])"
   ]
  },
  {
   "cell_type": "markdown",
   "metadata": {
    "id": "vB3aPNO8lkqG"
   },
   "source": [
    "#**Slicing**"
   ]
  },
  {
   "cell_type": "code",
   "execution_count": 5,
   "metadata": {
    "colab": {
     "base_uri": "https://localhost:8080/"
    },
    "executionInfo": {
     "elapsed": 330,
     "status": "ok",
     "timestamp": 1717729758357,
     "user": {
      "displayName": "Thái Nguyễn Quốc",
      "userId": "04072932238722635186"
     },
     "user_tz": -420
    },
    "id": "Fvsgy8_8q4TM",
    "outputId": "041fa216-50e7-44c5-d2ed-ff86efbae143"
   },
   "outputs": [
    {
     "name": "stdout",
     "output_type": "stream",
     "text": [
      "[4, 5, 6]\n",
      "[6, 7]\n",
      "[7, 8, 9]\n"
     ]
    }
   ],
   "source": [
    "data = [4, 5, 6, 7, 8, 9]\n",
    "print(data[:3])\n",
    "print(data[2:4])\n",
    "print(data[3:])"
   ]
  },
  {
   "cell_type": "code",
   "execution_count": 13,
   "metadata": {
    "colab": {
     "base_uri": "https://localhost:8080/"
    },
    "executionInfo": {
     "elapsed": 4,
     "status": "ok",
     "timestamp": 1717729993461,
     "user": {
      "displayName": "Thái Nguyễn Quốc",
      "userId": "04072932238722635186"
     },
     "user_tz": -420
    },
    "id": "BQalEs9zr3t9",
    "outputId": "413d23d3-c3ea-4fa4-d21e-c0df6db4cd63"
   },
   "outputs": [
    {
     "name": "stdout",
     "output_type": "stream",
     "text": [
      "[4, 6, 8]\n"
     ]
    }
   ],
   "source": [
    "data = [4, 5, 6, 7, 8, 9]\n",
    "print(data[::2])"
   ]
  },
  {
   "cell_type": "code",
   "execution_count": 8,
   "metadata": {
    "colab": {
     "base_uri": "https://localhost:8080/"
    },
    "executionInfo": {
     "elapsed": 3,
     "status": "ok",
     "timestamp": 1717730097203,
     "user": {
      "displayName": "Thái Nguyễn Quốc",
      "userId": "04072932238722635186"
     },
     "user_tz": -420
    },
    "id": "hzDa2-rprFlS",
    "outputId": "4c2787c4-b8e6-49c1-cc38-3f7187a34efe"
   },
   "outputs": [
    {
     "name": "stdout",
     "output_type": "stream",
     "text": [
      "[4, 5, 6]\n",
      "[]\n",
      "[8, 7]\n",
      "[5, 6]\n"
     ]
    }
   ],
   "source": [
    "data = [4, 5, 6, 7, 8, 9]\n",
    "print(data[:-3])\n",
    "print(data[-2:-4])\n",
    "print(data[-2:-4:-1]) # phải có step -1 mới print ngược được\n",
    "print(data[1:-3])"
   ]
  },
  {
   "cell_type": "markdown",
   "metadata": {
    "id": "FpTGN0kflnZV"
   },
   "source": [
    "#**Add an element**"
   ]
  },
  {
   "cell_type": "code",
   "execution_count": 9,
   "metadata": {
    "colab": {
     "base_uri": "https://localhost:8080/"
    },
    "executionInfo": {
     "elapsed": 346,
     "status": "ok",
     "timestamp": 1717744581680,
     "user": {
      "displayName": "Thái Nguyễn Quốc",
      "userId": "04072932238722635186"
     },
     "user_tz": -420
    },
    "id": "LdMINLunswLC",
    "outputId": "b9805190-75de-46dc-b5d9-c2451234fafd"
   },
   "outputs": [
    {
     "name": "stdout",
     "output_type": "stream",
     "text": [
      "[6, 5, 7, 1, 9, 2]\n",
      "[6, 5, 7, 1, 9, 2, 4]\n"
     ]
    }
   ],
   "source": [
    "data = [6, 5, 7, 1, 9, 2]\n",
    "print(data)\n",
    "data.append(4)\n",
    "print(data)"
   ]
  },
  {
   "cell_type": "code",
   "execution_count": 10,
   "metadata": {
    "colab": {
     "base_uri": "https://localhost:8080/"
    },
    "executionInfo": {
     "elapsed": 403,
     "status": "ok",
     "timestamp": 1717744809133,
     "user": {
      "displayName": "Thái Nguyễn Quốc",
      "userId": "04072932238722635186"
     },
     "user_tz": -420
    },
    "id": "bNBnNd25kZaU",
    "outputId": "5ec58bbe-33ca-4112-e835-7e391532fd96"
   },
   "outputs": [
    {
     "name": "stdout",
     "output_type": "stream",
     "text": [
      "[6, 5, 7, 1, 9, 2]\n",
      "[4, 6, 5, 7, 1, 9, 2]\n"
     ]
    }
   ],
   "source": [
    "data = [6, 5, 7, 1, 9, 2]\n",
    "print(data)\n",
    "data.insert(0, 4)\n",
    "print(data)"
   ]
  },
  {
   "cell_type": "code",
   "execution_count": 14,
   "metadata": {
    "colab": {
     "base_uri": "https://localhost:8080/"
    },
    "executionInfo": {
     "elapsed": 352,
     "status": "ok",
     "timestamp": 1717745007733,
     "user": {
      "displayName": "Thái Nguyễn Quốc",
      "userId": "04072932238722635186"
     },
     "user_tz": -420
    },
    "id": "kEsaKkQJlF5p",
    "outputId": "99cb2953-d6c0-40ac-a7bd-0319bc1fd382"
   },
   "outputs": [
    {
     "name": "stdout",
     "output_type": "stream",
     "text": [
      "[6, 5, 7, 1]\n",
      "[6, 5, 7, 1, 9, 2]\n",
      "[6, 5, 7, 1, 9, 2, [9, 2]]\n"
     ]
    }
   ],
   "source": [
    "data = [6, 5, 7, 1]\n",
    "print(data)\n",
    "data.extend([9, 2])\n",
    "print(data)\n",
    "data.extend([[9, 2]])\n",
    "print(data)"
   ]
  },
  {
   "cell_type": "markdown",
   "metadata": {
    "id": "2JWed4-qlro4"
   },
   "source": [
    "#**Update**"
   ]
  },
  {
   "cell_type": "code",
   "execution_count": 22,
   "metadata": {
    "colab": {
     "base_uri": "https://localhost:8080/"
    },
    "executionInfo": {
     "elapsed": 376,
     "status": "ok",
     "timestamp": 1717746499641,
     "user": {
      "displayName": "Thái Nguyễn Quốc",
      "userId": "04072932238722635186"
     },
     "user_tz": -420
    },
    "id": "hANgotk_qzEZ",
    "outputId": "4f560742-ec0d-4ede-b125-4e60860969c2"
   },
   "outputs": [
    {
     "name": "stdout",
     "output_type": "stream",
     "text": [
      "[6, 4, 7, 1, 9, 2]\n",
      "[6, [3, 5], 7, 1, 9, 2]\n",
      "[6, 4, 2, 6, 7, 1, 9, 2]\n"
     ]
    }
   ],
   "source": [
    "data = [6, 5, 7, 1, 9, 2]\n",
    "data[1] = 4\n",
    "print(data)\n",
    "data[1] = [3, 5]\n",
    "print(data)\n",
    "data[1:2] = [4, 2, 6]\n",
    "print(data)"
   ]
  },
  {
   "cell_type": "markdown",
   "metadata": {
    "id": "57a1w-iEluso"
   },
   "source": [
    "#**Delete**"
   ]
  },
  {
   "cell_type": "code",
   "execution_count": 21,
   "metadata": {
    "colab": {
     "base_uri": "https://localhost:8080/"
    },
    "executionInfo": {
     "elapsed": 394,
     "status": "ok",
     "timestamp": 1717746775708,
     "user": {
      "displayName": "Thái Nguyễn Quốc",
      "userId": "04072932238722635186"
     },
     "user_tz": -420
    },
    "id": "QJTLhFjKq5J0",
    "outputId": "c40fdfda-7513-4798-8a62-5b3979d64f07"
   },
   "outputs": [
    {
     "name": "stdout",
     "output_type": "stream",
     "text": [
      "[6, 5, 7, 1, 9, 2]\n",
      "[6, 5, 1, 9, 2]\n"
     ]
    }
   ],
   "source": [
    "data = [6, 5, 7, 1, 9, 2]\n",
    "print(data)\n",
    "data.pop(2)\n",
    "print(data)"
   ]
  },
  {
   "cell_type": "code",
   "execution_count": 23,
   "metadata": {
    "colab": {
     "base_uri": "https://localhost:8080/"
    },
    "executionInfo": {
     "elapsed": 403,
     "status": "ok",
     "timestamp": 1717746791368,
     "user": {
      "displayName": "Thái Nguyễn Quốc",
      "userId": "04072932238722635186"
     },
     "user_tz": -420
    },
    "id": "QL2bnwefr87Z",
    "outputId": "3236b60d-b3df-469e-9634-5fc18b017ae3"
   },
   "outputs": [
    {
     "name": "stdout",
     "output_type": "stream",
     "text": [
      "[6, 5, 7, 1, 9, 2]\n",
      "[6, 7, 1, 9, 2]\n"
     ]
    }
   ],
   "source": [
    "data = [6, 5, 7, 1, 9, 2]\n",
    "print(data)\n",
    "data.remove(5)\n",
    "print(data)"
   ]
  },
  {
   "cell_type": "code",
   "execution_count": 24,
   "metadata": {
    "colab": {
     "base_uri": "https://localhost:8080/"
    },
    "executionInfo": {
     "elapsed": 469,
     "status": "ok",
     "timestamp": 1717747129401,
     "user": {
      "displayName": "Thái Nguyễn Quốc",
      "userId": "04072932238722635186"
     },
     "user_tz": -420
    },
    "id": "hmo_JohzsAA8",
    "outputId": "8a4c4388-897d-49fe-aa19-b9cd4aad1922"
   },
   "outputs": [
    {
     "name": "stdout",
     "output_type": "stream",
     "text": [
      "[6, 5, 7, 1, 9, 2]\n",
      "[6, 1, 9, 2]\n"
     ]
    }
   ],
   "source": [
    "data = [6, 5, 7, 1, 9, 2]\n",
    "print(data)\n",
    "del data[1:3]\n",
    "print(data)"
   ]
  },
  {
   "cell_type": "code",
   "execution_count": 25,
   "metadata": {
    "colab": {
     "base_uri": "https://localhost:8080/"
    },
    "executionInfo": {
     "elapsed": 334,
     "status": "ok",
     "timestamp": 1717747274596,
     "user": {
      "displayName": "Thái Nguyễn Quốc",
      "userId": "04072932238722635186"
     },
     "user_tz": -420
    },
    "id": "BHvXtJdEsGTX",
    "outputId": "23fa1b4e-2d97-434c-b46f-deec3fd9c7ef"
   },
   "outputs": [
    {
     "name": "stdout",
     "output_type": "stream",
     "text": [
      "[6, 5, 7, 1, 9, 2]\n",
      "[]\n"
     ]
    }
   ],
   "source": [
    "data = [6, 5, 7, 1, 9, 2]\n",
    "print(data)\n",
    "data.clear()\n",
    "print(data)"
   ]
  },
  {
   "cell_type": "code",
   "execution_count": 26,
   "metadata": {
    "colab": {
     "base_uri": "https://localhost:8080/"
    },
    "executionInfo": {
     "elapsed": 437,
     "status": "ok",
     "timestamp": 1717748002247,
     "user": {
      "displayName": "Thái Nguyễn Quốc",
      "userId": "04072932238722635186"
     },
     "user_tz": -420
    },
    "id": "JJABREFZt1fM",
    "outputId": "b88deefa-0163-44a3-c55f-8bb92e0e52f4"
   },
   "outputs": [
    {
     "name": "stdout",
     "output_type": "stream",
     "text": [
      "4\n"
     ]
    }
   ],
   "source": [
    "data = [6, 5, 7, 1, 9, 2]\n",
    "print(data.index(9))"
   ]
  },
  {
   "cell_type": "markdown",
   "metadata": {
    "id": "jgGOI7J2l0TO"
   },
   "source": [
    "#**Reverse**"
   ]
  },
  {
   "cell_type": "code",
   "execution_count": 27,
   "metadata": {
    "colab": {
     "base_uri": "https://localhost:8080/"
    },
    "executionInfo": {
     "elapsed": 2,
     "status": "ok",
     "timestamp": 1717748045831,
     "user": {
      "displayName": "Thái Nguyễn Quốc",
      "userId": "04072932238722635186"
     },
     "user_tz": -420
    },
    "id": "tkV1dn_own3s",
    "outputId": "f737c81a-51d7-4173-81d9-4fb59ce5422c"
   },
   "outputs": [
    {
     "name": "stdout",
     "output_type": "stream",
     "text": [
      "[6, 5, 7, 1, 9, 2]\n",
      "[2, 9, 1, 7, 5, 6]\n"
     ]
    }
   ],
   "source": [
    "data = [6, 5, 7, 1, 9, 2]\n",
    "print(data)\n",
    "data.reverse()\n",
    "print(data)"
   ]
  },
  {
   "cell_type": "markdown",
   "metadata": {
    "id": "k3rYOV3wl3oD"
   },
   "source": [
    "#**Count**"
   ]
  },
  {
   "cell_type": "code",
   "execution_count": 28,
   "metadata": {
    "colab": {
     "base_uri": "https://localhost:8080/"
    },
    "executionInfo": {
     "elapsed": 545,
     "status": "ok",
     "timestamp": 1717748342487,
     "user": {
      "displayName": "Thái Nguyễn Quốc",
      "userId": "04072932238722635186"
     },
     "user_tz": -420
    },
    "id": "o95d0Zgpwx2L",
    "outputId": "8eb67d2c-a9e3-4d19-a379-90ef5bd50fcc"
   },
   "outputs": [
    {
     "name": "stdout",
     "output_type": "stream",
     "text": [
      "1\n"
     ]
    }
   ],
   "source": [
    "data = [6, 5, 7, 1, 9, 2]\n",
    "print(data.count(7))"
   ]
  },
  {
   "cell_type": "markdown",
   "metadata": {
    "id": "rMasXIBEl5WV"
   },
   "source": [
    "#**Copy**"
   ]
  },
  {
   "cell_type": "code",
   "execution_count": 29,
   "metadata": {
    "colab": {
     "base_uri": "https://localhost:8080/"
    },
    "executionInfo": {
     "elapsed": 4,
     "status": "ok",
     "timestamp": 1717748395604,
     "user": {
      "displayName": "Thái Nguyễn Quốc",
      "userId": "04072932238722635186"
     },
     "user_tz": -420
    },
    "id": "9TccyV2Rx7DM",
    "outputId": "9a80185a-123d-45b7-8024-28f40939336d"
   },
   "outputs": [
    {
     "name": "stdout",
     "output_type": "stream",
     "text": [
      "[6, 5, 7, 1, 9, 2]\n",
      "[6, 5, 7, 1, 9, 2]\n"
     ]
    }
   ],
   "source": [
    "data = [6, 5, 7, 1, 9, 2]\n",
    "print(data)\n",
    "data_copy = data.copy()\n",
    "print(data_copy)"
   ]
  },
  {
   "cell_type": "markdown",
   "metadata": {
    "id": "vKxxYQB3l7NB"
   },
   "source": [
    "#**Sort**"
   ]
  },
  {
   "cell_type": "code",
   "execution_count": 30,
   "metadata": {
    "colab": {
     "base_uri": "https://localhost:8080/"
    },
    "executionInfo": {
     "elapsed": 369,
     "status": "ok",
     "timestamp": 1717748635856,
     "user": {
      "displayName": "Thái Nguyễn Quốc",
      "userId": "04072932238722635186"
     },
     "user_tz": -420
    },
    "id": "lPHoJ9_RyHQJ",
    "outputId": "10927e00-556d-4225-a9e8-3443f885b027"
   },
   "outputs": [
    {
     "name": "stdout",
     "output_type": "stream",
     "text": [
      "[6, 5, 7, 1, 9, 2]\n",
      "[1, 2, 5, 6, 7, 9]\n"
     ]
    }
   ],
   "source": [
    "data = [6, 5, 7, 1, 9, 2]\n",
    "print(data)\n",
    "data.sort()\n",
    "print(data)"
   ]
  },
  {
   "cell_type": "code",
   "execution_count": 31,
   "metadata": {
    "colab": {
     "base_uri": "https://localhost:8080/"
    },
    "executionInfo": {
     "elapsed": 363,
     "status": "ok",
     "timestamp": 1717748648840,
     "user": {
      "displayName": "Thái Nguyễn Quốc",
      "userId": "04072932238722635186"
     },
     "user_tz": -420
    },
    "id": "AGN6cmVPyHFU",
    "outputId": "e9d8650a-2b4f-4f21-df18-1d4abc0463ae"
   },
   "outputs": [
    {
     "name": "stdout",
     "output_type": "stream",
     "text": [
      "[6, 5, 7, 1, 9, 2]\n",
      "[9, 7, 6, 5, 2, 1]\n"
     ]
    }
   ],
   "source": [
    "data = [6, 5, 7, 1, 9, 2]\n",
    "print(data)\n",
    "data.sort(reverse=True)\n",
    "print(data)"
   ]
  },
  {
   "cell_type": "code",
   "execution_count": 32,
   "metadata": {
    "colab": {
     "base_uri": "https://localhost:8080/"
    },
    "executionInfo": {
     "elapsed": 349,
     "status": "ok",
     "timestamp": 1717748654139,
     "user": {
      "displayName": "Thái Nguyễn Quốc",
      "userId": "04072932238722635186"
     },
     "user_tz": -420
    },
    "id": "aWJdx8cwzFP3",
    "outputId": "d68851a3-1345-4a68-d1f3-61df42b439a8"
   },
   "outputs": [
    {
     "name": "stdout",
     "output_type": "stream",
     "text": [
      "[6, 5, 7, 1, 9, 2]\n",
      "[9, 7, 6, 5, 2, 1]\n"
     ]
    }
   ],
   "source": [
    "data = [6, 5, 7, 1, 9, 2]\n",
    "print(data)\n",
    "data.sort(reverse=1)\n",
    "print(data)"
   ]
  },
  {
   "cell_type": "markdown",
   "metadata": {
    "id": "SeeTrayUl-1a"
   },
   "source": [
    "#**Operators**"
   ]
  },
  {
   "cell_type": "code",
   "execution_count": 33,
   "metadata": {
    "colab": {
     "base_uri": "https://localhost:8080/"
    },
    "executionInfo": {
     "elapsed": 343,
     "status": "ok",
     "timestamp": 1717748949180,
     "user": {
      "displayName": "Thái Nguyễn Quốc",
      "userId": "04072932238722635186"
     },
     "user_tz": -420
    },
    "id": "tIQWKQU8zGpC",
    "outputId": "944ae010-0a1a-4bf0-a32e-f28d7321622c"
   },
   "outputs": [
    {
     "name": "stdout",
     "output_type": "stream",
     "text": [
      "[6, 5, 7, 1, 9, 2]\n"
     ]
    }
   ],
   "source": [
    "data1 = [6, 5, 7]\n",
    "data2 = [1, 9, 2]\n",
    "data = data1 + data2\n",
    "print(data)"
   ]
  },
  {
   "cell_type": "code",
   "execution_count": 34,
   "metadata": {
    "colab": {
     "base_uri": "https://localhost:8080/"
    },
    "executionInfo": {
     "elapsed": 3,
     "status": "ok",
     "timestamp": 1717748992849,
     "user": {
      "displayName": "Thái Nguyễn Quốc",
      "userId": "04072932238722635186"
     },
     "user_tz": -420
    },
    "id": "Hcbz3m6Q0OUZ",
    "outputId": "45582f02-2955-47be-97c0-fd80bb784864"
   },
   "outputs": [
    {
     "name": "stdout",
     "output_type": "stream",
     "text": [
      "[6, 5]\n",
      "[6, 5, 6, 5, 6, 5]\n"
     ]
    }
   ],
   "source": [
    "data = [6, 5]\n",
    "print(data)\n",
    "data_m = data*3\n",
    "print(data_m)"
   ]
  },
  {
   "cell_type": "markdown",
   "metadata": {
    "id": "wbfXP3tZmDd_"
   },
   "source": [
    "#**Bulit-in Function**"
   ]
  },
  {
   "cell_type": "code",
   "execution_count": 35,
   "metadata": {
    "colab": {
     "base_uri": "https://localhost:8080/"
    },
    "executionInfo": {
     "elapsed": 343,
     "status": "ok",
     "timestamp": 1717749223043,
     "user": {
      "displayName": "Thái Nguyễn Quốc",
      "userId": "04072932238722635186"
     },
     "user_tz": -420
    },
    "id": "EarJDTzh0ZEL",
    "outputId": "bb630046-8a76-42c9-9970-277b1f39b163"
   },
   "outputs": [
    {
     "name": "stdout",
     "output_type": "stream",
     "text": [
      "6\n"
     ]
    }
   ],
   "source": [
    "# get a number of elements\n",
    "\n",
    "data = [6, 5, 7, 1, 9, 2]\n",
    "length = len(data)\n",
    "print(length)"
   ]
  },
  {
   "cell_type": "code",
   "execution_count": 36,
   "metadata": {
    "colab": {
     "base_uri": "https://localhost:8080/"
    },
    "executionInfo": {
     "elapsed": 352,
     "status": "ok",
     "timestamp": 1717749252033,
     "user": {
      "displayName": "Thái Nguyễn Quốc",
      "userId": "04072932238722635186"
     },
     "user_tz": -420
    },
    "id": "8ZuYvVeB1Rij",
    "outputId": "c41124ab-599f-4a33-e315-714c2c906323"
   },
   "outputs": [
    {
     "name": "stdout",
     "output_type": "stream",
     "text": [
      "1\n",
      "9\n"
     ]
    }
   ],
   "source": [
    "# get the min and max values\n",
    "\n",
    "data = [6, 5, 7, 1, 9, 2]\n",
    "print(min(data))\n",
    "print(max(data))"
   ]
  },
  {
   "cell_type": "code",
   "execution_count": 37,
   "metadata": {
    "colab": {
     "base_uri": "https://localhost:8080/"
    },
    "executionInfo": {
     "elapsed": 531,
     "status": "ok",
     "timestamp": 1717749574021,
     "user": {
      "displayName": "Thái Nguyễn Quốc",
      "userId": "04072932238722635186"
     },
     "user_tz": -420
    },
    "id": "qZOrECz21YP5",
    "outputId": "61eaf90d-d498-4a5e-a427-cd78e7a77e94"
   },
   "outputs": [
    {
     "name": "stdout",
     "output_type": "stream",
     "text": [
      "[1, 2, 5, 6, 7, 9]\n"
     ]
    }
   ],
   "source": [
    "data = [6, 5, 7, 1, 9, 2]\n",
    "sorted_data = sorted(data)\n",
    "print(sorted_data)"
   ]
  },
  {
   "cell_type": "code",
   "execution_count": 38,
   "metadata": {
    "colab": {
     "base_uri": "https://localhost:8080/"
    },
    "executionInfo": {
     "elapsed": 408,
     "status": "ok",
     "timestamp": 1717749592537,
     "user": {
      "displayName": "Thái Nguyễn Quốc",
      "userId": "04072932238722635186"
     },
     "user_tz": -420
    },
    "id": "1Fn6LVFk2nG3",
    "outputId": "1b9c75ac-f3d9-41bf-a80f-b479c53f4f57"
   },
   "outputs": [
    {
     "name": "stdout",
     "output_type": "stream",
     "text": [
      "[9, 7, 6, 5, 2, 1]\n"
     ]
    }
   ],
   "source": [
    "data = [6, 5, 7, 1, 9, 2]\n",
    "sorted_data = sorted(data, reverse=True)\n",
    "print(sorted_data)"
   ]
  },
  {
   "cell_type": "code",
   "execution_count": 39,
   "metadata": {
    "colab": {
     "base_uri": "https://localhost:8080/"
    },
    "executionInfo": {
     "elapsed": 536,
     "status": "ok",
     "timestamp": 1717749761819,
     "user": {
      "displayName": "Thái Nguyễn Quốc",
      "userId": "04072932238722635186"
     },
     "user_tz": -420
    },
    "id": "goHstqbb2sgk",
    "outputId": "81fdc375-26ec-49d0-ee4a-4eb3ff41d857"
   },
   "outputs": [
    {
     "name": "stdout",
     "output_type": "stream",
     "text": [
      "30\n"
     ]
    }
   ],
   "source": [
    "data = [6, 5, 7, 1, 9, 2]\n",
    "print(sum(data))"
   ]
  },
  {
   "cell_type": "code",
   "execution_count": 40,
   "metadata": {
    "colab": {
     "base_uri": "https://localhost:8080/"
    },
    "executionInfo": {
     "elapsed": 338,
     "status": "ok",
     "timestamp": 1717749808791,
     "user": {
      "displayName": "Thái Nguyễn Quốc",
      "userId": "04072932238722635186"
     },
     "user_tz": -420
    },
    "id": "3cgLAGrV2seM",
    "outputId": "08f3a223-b430-45a0-b7e9-39d64f4e4c21"
   },
   "outputs": [
    {
     "name": "stdout",
     "output_type": "stream",
     "text": [
      "37\n"
     ]
    }
   ],
   "source": [
    "data = [6, 5, 7, 1, 9, 2]\n",
    "# start: a value that is added to the return value\n",
    "print(sum(data, 7)) # + thêm 7"
   ]
  },
  {
   "cell_type": "code",
   "execution_count": 41,
   "metadata": {
    "colab": {
     "base_uri": "https://localhost:8080/"
    },
    "executionInfo": {
     "elapsed": 355,
     "status": "ok",
     "timestamp": 1717750119528,
     "user": {
      "displayName": "Thái Nguyễn Quốc",
      "userId": "04072932238722635186"
     },
     "user_tz": -420
    },
    "id": "9YsdawQO3W24",
    "outputId": "1de02174-39af-44a9-d750-e203927668f4"
   },
   "outputs": [
    {
     "name": "stdout",
     "output_type": "stream",
     "text": [
      "1 5\n",
      "2 6\n",
      "3 7\n"
     ]
    }
   ],
   "source": [
    "data1 = [1, 2, 3]\n",
    "data2 = [5, 6, 7]\n",
    "\n",
    "for v1, v2 in zip(data1, data2):\n",
    "    print(v1, v2)"
   ]
  },
  {
   "cell_type": "code",
   "execution_count": 42,
   "metadata": {
    "colab": {
     "base_uri": "https://localhost:8080/"
    },
    "executionInfo": {
     "elapsed": 334,
     "status": "ok",
     "timestamp": 1717750125060,
     "user": {
      "displayName": "Thái Nguyễn Quốc",
      "userId": "04072932238722635186"
     },
     "user_tz": -420
    },
    "id": "nlL1x-Hq4sSO",
    "outputId": "d76a2fd9-cc41-42d6-d6f9-1c4fda3f6648"
   },
   "outputs": [
    {
     "name": "stdout",
     "output_type": "stream",
     "text": [
      "1 5\n",
      "2 6\n"
     ]
    }
   ],
   "source": [
    "data1 = [1, 2, 3]\n",
    "data2 = [5, 6]\n",
    "\n",
    "for v1, v2 in zip(data1, data2):\n",
    "    print(v1, v2)"
   ]
  },
  {
   "cell_type": "code",
   "execution_count": 43,
   "metadata": {
    "colab": {
     "base_uri": "https://localhost:8080/"
    },
    "executionInfo": {
     "elapsed": 340,
     "status": "ok",
     "timestamp": 1717750557700,
     "user": {
      "displayName": "Thái Nguyễn Quốc",
      "userId": "04072932238722635186"
     },
     "user_tz": -420
    },
    "id": "tm0Zpr8z4tt_",
    "outputId": "03480f0f-8505-477d-e57b-32233bddfda7"
   },
   "outputs": [
    {
     "name": "stdout",
     "output_type": "stream",
     "text": [
      "7\n",
      "1\n",
      "6\n"
     ]
    }
   ],
   "source": [
    "data = [6, 1, 7]\n",
    "for value in reversed(data):\n",
    "    print(value)"
   ]
  },
  {
   "cell_type": "code",
   "execution_count": 46,
   "metadata": {
    "colab": {
     "base_uri": "https://localhost:8080/"
    },
    "executionInfo": {
     "elapsed": 421,
     "status": "ok",
     "timestamp": 1717750776490,
     "user": {
      "displayName": "Thái Nguyễn Quốc",
      "userId": "04072932238722635186"
     },
     "user_tz": -420
    },
    "id": "bRZitbUt6ZQ4",
    "outputId": "9931b322-3e25-425b-ba0d-7d5fc1fac4be"
   },
   "outputs": [
    {
     "name": "stdout",
     "output_type": "stream",
     "text": [
      "0 6\n",
      "1 1\n",
      "2 7\n"
     ]
    }
   ],
   "source": [
    "data = [6, 1, 7]\n",
    "for index, value in enumerate(data):\n",
    "    print(index, value)"
   ]
  },
  {
   "cell_type": "code",
   "execution_count": 44,
   "metadata": {
    "colab": {
     "base_uri": "https://localhost:8080/"
    },
    "executionInfo": {
     "elapsed": 4,
     "status": "ok",
     "timestamp": 1717750788502,
     "user": {
      "displayName": "Thái Nguyễn Quốc",
      "userId": "04072932238722635186"
     },
     "user_tz": -420
    },
    "id": "eIqwB5pR7NTi",
    "outputId": "7cfafa35-a799-4efd-f1fc-673921cd5d8e"
   },
   "outputs": [
    {
     "name": "stdout",
     "output_type": "stream",
     "text": [
      "7 6\n",
      "8 1\n",
      "9 7\n"
     ]
    }
   ],
   "source": [
    "data = [6, 1, 7]\n",
    "for index, value in enumerate(data, 7): # 7 là start\n",
    "    print(index, value)"
   ]
  },
  {
   "cell_type": "markdown",
   "metadata": {
    "id": "vUg0M9r0mG2U"
   },
   "source": [
    "#**Sum of even numbers**"
   ]
  },
  {
   "cell_type": "code",
   "execution_count": 45,
   "metadata": {
    "colab": {
     "base_uri": "https://localhost:8080/"
    },
    "executionInfo": {
     "elapsed": 358,
     "status": "ok",
     "timestamp": 1717751148429,
     "user": {
      "displayName": "Thái Nguyễn Quốc",
      "userId": "04072932238722635186"
     },
     "user_tz": -420
    },
    "id": "uUIbdykX7PZc",
    "outputId": "3bcc5c61-c126-4aec-b1ed-69f13ebd7b15"
   },
   "outputs": [
    {
     "name": "stdout",
     "output_type": "stream",
     "text": [
      "8\n"
     ]
    }
   ],
   "source": [
    "# sum of even numbers\n",
    "def even_sum_1(data):\n",
    "    result = 0\n",
    "\n",
    "    for value in data:\n",
    "        if value%2 == 0:\n",
    "            result = result + value\n",
    "\n",
    "    return result\n",
    "\n",
    "data = [6, 5, 7, 1, 9, 2]\n",
    "sum_data = even_sum_1(data)\n",
    "print(sum_data)"
   ]
  },
  {
   "cell_type": "code",
   "execution_count": 55,
   "metadata": {
    "colab": {
     "base_uri": "https://localhost:8080/"
    },
    "executionInfo": {
     "elapsed": 384,
     "status": "ok",
     "timestamp": 1717751567500,
     "user": {
      "displayName": "Thái Nguyễn Quốc",
      "userId": "04072932238722635186"
     },
     "user_tz": -420
    },
    "id": "kfI_YGfB8h9Z",
    "outputId": "17f9442e-7ba0-4d36-bab1-a290f2a89de0"
   },
   "outputs": [
    {
     "name": "stdout",
     "output_type": "stream",
     "text": [
      "8\n"
     ]
    }
   ],
   "source": [
    "def even_sum_2(data):\n",
    "    index = 0\n",
    "    result = 0\n",
    "\n",
    "    while index < len(data):\n",
    "        if data[index]%2 == 0:\n",
    "            result = result + data[index]\n",
    "        index = index + 1\n",
    "\n",
    "    return result\n",
    "\n",
    "data = [6, 5, 7, 1, 9, 2]\n",
    "sum_data = even_sum_2(data)\n",
    "print(sum_data)"
   ]
  },
  {
   "cell_type": "markdown",
   "metadata": {
    "id": "eoPrebhMmJ34"
   },
   "source": [
    "#**Two sum**"
   ]
  },
  {
   "cell_type": "code",
   "execution_count": 47,
   "metadata": {
    "colab": {
     "base_uri": "https://localhost:8080/"
    },
    "executionInfo": {
     "elapsed": 493,
     "status": "ok",
     "timestamp": 1717752733313,
     "user": {
      "displayName": "Thái Nguyễn Quốc",
      "userId": "04072932238722635186"
     },
     "user_tz": -420
    },
    "id": "RURqWs159rQR",
    "outputId": "1ad29cff-25ec-40eb-c493-25e7fbae690b"
   },
   "outputs": [
    {
     "name": "stdout",
     "output_type": "stream",
     "text": [
      "[[2, 3], [0, 5]]\n"
     ]
    }
   ],
   "source": [
    "def two_sum(data, target):\n",
    "        \"\"\"\n",
    "        Tìm tất cả các cặp số trong mảng có tổng bằng target\n",
    "        \n",
    "        Args:\n",
    "            data (list): Mảng số nguyên đầu vào\n",
    "            target (int): Số nguyên cần tìm tổng\n",
    "            \n",
    "        Returns:\n",
    "            list: Mảng chứa các cặp chỉ số của các số có tổng bằng target\n",
    "                 Trả về mảng rỗng nếu không tìm thấy\n",
    "        \n",
    "        Example:\n",
    "            >>> data = [6, 5, 7, 1, 9, 2]\n",
    "            >>> target = 8\n",
    "            >>> two_sum(data, target)\n",
    "            [[0, 5], [2, 3]]  # 5 + 2 = 8, 7 + 1 = 8\n",
    "        \"\"\"\n",
    "        results = []\n",
    "        num_indices = {}\n",
    "\n",
    "        for i, num in enumerate(data):\n",
    "            complement = target - num\n",
    "            if complement in num_indices:\n",
    "                results.append([num_indices[complement], i])\n",
    "            num_indices[num] = i\n",
    "\n",
    "        return results\n",
    "\n",
    "data = [6, 5, 7, 1, 9, 2]\n",
    "target = 8\n",
    "result = two_sum(data, target)\n",
    "print(result)"
   ]
  }
 ],
 "metadata": {
  "colab": {
   "authorship_tag": "ABX9TyOS2bCYIhLKrg2FC7kVuZKt",
   "provenance": []
  },
  "kernelspec": {
   "display_name": "Python 3",
   "name": "python3"
  },
  "language_info": {
   "codemirror_mode": {
    "name": "ipython",
    "version": 3
   },
   "file_extension": ".py",
   "mimetype": "text/x-python",
   "name": "python",
   "nbconvert_exporter": "python",
   "pygments_lexer": "ipython3",
   "version": "3.12.6"
  }
 },
 "nbformat": 4,
 "nbformat_minor": 0
}
