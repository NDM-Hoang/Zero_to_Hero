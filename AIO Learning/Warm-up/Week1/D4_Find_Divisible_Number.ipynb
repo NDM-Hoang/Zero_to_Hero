{
 "cells": [
  {
   "cell_type": "code",
   "execution_count": 4,
   "metadata": {},
   "outputs": [
    {
     "name": "stdout",
     "output_type": "stream",
     "text": [
      "105\n",
      "102\n"
     ]
    }
   ],
   "source": [
    "def find_divisible_number(a):\n",
    "    number = 101\n",
    "    while True:\n",
    "        if number % a == 0:\n",
    "            break\n",
    "        number += 1\n",
    "    return print(number)\n",
    "\n",
    "find_divisible_number(5)\n",
    "find_divisible_number(17)\n"
   ]
  }
 ],
 "metadata": {
  "kernelspec": {
   "display_name": "Python 3",
   "language": "python",
   "name": "python3"
  },
  "language_info": {
   "codemirror_mode": {
    "name": "ipython",
    "version": 3
   },
   "file_extension": ".py",
   "mimetype": "text/x-python",
   "name": "python",
   "nbconvert_exporter": "python",
   "pygments_lexer": "ipython3",
   "version": "3.12.9"
  }
 },
 "nbformat": 4,
 "nbformat_minor": 2
}
