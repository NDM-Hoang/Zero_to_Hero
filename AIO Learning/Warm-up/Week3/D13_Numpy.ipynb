{
 "cells": [
  {
   "cell_type": "markdown",
   "metadata": {},
   "source": [
    "## **Linear Algebra**"
   ]
  },
  {
   "cell_type": "code",
   "execution_count": 4,
   "metadata": {},
   "outputs": [
    {
     "name": "stdout",
     "output_type": "stream",
     "text": [
      "Vector a: [1 2 3 4]\n",
      "Matrix b:\n",
      " [[1 2]\n",
      " [3 4]]\n",
      "\n",
      "Zero matrix:\n",
      " [[0. 0. 0.]\n",
      " [0. 0. 0.]\n",
      " [0. 0. 0.]]\n",
      "\n",
      "One matrix:\n",
      " [[1. 1. 1.]\n",
      " [1. 1. 1.]\n",
      " [1. 1. 1.]]\n",
      "\n",
      "Random matrix:\n",
      " [[0.80375714 0.32715181 0.26622705]\n",
      " [0.69402894 0.21572957 0.81580523]\n",
      " [0.42840569 0.40984246 0.53711568]]\n",
      "\n",
      "Identity matrix:\n",
      " [[1. 0.]\n",
      " [0. 1.]\n",
      " [0. 0.]\n",
      " [0. 0.]\n",
      " [0. 0.]]\n"
     ]
    }
   ],
   "source": [
    "import numpy as np\n",
    "\n",
    "a = np.array([1, 2, 3, 4])\n",
    "\n",
    "b = np.array([[1, 2], [3, 4]])\n",
    "\n",
    "zero_matrix = np.zeros((3, 3))\n",
    "\n",
    "one_matrix = np.ones((3, 3))\n",
    "\n",
    "rand_matrix = np.random.rand(3, 3)\n",
    "\n",
    "identity_matrix = np.eye(5,2)\n",
    "\n",
    "print(\"Vector a:\", a)\n",
    "print(\"Matrix b:\\n\", b)\n",
    "print(\"\\nZero matrix:\\n\", zero_matrix) \n",
    "print(\"\\nOne matrix:\\n\", one_matrix)\n",
    "print(\"\\nRandom matrix:\\n\", rand_matrix)\n",
    "print(\"\\nIdentity matrix:\\n\", identity_matrix)\n",
    "\n"
   ]
  },
  {
   "cell_type": "code",
   "execution_count": 10,
   "metadata": {},
   "outputs": [
    {
     "name": "stdout",
     "output_type": "stream",
     "text": [
      "C:\n",
      " [[ 6  8]\n",
      " [10 12]]\n",
      "D:\n",
      " [[-4 -4]\n",
      " [-4 -4]]\n",
      "E:\n",
      " [[3 8]]\n",
      "F:\n",
      " [11]\n",
      "G:\n",
      " [11]\n"
     ]
    }
   ],
   "source": [
    "A = np.array([[1, 2], [3, 4]])\n",
    "B = np.array([[5, 6], [7, 8]])\n",
    "\n",
    "C = A + B\n",
    "D = A - B\n",
    "\n",
    "print(\"C:\\n\", C)\n",
    "print(\"D:\\n\", D)\n",
    "\n",
    "Y = np.array([[1, 2]])\n",
    "X = np.array([3, 4])\n",
    "\n",
    "E = Y * X #hadamard product\n",
    "F = Y @ X #matmul\n",
    "\n",
    "print(\"E:\\n\", E)\n",
    "print(\"F:\\n\", F)\n",
    "\n",
    "G = Y.dot(X) #dot product\n",
    "\n",
    "print(\"G:\\n\", G)\n",
    "\n",
    "\n"
   ]
  },
  {
   "cell_type": "code",
   "execution_count": 12,
   "metadata": {},
   "outputs": [
    {
     "name": "stdout",
     "output_type": "stream",
     "text": [
      "Định thức của ma trận A:\n",
      " -2.0000000000000004\n",
      "\n",
      "Ma trận nghịch đảo của A:\n",
      " [[-2.   1. ]\n",
      " [ 1.5 -0.5]]\n",
      "\n",
      "Hạng của ma trận A:\n",
      " 2\n",
      "\n",
      "Nghiệm của hệ phương trình Ax = B:\n",
      " [[-3. -4.]\n",
      " [ 4.  5.]]\n",
      "\n",
      "Giá trị riêng của A:\n",
      " [-0.37228132  5.37228132]\n",
      "\n",
      "Vector riêng của A:\n",
      " [[-0.82456484 -0.41597356]\n",
      " [ 0.56576746 -0.90937671]]\n",
      "\n",
      "Ma trận U trong SVD:\n",
      " [[-0.40455358 -0.9145143 ]\n",
      " [-0.9145143   0.40455358]]\n",
      "\n",
      "Ma trận S trong SVD:\n",
      " [5.4649857  0.36596619]\n",
      "\n",
      "Ma trận V trong SVD:\n",
      " [[-0.57604844 -0.81741556]\n",
      " [ 0.81741556 -0.57604844]]\n"
     ]
    }
   ],
   "source": [
    "# Tính định thức của ma trận A\n",
    "det_A = np.linalg.det(A)\n",
    "print(\"Định thức của ma trận A:\\n\", det_A)\n",
    "\n",
    "# Tính ma trận nghịch đảo của A\n",
    "inv_A = np.linalg.inv(A)\n",
    "print(\"\\nMa trận nghịch đảo của A:\\n\", inv_A)\n",
    "\n",
    "# Tính hạng của ma trận A\n",
    "rank_A = np.linalg.matrix_rank(A)\n",
    "print(\"\\nHạng của ma trận A:\\n\", rank_A)\n",
    "\n",
    "# Giải hệ phương trình Ax = B\n",
    "x = np.linalg.solve(A, B)\n",
    "print(\"\\nNghiệm của hệ phương trình Ax = B:\\n\", x)\n",
    "\n",
    "# Tính giá trị riêng và vector riêng của A\n",
    "eig_val, eig_vec = np.linalg.eig(A)\n",
    "print(\"\\nGiá trị riêng của A:\\n\", eig_val)\n",
    "print(\"\\nVector riêng của A:\\n\", eig_vec)\n",
    "\n",
    "# Phân tích SVD của ma trận A\n",
    "U, S, V = np.linalg.svd(A)\n",
    "print(\"\\nMa trận U trong SVD:\\n\", U)\n",
    "print(\"\\nMa trận S trong SVD:\\n\", S) \n",
    "print(\"\\nMa trận V trong SVD:\\n\", V)\n"
   ]
  }
 ],
 "metadata": {
  "kernelspec": {
   "display_name": "Python 3",
   "language": "python",
   "name": "python3"
  },
  "language_info": {
   "codemirror_mode": {
    "name": "ipython",
    "version": 3
   },
   "file_extension": ".py",
   "mimetype": "text/x-python",
   "name": "python",
   "nbconvert_exporter": "python",
   "pygments_lexer": "ipython3",
   "version": "3.12.6"
  }
 },
 "nbformat": 4,
 "nbformat_minor": 2
}
