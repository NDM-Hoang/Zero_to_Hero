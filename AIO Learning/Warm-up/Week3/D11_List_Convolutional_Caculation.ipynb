{
 "cells": [
  {
   "cell_type": "markdown",
   "metadata": {},
   "source": [
    "## **Convolutional Calculation**"
   ]
  },
  {
   "cell_type": "code",
   "execution_count": 27,
   "metadata": {},
   "outputs": [
    {
     "name": "stdout",
     "output_type": "stream",
     "text": [
      "[[29, 39], [59, 69]]\n",
      "[[30]]\n"
     ]
    }
   ],
   "source": [
    "def convolutional_calculation(matrix, kernel):\n",
    "    result = []\n",
    "    for i in range(len(matrix) - len(kernel)+1):\n",
    "        row = []\n",
    "        for j in range(len(matrix[i]) - len(kernel)+1):\n",
    "            conv = 0\n",
    "            for k in range(len(kernel)):\n",
    "                for l in range(len(kernel)):\n",
    "                    conv += matrix[i+k][j+l] * kernel[k][l]\n",
    "            row.append(conv)\n",
    "        result.append(row)\n",
    "    return result\n",
    "\n",
    "A = [[1, 2, 3], [4, 5, 6], [7, 8, 9]]\n",
    "kernalB = [[2, 4], [1, 3]]\n",
    "kernalC = [[1, 1, 1], [0, 0, 0], [1, 1, 1]]\n",
    "print(convolutional_calculation(A, kernalB))\n",
    "print(convolutional_calculation(A, kernalC))\n",
    "\n"
   ]
  },
  {
   "cell_type": "markdown",
   "metadata": {},
   "source": [
    "### **Padding**"
   ]
  },
  {
   "cell_type": "code",
   "execution_count": 38,
   "metadata": {},
   "outputs": [
    {
     "name": "stdout",
     "output_type": "stream",
     "text": [
      "[[0, 0, 0, 0, 0], [0, 0, 0, 0, 0], [0, 0, 4, 0, 0], [0, 0, 1, 0, 0], [0, 0, 0, 0, 0]]\n",
      "[[0, 0, 0, 0], [0, 4, 4, 0], [0, 5, 5, 0], [0, 1, 1, 0]]\n",
      "[[0, 4, 0], [0, 5, 0], [0, 5, 0]]\n"
     ]
    }
   ],
   "source": [
    "def zero_padding(matrix):\n",
    "    pad = [[0 for _ in range(len(matrix[0])+2)] for _ in range(len(matrix)+2)]\n",
    "    for i in range(len(matrix)):\n",
    "        for j in range(len(matrix[i])):\n",
    "            pad[i+1][j+1] = matrix[i][j]\n",
    "    return pad\n",
    "\n",
    "A = [[0, 0, 0], [0, 4, 0], [0, 1, 0]]\n",
    "kernalB = [[1, 1], [1, 1]]\n",
    "kernalC = [[0, 1, 0], [0, 1, 0], [0, 1, 0]]\n",
    "\n",
    "A = zero_padding(A)\n",
    "print(A)\n",
    "\n",
    "print(convolutional_calculation(A, kernalB))\n",
    "print(convolutional_calculation(A, kernalC))\n"
   ]
  },
  {
   "cell_type": "markdown",
   "metadata": {},
   "source": [
    "### **Max Pooling và Average Pooling**\n"
   ]
  },
  {
   "cell_type": "code",
   "execution_count": 71,
   "metadata": {},
   "outputs": [
    {
     "name": "stdout",
     "output_type": "stream",
     "text": [
      "[[4, 4], [3, 2]]\n",
      "[[1.0, 1.5], [1.0, 1.0]]\n"
     ]
    }
   ],
   "source": [
    "def max_pooling(matrix, kernel_len):\n",
    "    result = []\n",
    "    for i in range(0, len(matrix), kernel_len):\n",
    "        row = []\n",
    "        for j in range(0, len(matrix[i]), kernel_len):\n",
    "            pool = []\n",
    "            for k in range(kernel_len):\n",
    "                for l in range(kernel_len):\n",
    "                    pool.append(matrix[i+k][j+l])\n",
    "            row.append(max(pool))\n",
    "        result.append(row)\n",
    "    return result\n",
    "\n",
    "def avg_pooling(matrix, kernel_len):\n",
    "    result = []\n",
    "    for i in range(0, len(matrix), kernel_len):\n",
    "        row = []\n",
    "        for j in range(0, len(matrix[i]), kernel_len):\n",
    "            pool = []\n",
    "            for k in range(kernel_len):\n",
    "                for l in range(kernel_len):\n",
    "                    pool.append(matrix[i+k][j+l])\n",
    "            row.append(sum(pool) / (kernel_len * kernel_len))\n",
    "        result.append(row)\n",
    "    return result\n",
    "\n",
    "A = [[0, 0, 0, 4],\n",
    "     [0, 4, 0, 2],\n",
    "     [0, 1, 0, 2],\n",
    "     [0, 3, 0, 2]]\n",
    "\n",
    "print(max_pooling(A, 2))\n",
    "print(avg_pooling(A, 2))\n"
   ]
  }
 ],
 "metadata": {
  "kernelspec": {
   "display_name": "Python 3",
   "language": "python",
   "name": "python3"
  },
  "language_info": {
   "codemirror_mode": {
    "name": "ipython",
    "version": 3
   },
   "file_extension": ".py",
   "mimetype": "text/x-python",
   "name": "python",
   "nbconvert_exporter": "python",
   "pygments_lexer": "ipython3",
   "version": "3.12.6"
  }
 },
 "nbformat": 4,
 "nbformat_minor": 2
}
