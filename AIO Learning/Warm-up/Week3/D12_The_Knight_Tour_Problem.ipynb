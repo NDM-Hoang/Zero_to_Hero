{
 "cells": [
  {
   "cell_type": "markdown",
   "metadata": {},
   "source": [
    "## **Bài toán Mã đi tuần**\n",
    "![Knight](https://github.com/iamwilly1998/demo_1/blob/main/Week3/Knight_Tour.png?raw=true)"
   ]
  },
  {
   "cell_type": "code",
   "execution_count": 14,
   "metadata": {},
   "outputs": [
    {
     "name": "stdout",
     "output_type": "stream",
     "text": [
      "Lời giải cho bài toán mã đi tuần trên bàn cờ 5x5, bắt đầu tại vị trí (0, 0):\n",
      "[1, 6, 15, 10, 21]\n",
      "[14, 9, 20, 5, 16]\n",
      "[19, 2, 7, 22, 11]\n",
      "[8, 13, 24, 17, 4]\n",
      "[25, 18, 3, 12, 23]\n",
      "Lời giải cho bài toán mã đi tuần trên bàn cờ 5x5, bắt đầu tại vị trí (2, 2):\n",
      "[23, 10, 15, 4, 25]\n",
      "[16, 5, 24, 9, 14]\n",
      "[11, 22, 1, 18, 3]\n",
      "[6, 17, 20, 13, 8]\n",
      "[21, 12, 7, 2, 19]\n",
      "Lời giải cho bài toán mã đi tuần trên bàn cờ 8x8, bắt đầu tại vị trí (0, 0):\n",
      "[1, 60, 39, 34, 31, 18, 9, 64]\n",
      "[38, 35, 32, 61, 10, 63, 30, 17]\n",
      "[59, 2, 37, 40, 33, 28, 19, 8]\n",
      "[36, 49, 42, 27, 62, 11, 16, 29]\n",
      "[43, 58, 3, 50, 41, 24, 7, 20]\n",
      "[48, 51, 46, 55, 26, 21, 12, 15]\n",
      "[57, 44, 53, 4, 23, 14, 25, 6]\n",
      "[52, 47, 56, 45, 54, 5, 22, 13]\n"
     ]
    }
   ],
   "source": [
    "def knight_tour( x, y, move_count, board):\n",
    "    possible_moves = [\n",
    "        (2, 1), (1, 2), (-1, 2), (-2, 1),\n",
    "        (-2, -1), (-1, -2), (1, -2), (2, -1)\n",
    "    ]\n",
    "    if move_count == len(board) * len(board) +1:\n",
    "        return True\n",
    "    for dx, dy in possible_moves:\n",
    "        next_x = x + dx\n",
    "        next_y = y + dy\n",
    "        if ( 0 <= next_x < len(board) and 0 <= next_y < len(board) and board[next_x][next_y] == -1):\n",
    "            board[next_x][next_y] = move_count\n",
    "            if knight_tour(next_x, next_y, move_count + 1, board):\n",
    "                return True\n",
    "            board[next_x][next_y] = -1\n",
    "    return False\n",
    "\n",
    "def solve_knight_tour(size_of_chessboard, start_x, start_y):\n",
    "    board = [[-1 for _ in range(size_of_chessboard)] for _ in range(size_of_chessboard)]\n",
    "    board[start_x][start_y] = 1\n",
    "    if knight_tour(start_x, start_y, 2, board):\n",
    "        print(f\"Lời giải cho bài toán mã đi tuần trên bàn cờ {size_of_chessboard}x{size_of_chessboard}, bắt đầu tại vị trí ({start_x}, {start_y}):\")\n",
    "        for row in board:\n",
    "            print(row)\n",
    "    else:\n",
    "        print(\"Không tìm thấy lời giải\")\n",
    "\n",
    "\n",
    "n = 5\n",
    "solve_knight_tour(n, 0, 0)\n",
    "solve_knight_tour(n, 2, 2)\n",
    "\n",
    "solve_knight_tour(8, 0, 0)\n"
   ]
  }
 ],
 "metadata": {
  "kernelspec": {
   "display_name": "Python 3",
   "language": "python",
   "name": "python3"
  },
  "language_info": {
   "codemirror_mode": {
    "name": "ipython",
    "version": 3
   },
   "file_extension": ".py",
   "mimetype": "text/x-python",
   "name": "python",
   "nbconvert_exporter": "python",
   "pygments_lexer": "ipython3",
   "version": "3.12.6"
  }
 },
 "nbformat": 4,
 "nbformat_minor": 2
}
