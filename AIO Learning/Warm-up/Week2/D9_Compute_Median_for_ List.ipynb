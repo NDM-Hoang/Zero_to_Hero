{
 "cells": [
  {
   "cell_type": "markdown",
   "metadata": {},
   "source": [
    "## **Computing median for a list of numbers**\n",
    "### **Median**  "
   ]
  },
  {
   "cell_type": "code",
   "execution_count": 10,
   "metadata": {},
   "outputs": [
    {
     "name": "stdout",
     "output_type": "stream",
     "text": [
      "[1, 2, 3, 4, 5, 6, 7, 8, 9, 10]\n",
      "Median: 5.5\n",
      "[9, 7, 5, 3, 1]\n"
     ]
    }
   ],
   "source": [
    "def compute_median(lst_data):\n",
    "    lst_data.sort()\n",
    "    n = len(lst_data)\n",
    "    if n % 2 == 0:\n",
    "        median = (lst_data[n//2 - 1] + lst_data[n//2]) / 2\n",
    "    else:\n",
    "        median = lst_data[(n)//2]\n",
    "    return print(\"Median:\", median)\n",
    "\n",
    "\n",
    "lst_data = [1, 2, 3, 4, 5, 6, 7, 8, 9, 10]\n",
    "print(lst_data)\n",
    "compute_median(lst_data)\n",
    "lst_odd_filter = [v for v in lst_data if v % 2 == 1]\n",
    "lst_odd_filter.sort(reverse=True)\n",
    "print(lst_odd_filter)\n"
   ]
  },
  {
   "cell_type": "markdown",
   "metadata": {},
   "source": [
    "### **Mean**"
   ]
  },
  {
   "cell_type": "code",
   "execution_count": 11,
   "metadata": {},
   "outputs": [
    {
     "name": "stdout",
     "output_type": "stream",
     "text": [
      "Giá trị trung bình các số lẻ: 5.0\n",
      "Giá trị trung bình các số chẵn: 5.0\n",
      "Giá trị trung bình: 5.5\n",
      "Median: 5.5\n"
     ]
    }
   ],
   "source": [
    "list_data = [1,2,3,4,5,6,7,8,9,10]\n",
    "print(\"Giá trị trung bình các số lẻ:\", sum([x for x in list_data if x % 2 != 0])/len([x for x in list_data if x % 2 != 0]))\n",
    "print(\"Giá trị trung bình các số chẵn:\", sum([x for x in list_data if x % 2 != 0])/len([x for x in list_data if x % 2 == 0]))\n",
    "print(\"Giá trị trung bình:\", sum(list_data)/len(list_data))\n",
    "compute_median(list_data)"
   ]
  }
 ],
 "metadata": {
  "kernelspec": {
   "display_name": "Python 3",
   "language": "python",
   "name": "python3"
  },
  "language_info": {
   "codemirror_mode": {
    "name": "ipython",
    "version": 3
   },
   "file_extension": ".py",
   "mimetype": "text/x-python",
   "name": "python",
   "nbconvert_exporter": "python",
   "pygments_lexer": "ipython3",
   "version": "3.12.6"
  }
 },
 "nbformat": 4,
 "nbformat_minor": 2
}
