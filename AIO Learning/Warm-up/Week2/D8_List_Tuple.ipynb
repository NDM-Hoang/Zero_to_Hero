{
 "cells": [
  {
   "cell_type": "markdown",
   "metadata": {},
   "source": [
    "## **List và Tuple trong Python**\n",
    "\n",
    "Bài 1: Khoảng cách Euclidean giữa 2 điểm P và Q trong không gian n chiều được tính bằng công thức:\n",
    "\n",
    " $distance(P,Q) = \\sqrt{(p_1 - q_1)^2 + (p_2 - q_2)^2 + ... + (p_n - q_n)^2}$\n",
    "\n",
    " Trong đó:\n",
    " - P(p₁, p₂, ..., pₙ) và Q(q₁, q₂, ..., qₙ) là 2 điểm trong không gian n chiều\n",
    " - Khoảng cách Euclidean là đường thẳng ngắn nhất nối 2 điểm P và Q"
   ]
  },
  {
   "cell_type": "code",
   "execution_count": 20,
   "metadata": {},
   "outputs": [
    {
     "name": "stdout",
     "output_type": "stream",
     "text": [
      "(5, 6)\n",
      "(9, 18)\n",
      "3.1622776601683795\n",
      "(1, 0)\n"
     ]
    }
   ],
   "source": [
    "import math\n",
    "\n",
    "def sum_multi_vector(vector):\n",
    "    sum = 0\n",
    "    multi = 1\n",
    "    for i in range(len(vector)):\n",
    "        sum += vector[i]\n",
    "        multi *= vector[i]\n",
    "    return (sum, multi)\n",
    "\n",
    "def distance_vector(vector1, vector2):\n",
    "    distance = 0\n",
    "    for p,q in zip(vector1, vector2):\n",
    "        distance += (p - q)**2\n",
    "    return math.sqrt(distance)\n",
    "\n",
    "vector1 = (2,3)\n",
    "print(sum_multi_vector(vector1))\n",
    "vector2 = (3,6)\n",
    "print(sum_multi_vector(vector2))\n",
    "\n",
    "vector1 = (2,3)\n",
    "vector2 = (3,6)\n",
    "print(distance_vector(vector1, vector2))\n",
    "\n",
    "index = (vector1.index(3), vector2.index(3))\n",
    "print(index)\n"
   ]
  },
  {
   "cell_type": "markdown",
   "metadata": {},
   "source": [
    "## **Bag of Words**\n",
    "![BoW](https://github.com/iamwilly1998/demo_1/blob/main/Week2/BoW.png?raw=true)\n",
    "\n",
    "\n"
   ]
  },
  {
   "cell_type": "code",
   "execution_count": 18,
   "metadata": {},
   "outputs": [
    {
     "name": "stdout",
     "output_type": "stream",
     "text": [
      "Bag of Words: ['AI', 'Toán', 'Tôi', 'môn', 'nhạc', 'thích', 'âm']\n",
      "Input:  ['Tôi', 'thích', 'AI', 'thích', 'Toán']\n"
     ]
    },
    {
     "data": {
      "text/plain": [
       "[1, 1, 1, 0, 0, 2, 0]"
      ]
     },
     "execution_count": 18,
     "metadata": {},
     "output_type": "execute_result"
    }
   ],
   "source": [
    "def tokenization(vector):\n",
    "    corpus = [\"Tôi thích môn Toán\", \"Tôi thích AI\", \"Tôi thích âm nhạc\"]\n",
    "    vocabulary = list(set(\" \".join(corpus).split()))\n",
    "    vocabulary.sort()\n",
    "    list_zeros = [0] * len(vocabulary)\n",
    "    print(\"Bag of Words:\", vocabulary)\n",
    "    count = 0\n",
    "\n",
    "    data = vector.split()\n",
    "    print(\"Input: \", data)\n",
    "    for text in data:\n",
    "        count = data.count(text)\n",
    "        if text in vocabulary:\n",
    "            index = vocabulary.index(text)\n",
    "            list_zeros[index] = count\n",
    "    return list_zeros\n",
    "        \n",
    "test1= \"Tôi thích AI thích Toán\"\n",
    "tokenization(test1)"
   ]
  },
  {
   "cell_type": "markdown",
   "metadata": {},
   "source": [
    "## **Search**"
   ]
  },
  {
   "cell_type": "code",
   "execution_count": 1,
   "metadata": {},
   "outputs": [
    {
     "name": "stdout",
     "output_type": "stream",
     "text": [
      "Vị trí None đầu tiên: 2 - Danh sách vị trí có giá trị None: [2, 4, 6]\n"
     ]
    }
   ],
   "source": [
    "def find_None(list_data):\n",
    "    data = []\n",
    "    for i, value in enumerate(list_data):\n",
    "        if value == None:\n",
    "            data.append(i)\n",
    "    return print(\"Vị trí None đầu tiên:\", data[0], \"- Danh sách vị trí có giá trị None:\", data)\n",
    "\n",
    "lst_data = [1, 1.1, None, 1.4, None, 1.5, None, 2.0]\n",
    "find_None(lst_data)"
   ]
  },
  {
   "cell_type": "markdown",
   "metadata": {},
   "source": [
    "## **Interpolate (Nội suy)**\n",
    "### **Nearest Neighbor**"
   ]
  },
  {
   "cell_type": "code",
   "execution_count": 28,
   "metadata": {},
   "outputs": [
    {
     "data": {
      "text/plain": [
       "[1, 1.1, 1.1, 1.4, 1.4, 1.5, 1.5, 2.0]"
      ]
     },
     "execution_count": 28,
     "metadata": {},
     "output_type": "execute_result"
    }
   ],
   "source": [
    "def interpolate(list_data):\n",
    "    data = []\n",
    "    for i in range(len(list_data)):\n",
    "        if list_data[i] == None:\n",
    "            data.append(list_data[i-1])\n",
    "            continue\n",
    "        data.append(list_data[i])\n",
    "    return data\n",
    "\n",
    "lst_data = [1, 1.1, None, 1.4, None, 1.5, None, 2.0]\n",
    "interpolate(lst_data)"
   ]
  },
  {
   "cell_type": "markdown",
   "metadata": {},
   "source": [
    "## **2D List**"
   ]
  },
  {
   "cell_type": "code",
   "execution_count": 4,
   "metadata": {},
   "outputs": [
    {
     "name": "stdout",
     "output_type": "stream",
     "text": [
      "[[1, 3], [4, 6], [7, 9]]\n",
      "[[1, 3], [4, 6], [7, 9]]\n",
      "[[1, 3], [4, 6], [7, 9]]\n"
     ]
    }
   ],
   "source": [
    "list_2D = [\n",
    "    [1,2,3],\n",
    "    [4,5,6],\n",
    "    [7,8,9],]\n",
    "\n",
    "list_sub_data = []\n",
    "for i in range(len(list_2D)):\n",
    "    result = []\n",
    "    for j in range(len(list_2D)):\n",
    "        if j == 0 or j == 2:\n",
    "            result.append(list_2D[i][j])\n",
    "    list_sub_data.append(result)\n",
    "print(list_sub_data)\n",
    "\n",
    "lst_data = [[1,2,3],\n",
    "            [4,5,6],\n",
    "            [7,8,9]]\n",
    "lst_sub_data = []\n",
    "\n",
    "for row in lst_data:\n",
    "    row_sub = [row[0], row[2]]\n",
    "    lst_sub_data.append(row_sub)\n",
    "print(lst_sub_data)\n",
    "\n",
    "lst_sub_data = [[lst_data[i][0],lst_data[i][2]]\n",
    "                 for i in range(len(lst_data))]\n",
    "print(lst_sub_data)\n"
   ]
  },
  {
   "cell_type": "markdown",
   "metadata": {},
   "source": [
    "## **Matrix representation using List**"
   ]
  },
  {
   "cell_type": "code",
   "execution_count": 28,
   "metadata": {},
   "outputs": [
    {
     "name": "stdout",
     "output_type": "stream",
     "text": [
      "[[3, 6, 9], [5, 8, 11], [8, 8, 10]]\n",
      "[[-1, -2, -3], [3, 2, 1], [6, 8, 8]]\n",
      "[[7, 10, 19], [19, 31, 55], [31, 52, 91]]\n",
      "\n",
      "Test case 1: Ma trận vuông cùng kích thước\n",
      "Matrix 1: [[1, 2], [3, 4]]\n",
      "Matrix 2: [[5, 6], [7, 8]]\n",
      "Dot product:\n",
      "[[19, 22], [43, 50]]\n",
      "\n",
      "Test case 2: Ma trận khác kích thước\n",
      "Matrix 3: [[1, 2, 3], [4, 5, 6]]\n",
      "Matrix 4: [[1, 2], [3, 4], [5, 6]]\n",
      "Dot product:\n",
      "[[22, 28], [49, 64]]\n",
      "\n",
      "Test case 3: Ma trận không tương thích\n",
      "Matrix 5: [[1, 2], [3, 4]]\n",
      "Matrix 6: [[1, 2, 3], [4, 5, 6], [7, 8, 9]]\n",
      "Dot product:\n",
      "Không thể nhân hai ma trận này\n"
     ]
    }
   ],
   "source": [
    "def tong(matrix1, matrix2):\n",
    "    if len(matrix1) != len(matrix2) or len(matrix1[0]) != len(matrix2[0]):\n",
    "        return print(\"Không cùng kích thước\")\n",
    "    lenght = len(matrix1)\n",
    "    result = []\n",
    "    for i in range(lenght):\n",
    "        tong = []\n",
    "        for j in range(lenght):\n",
    "            tong.append(matrix1[i][j] + matrix2[i][j])\n",
    "        result.append(tong)\n",
    "    return print(result)\n",
    "\n",
    "def hieu(matrix1, matrix2):\n",
    "    if len(matrix1) != len(matrix2) or len(matrix1[0]) != len(matrix2[0]):\n",
    "        return print(\"Không cùng kích thước\")\n",
    "    lenght = len(matrix1)\n",
    "    result = []\n",
    "    for i in range(lenght):\n",
    "        hieu = []\n",
    "        for j in range(lenght):\n",
    "            hieu.append(matrix1[i][j] - matrix2[i][j])\n",
    "        result.append(hieu)\n",
    "    return print(result)\n",
    "\n",
    "def dot_product(matrix1, matrix2):\n",
    "    # Kiểm tra kích thước ma trận có phù hợp cho phép nhân hay không\n",
    "    if len(matrix1[0]) != len(matrix2):\n",
    "        return print(\"Không thể nhân hai ma trận này\")\n",
    "    \n",
    "    rows1 = len(matrix1)\n",
    "    cols1 = len(matrix1[0]) \n",
    "    cols2 = len(matrix2[0])\n",
    "    \n",
    "    result = []\n",
    "    for i in range(rows1):\n",
    "        dot = []\n",
    "        for j in range(cols2):\n",
    "            tong_tich = 0\n",
    "            for k in range(cols1):\n",
    "                tong_tich += matrix1[i][k] * matrix2[k][j]\n",
    "            dot.append(tong_tich)\n",
    "        result.append(dot)\n",
    "    return print(result)\n",
    "    \n",
    "\n",
    "mat_a = [[1,2,3],[4,5,6],[7,8,9]]\n",
    "mat_b = [[2,4,6],[1,3,5],[1,0,1]]\n",
    "tong(mat_a, mat_b)\n",
    "hieu(mat_a, mat_b)\n",
    "dot_product(mat_a, mat_b)\n",
    "\n",
    "# Test case 1: Ma trận vuông cùng kích thước\n",
    "print(\"\\nTest case 1: Ma trận vuông cùng kích thước\")\n",
    "matrix1 = [[1, 2], [3, 4]]\n",
    "matrix2 = [[5, 6], [7, 8]]\n",
    "print(\"Matrix 1:\", matrix1)\n",
    "print(\"Matrix 2:\", matrix2) \n",
    "print(\"Dot product:\")\n",
    "dot_product(matrix1, matrix2)\n",
    "\n",
    "# Test case 2: Ma trận khác kích thước nhưng có thể nhân được\n",
    "print(\"\\nTest case 2: Ma trận khác kích thước\")\n",
    "matrix3 = [[1, 2, 3], [4, 5, 6]]\n",
    "matrix4 = [[1, 2], [3, 4], [5, 6]]\n",
    "print(\"Matrix 3:\", matrix3)\n",
    "print(\"Matrix 4:\", matrix4)\n",
    "print(\"Dot product:\")\n",
    "dot_product(matrix3, matrix4)\n",
    "\n",
    "# Test case 3: Ma trận không tương thích cho dot product\n",
    "print(\"\\nTest case 3: Ma trận không tương thích\")\n",
    "matrix5 = [[1, 2], [3, 4]]\n",
    "matrix6 = [[1, 2, 3], [4, 5, 6], [7, 8, 9]]\n",
    "print(\"Matrix 5:\", matrix5)\n",
    "print(\"Matrix 6:\", matrix6)\n",
    "print(\"Dot product:\")\n",
    "dot_product(matrix5, matrix6)\n",
    "\n"
   ]
  },
  {
   "cell_type": "markdown",
   "metadata": {},
   "source": [
    "## **List Comprehension**\n",
    "### **Stopwords**"
   ]
  },
  {
   "cell_type": "code",
   "execution_count": 31,
   "metadata": {},
   "outputs": [
    {
     "name": "stdout",
     "output_type": "stream",
     "text": [
      "['AI', 'listen', 'music']\n"
     ]
    }
   ],
   "source": [
    "stop_words = [\"I\",\"love\",'and','to']\n",
    "input = \"I love AI and listen to music\"\n",
    "\n",
    "print([word for word in input.split() if word not in stop_words])"
   ]
  },
  {
   "cell_type": "markdown",
   "metadata": {},
   "source": [
    "## **Normalization**\n",
    "\n",
    "### Công thức chuẩn hóa dữ liệu:\n",
    "# \n",
    "#### $X' = \\frac{X - min(X)}{max(X) - min(X)}$\n",
    "\n",
    "\n"
   ]
  },
  {
   "cell_type": "code",
   "execution_count": 32,
   "metadata": {},
   "outputs": [
    {
     "name": "stdout",
     "output_type": "stream",
     "text": [
      "Test 1: [0.0, 0.28, 0.52, 0.76, 1.0]\n",
      "Test 2: [0.0, 0.25, 0.5, 0.75, 1.0]\n",
      "Test 3: [0.0, 0.25, 0.5, 0.75, 1.0]\n"
     ]
    }
   ],
   "source": [
    "def normalization(lst_data):\n",
    "    x_max = max(lst_data)\n",
    "    x_min = min(lst_data)\n",
    "    result = []\n",
    "    for x in lst_data:\n",
    "        result.append((x - x_min)/(x_max - x_min))\n",
    "    return result\n",
    "\n",
    "test_cases = [\n",
    "    [11, 18, 24, 30, 36],\n",
    "    [50, 100, 150, 200, 250],\n",
    "    [3, 5, 7, 9, 11]\n",
    "]\n",
    "\n",
    "for i, test in enumerate(test_cases):\n",
    "    result = normalization(test)\n",
    "    print(f\"Test {i+1}: {result}\")"
   ]
  },
  {
   "cell_type": "markdown",
   "metadata": {},
   "source": [
    "## **Moving Average**\n",
    "### Công thức Moving Average:\n",
    "#### $MA_t = \\frac{1}{k} \\sum_{i=t-k+1}^{t} X_i$"
   ]
  },
  {
   "cell_type": "code",
   "execution_count": 36,
   "metadata": {},
   "outputs": [
    {
     "name": "stdout",
     "output_type": "stream",
     "text": [
      "Test 1: [2.0, 3.0, 4.0, 5.0, 6.0, 7.0, 8.0]\n",
      "Test 2: [25.0, 35.0, 45.0, 55.0]\n",
      "Test 3: [7.5, 12.5, 17.5, 22.5]\n"
     ]
    }
   ],
   "source": [
    "def moving_average(lst, k):\n",
    "    result = []\n",
    "    for i in range(len(lst)-k+1):\n",
    "        window = lst[i:i+k]\n",
    "        avg = sum(window)/k\n",
    "        result.append(avg)\n",
    "    return result\n",
    "\n",
    "test_cases = [\n",
    "    ([1, 2, 3, 4, 5, 6, 7, 8, 9], 3),\n",
    "    ([10, 20, 30, 40, 50, 60, 70], 4),\n",
    "    ([5, 10, 15, 20, 25], 2)\n",
    "]\n",
    "\n",
    "for i, (test, k) in enumerate(test_cases):\n",
    "    result = moving_average(test, k)\n",
    "    print(f\"Test {i+1}: {result}\")\n"
   ]
  },
  {
   "cell_type": "markdown",
   "metadata": {},
   "source": [
    "## **Tích vô hướng của 2 vector**\n",
    "#### $v_1 \\cdot v_2 = \\sum_{i=1}^{n} v_1[i] \\times v_2[i]$\n"
   ]
  },
  {
   "cell_type": "code",
   "execution_count": 37,
   "metadata": {},
   "outputs": [
    {
     "name": "stdout",
     "output_type": "stream",
     "text": [
      "Test 1: 32\n",
      "Test 2: 44\n",
      "Test 3: 14\n"
     ]
    }
   ],
   "source": [
    "def dot_product(v1, v2):\n",
    "    if len(v1) != len(v2):\n",
    "        return \"Hai vector phải có cùng độ dài\"\n",
    "    result = 0\n",
    "    for i in range(len(v1)):\n",
    "        result += v1[i] * v2[i]\n",
    "    return result\n",
    "\n",
    "test_cases = [\n",
    "    ([1, 2, 3], [4, 5, 6]),\n",
    "    ([2, 4, 6], [1, 3, 5]),\n",
    "    ([0, 1, 2], [3, 4, 5])\n",
    "]\n",
    "\n",
    "for i, (v1, v2) in enumerate(test_cases):\n",
    "    result = dot_product(v1, v2)\n",
    "    print(f\"Test {i+1}: {result}\")\n"
   ]
  },
  {
   "cell_type": "markdown",
   "metadata": {},
   "source": [
    "## **Perception**\n",
    "\n",
    "##### $y = \\sum w_i \\cdot x_i + bias$\n",
    "#### $Output = ReLU(y)$\n",
    "#\n",
    "\n"
   ]
  },
  {
   "cell_type": "code",
   "execution_count": 39,
   "metadata": {},
   "outputs": [
    {
     "name": "stdout",
     "output_type": "stream",
     "text": [
      "Test 1: 1.0\n",
      "Test 2: 1.7000000000000002\n",
      "Test 3: 0\n"
     ]
    }
   ],
   "source": [
    "def perception_relu(weights, inputs, bias):\n",
    "    y = 0\n",
    "    for i in range(len(inputs)):\n",
    "        y += weights[i] * inputs[i]\n",
    "    y += bias\n",
    "    return max(0, y)\n",
    "\n",
    "    \n",
    "# Test cases\n",
    "test_cases = [\n",
    "    ([0.5, -0.6, 0.8], [1.0, 0.0, 1.0], -0.3),\n",
    "    ([0.2, 0.5, -0.4], [1.0, 2.0, -1.0], 0.1),\n",
    "    ([1.0, -1.0, 0.5], [0.5, 1.0, -0.5], -0.2)\n",
    "]\n",
    "\n",
    "for i, (weights, inputs, bias) in enumerate(test_cases):\n",
    "    result = perception_relu(weights, inputs, bias)\n",
    "    print(f\"Test {i+1}: {result}\")\n"
   ]
  }
 ],
 "metadata": {
  "kernelspec": {
   "display_name": "Python 3",
   "language": "python",
   "name": "python3"
  },
  "language_info": {
   "codemirror_mode": {
    "name": "ipython",
    "version": 3
   },
   "file_extension": ".py",
   "mimetype": "text/x-python",
   "name": "python",
   "nbconvert_exporter": "python",
   "pygments_lexer": "ipython3",
   "version": "3.12.6"
  }
 },
 "nbformat": 4,
 "nbformat_minor": 2
}
