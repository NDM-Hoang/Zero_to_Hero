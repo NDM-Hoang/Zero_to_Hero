{
 "cells": [
  {
   "cell_type": "code",
   "execution_count": 12,
   "metadata": {},
   "outputs": [
    {
     "name": "stdout",
     "output_type": "stream",
     "text": [
      "Tổng số tiền sau 12 ngày là: 2.613035290224677\n",
      "Tổng số tiền sau 365 ngày là: 2.714567482021875\n",
      "Tổng số tiền sau 730 ngày là: 2.716422326460245\n"
     ]
    }
   ],
   "source": [
    "class InterestMoneyPrediction:\n",
    "    def __init__(self, money, period):\n",
    "        self.money = money\n",
    "        self.period = period\n",
    "\n",
    "    def compute_interest(self):\n",
    "        interest_money = self.money\n",
    "        for day in range(self.period):\n",
    "            interest_money += interest_money * 1/self.period\n",
    "        return print(f\"Tổng số tiền sau {self.period} ngày là: {interest_money}\")\n",
    "\n",
    "test1 = InterestMoneyPrediction(1, 12)\n",
    "test1.compute_interest()\n",
    "\n",
    "test2 = InterestMoneyPrediction(1, 365)\n",
    "test2.compute_interest()\n",
    "\n",
    "test3 = InterestMoneyPrediction(1, 730)\n",
    "test3.compute_interest()"
   ]
  }
 ],
 "metadata": {
  "kernelspec": {
   "display_name": "Python 3",
   "language": "python",
   "name": "python3"
  },
  "language_info": {
   "codemirror_mode": {
    "name": "ipython",
    "version": 3
   },
   "file_extension": ".py",
   "mimetype": "text/x-python",
   "name": "python",
   "nbconvert_exporter": "python",
   "pygments_lexer": "ipython3",
   "version": "3.12.9"
  }
 },
 "nbformat": 4,
 "nbformat_minor": 2
}
