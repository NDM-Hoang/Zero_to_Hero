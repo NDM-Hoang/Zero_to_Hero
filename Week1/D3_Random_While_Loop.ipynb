{
 "cells": [
  {
   "cell_type": "code",
   "execution_count": 23,
   "metadata": {},
   "outputs": [
    {
     "name": "stdout",
     "output_type": "stream",
     "text": [
      "266\n",
      "32\n",
      "96\n"
     ]
    }
   ],
   "source": [
    "import random\n",
    "\n",
    "def random_number_with_condition(total):\n",
    "    random.seed(0)\n",
    "    count = 0\n",
    "    while True:\n",
    "        a = random.randint(1, 20)\n",
    "        b = random.randint(1, 20)\n",
    "        count += 1\n",
    "        if a + b == total:\n",
    "           break\n",
    "    return print(count)\n",
    "    \n",
    "random_number_with_condition(40)\n",
    "random_number_with_condition(20)\n",
    "random_number_with_condition(35)\n"
   ]
  }
 ],
 "metadata": {
  "kernelspec": {
   "display_name": "Python 3",
   "language": "python",
   "name": "python3"
  },
  "language_info": {
   "codemirror_mode": {
    "name": "ipython",
    "version": 3
   },
   "file_extension": ".py",
   "mimetype": "text/x-python",
   "name": "python",
   "nbconvert_exporter": "python",
   "pygments_lexer": "ipython3",
   "version": "3.12.9"
  }
 },
 "nbformat": 4,
 "nbformat_minor": 2
}
