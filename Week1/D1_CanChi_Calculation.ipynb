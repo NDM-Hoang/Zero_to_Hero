{
 "cells": [
  {
   "cell_type": "code",
   "execution_count": 5,
   "metadata": {},
   "outputs": [
    {
     "name": "stdout",
     "output_type": "stream",
     "text": [
      "Mậu Dần\n"
     ]
    }
   ],
   "source": [
    "class CanChiCalendar:\n",
    "    def __init__(self, year):\n",
    "        self.__year = year\n",
    "    \n",
    "    def get_year(self):\n",
    "        return self.__year\n",
    "    \n",
    "    def set_year(self, year):\n",
    "        self.__year = year\n",
    "    \n",
    "    def calculate_can_chi(self):\n",
    "        can = [\"Canh\", \"Tân\", \"Nhâm\", \"Quý\", \"Giáp\", \"Ất\", \"Bính\", \"Đinh\", \"Mậu\", \"Kỷ\"]\n",
    "        chi = [\"Thân\", \"Dậu\", \"Tuất\", \"Hợi\", \"Tý\", \"Sửu\", \"Dần\", \"Mão\", \"Thìn\", \"Tỵ\", \"Ngọ\", \"Mùi\"]\n",
    "        if self.__year < 0:\n",
    "            return \"Năm không hợp lệ\"\n",
    "        \n",
    "        return print(can[self.__year % 10],chi[self.__year % 12])\n",
    "\n",
    "if __name__ == \"__main__\":\n",
    "    year = 1998\n",
    "    can_chi = CanChiCalendar(year)\n",
    "    can_chi.calculate_can_chi()\n"
   ]
  }
 ],
 "metadata": {
  "kernelspec": {
   "display_name": "Python 3",
   "language": "python",
   "name": "python3"
  },
  "language_info": {
   "codemirror_mode": {
    "name": "ipython",
    "version": 3
   },
   "file_extension": ".py",
   "mimetype": "text/x-python",
   "name": "python",
   "nbconvert_exporter": "python",
   "pygments_lexer": "ipython3",
   "version": "3.12.9"
  }
 },
 "nbformat": 4,
 "nbformat_minor": 2
}
