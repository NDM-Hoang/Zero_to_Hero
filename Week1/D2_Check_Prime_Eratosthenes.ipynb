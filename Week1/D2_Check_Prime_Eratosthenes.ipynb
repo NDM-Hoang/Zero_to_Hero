{
 "cells": [
  {
   "cell_type": "code",
   "execution_count": 9,
   "metadata": {},
   "outputs": [
    {
     "name": "stdout",
     "output_type": "stream",
     "text": [
      "True\n",
      "True\n",
      "False\n",
      "False\n"
     ]
    }
   ],
   "source": [
    "import math\n",
    "\n",
    "class PrimeEratosthenes:\n",
    "    def __init__(self, number):\n",
    "        if number < 0:\n",
    "            raise ValueError(\"Số nguyên tố không âm\")\n",
    "        self.number = number\n",
    "    \n",
    "    def is_prime_eratosthenes(self):\n",
    "        if self.number < 2:\n",
    "            return print(False)\n",
    "        else:\n",
    "            is_prime = [True] * (self.number + 1)\n",
    "            is_prime[0] = is_prime[1] = False\n",
    "            for i in range(2, int(math.sqrt(self.number)) + 1):\n",
    "                if is_prime[i]:\n",
    "                    for j in range(i**2, self.number + 1, i):\n",
    "                        is_prime[j] = False\n",
    "            return print(is_prime[self.number])\n",
    "\n",
    "\n",
    "test1 = PrimeEratosthenes(2)\n",
    "test1.is_prime_eratosthenes()\n",
    "test2 = PrimeEratosthenes(7)\n",
    "test2.is_prime_eratosthenes()\n",
    "test3 = PrimeEratosthenes(10)\n",
    "test3.is_prime_eratosthenes()\n",
    "test4 = PrimeEratosthenes(1)\n",
    "test4.is_prime_eratosthenes()\n",
    "\n"
   ]
  }
 ],
 "metadata": {
  "kernelspec": {
   "display_name": "Python 3",
   "language": "python",
   "name": "python3"
  },
  "language_info": {
   "codemirror_mode": {
    "name": "ipython",
    "version": 3
   },
   "file_extension": ".py",
   "mimetype": "text/x-python",
   "name": "python",
   "nbconvert_exporter": "python",
   "pygments_lexer": "ipython3",
   "version": "3.12.9"
  }
 },
 "nbformat": 4,
 "nbformat_minor": 2
}
