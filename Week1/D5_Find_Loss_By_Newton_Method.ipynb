{
 "cells": [
  {
   "cell_type": "code",
   "execution_count": 2,
   "metadata": {},
   "outputs": [
    {
     "name": "stdout",
     "output_type": "stream",
     "text": [
      "1.4142135623746899\n",
      "1.7320508100147276\n"
     ]
    }
   ],
   "source": [
    "def find_squared_root(a):\n",
    "    Epsilon = 0.001\n",
    "    \n",
    "    if a < 0:\n",
    "        return print(\"Không tồn tại căn bậc 2 của số âm\")\n",
    "    elif a == 0:\n",
    "        return print(\"Căn bậc 2 của 0 là 0\")\n",
    "    else:\n",
    "        x_n1 = a\n",
    "        x_n = 0\n",
    "        while abs(x_n1 - x_n) >= Epsilon:\n",
    "            x_n = x_n1\n",
    "            x_n1 = x_n - (x_n**2 - a) / (2*x_n)\n",
    "        return print(x_n1)\n",
    "\n",
    "find_squared_root(2)\n",
    "find_squared_root(3)\n"
   ]
  }
 ],
 "metadata": {
  "kernelspec": {
   "display_name": "Python 3",
   "language": "python",
   "name": "python3"
  },
  "language_info": {
   "codemirror_mode": {
    "name": "ipython",
    "version": 3
   },
   "file_extension": ".py",
   "mimetype": "text/x-python",
   "name": "python",
   "nbconvert_exporter": "python",
   "pygments_lexer": "ipython3",
   "version": "3.12.9"
  }
 },
 "nbformat": 4,
 "nbformat_minor": 2
}
