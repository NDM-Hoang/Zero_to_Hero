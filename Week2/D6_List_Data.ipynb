{
 "cells": [
  {
   "cell_type": "code",
   "execution_count": 7,
   "metadata": {},
   "outputs": [
    {
     "name": "stdout",
     "output_type": "stream",
     "text": [
      "[1, 2, 3, 4, 5]\n",
      "[1, 3, 5, 7, 9]\n",
      "55\n"
     ]
    }
   ],
   "source": [
    "list_data = list(range(1, 11))\n",
    "print(list_data[:5])\n",
    "print([list_data[i] for i in range(len(list_data)) if list_data[i] % 2 != 0])\n",
    "tong = 0\n",
    "for i in range(len(list_data)):\n",
    "    tong += list_data[i]\n",
    "print(tong)\n"
   ]
  }
 ],
 "metadata": {
  "kernelspec": {
   "display_name": "Python 3",
   "language": "python",
   "name": "python3"
  },
  "language_info": {
   "codemirror_mode": {
    "name": "ipython",
    "version": 3
   },
   "file_extension": ".py",
   "mimetype": "text/x-python",
   "name": "python",
   "nbconvert_exporter": "python",
   "pygments_lexer": "ipython3",
   "version": "3.12.9"
  }
 },
 "nbformat": 4,
 "nbformat_minor": 2
}
