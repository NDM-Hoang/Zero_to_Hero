{
 "cells": [
  {
   "cell_type": "markdown",
   "metadata": {},
   "source": [
    "## **CRUD - Create, Read, Update, Delete**"
   ]
  },
  {
   "cell_type": "code",
   "execution_count": 21,
   "metadata": {},
   "outputs": [
    {
     "name": "stdout",
     "output_type": "stream",
     "text": [
      "[2, 4, 6, 8, 10, 12]\n",
      "[2, 4, 8, 10]\n",
      "[2, 4, 8, 10, 1, 2, 3]\n",
      "[2, 4, 8, 6, 7, 8, 10, 1, 2, 3]\n",
      "[0, 0, 0, 0, 7, 0, 0, 1, 0, 3]\n"
     ]
    }
   ],
   "source": [
    "lst_data = list(range(2,13,2))\n",
    "print(lst_data)\n",
    "lst_data.append(12)\n",
    "\n",
    "lst_to_remove = [x for x in lst_data if x % 3 == 0]\n",
    "\n",
    "for item in lst_to_remove:\n",
    "    lst_data.remove(item)\n",
    "print(lst_data)\n",
    "\n",
    "lst_data.extend(range(1,4))\n",
    "print(lst_data)\n",
    "\n",
    "lst_data[3:3] = [6,7,8]\n",
    "print(lst_data)\n",
    "\n",
    "lst_data = [0 if x % 2 == 0 or x % 5 == 0 else x for x in lst_data]\n",
    "print(lst_data)\n"
   ]
  }
 ],
 "metadata": {
  "kernelspec": {
   "display_name": "Python 3",
   "language": "python",
   "name": "python3"
  },
  "language_info": {
   "codemirror_mode": {
    "name": "ipython",
    "version": 3
   },
   "file_extension": ".py",
   "mimetype": "text/x-python",
   "name": "python",
   "nbconvert_exporter": "python",
   "pygments_lexer": "ipython3",
   "version": "3.12.6"
  }
 },
 "nbformat": 4,
 "nbformat_minor": 2
}
